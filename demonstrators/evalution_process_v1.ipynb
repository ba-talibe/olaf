{
 "cells": [
  {
   "cell_type": "markdown",
   "metadata": {},
   "source": [
    "In this notebook we aim to develop a protocole to evaluate OLAF pipelines:\n",
    "\n",
    "\n",
    "To achieve this task , we will follow this steps:\n",
    "\n",
    "- Select a corpus.\n",
    "- Select and create relevent concepts from the corpus.\n",
    "- Create several pipelines with different components and parameters.\n",
    "- Run all the pipelines.\n",
    "- Find concepts involved in complete triples (relation with no null source and destination concepts) for each pipeline.\n",
    "- Etablish the matching percentage of found concepts compared to selected concepts on step 2.\n"
   ]
  },
  {
   "cell_type": "code",
   "execution_count": 2,
   "metadata": {},
   "outputs": [
    {
     "name": "stderr",
     "output_type": "stream",
     "text": [
      "/home/oumar/Bureau/ontology-learning/env/lib/python3.10/site-packages/tqdm/auto.py:21: TqdmWarning: IProgress not found. Please update jupyter and ipywidgets. See https://ipywidgets.readthedocs.io/en/stable/user_install.html\n",
      "  from .autonotebook import tqdm as notebook_tqdm\n"
     ]
    }
   ],
   "source": [
    "import spacy\n",
    "from typing import Set, List\n",
    "\n",
    "from olaf import Pipeline\n",
    "from olaf.data_container.relation_schema import Relation, Concept\n",
    "from olaf.data_container.knowledge_representation_schema import KnowledgeRepresentation\n",
    "from olaf.pipeline.pipeline_component.term_extraction import POSTermExtraction\n",
    "from olaf.pipeline.pipeline_component.concept_relation_extraction import (\n",
    "    CTsToConceptExtraction,\n",
    "    CTsToRelationExtraction,\n",
    "    SynonymRelationExtraction,\n",
    "    SynonymConceptExtraction,\n",
    "    AgglomerativeClusteringRelationExtraction,\n",
    "    AgglomerativeClusteringConceptExtraction\n",
    ")\n",
    "from olaf.pipeline.pipeline_component.term_extraction.tfidf_term_extraction import (\n",
    "    TFIDFTermExtraction,\n",
    ")\n",
    "from olaf.pipeline.pipeline_component.term_extraction.manual_candidate_terms import (\n",
    "    ManualCandidateTermExtraction,\n",
    ")\n",
    "from olaf.repository.corpus_loader.text_corpus_loader import TextCorpusLoader"
   ]
  },
  {
   "cell_type": "code",
   "execution_count": 3,
   "metadata": {},
   "outputs": [],
   "source": [
    "nlp = spacy.load(\"en_core_web_lg\")"
   ]
  },
  {
   "cell_type": "markdown",
   "metadata": {},
   "source": [
    "# Select Corpus"
   ]
  },
  {
   "cell_type": "code",
   "execution_count": 4,
   "metadata": {},
   "outputs": [
    {
     "data": {
      "text/plain": [
       "['Each defect type is described in detail, explaining how it appears on the steel strip surface and the reasons behind its occurrence:',\n",
       " '    Punching: In the production line of the strip, the steel strip needs to be punched according to the product specifications; mechanical failure may lead to unwanted punching, resulting in punching defects.',\n",
       " '    Welding line: When the strip is changed, it is necessary to weld the two coils of the strip, and the weld line is produced. Strictly speaking, this is not a defect, but it needs to be automatically detected and tracked to be circumvented in subsequent cuts.',\n",
       " '    Crescent gap: In the production of steel strip, cutting sometimes results in defects, just like half a circle.',\n",
       " '    Water spot: A water spot is produced by drying in production. Under different products and processes, the requirements for this defect are different. However, because the water spots are generally with low contrast, and are similar to other defects such as oil spots, they are usually detected by mistake.',\n",
       " '    Oil spot: An oil spot is usually caused by the contamination of mechanical lubricant, which will affect the appearance of the product.',\n",
       " '    Silk spot: A local or continuous wave-like plaque on a strip surface that may appear on the upper and lower surfaces, and the density is uneven in the whole strip length direction. Generally, the main reason lies in the uneven temperature of the roller and uneven pressure.',\n",
       " '    Inclusion: Inclusion is a typical defect of metal surface defects, usually showing small spots, fish scale shape, strip shape, block irregular distribution in the strip of the upper and lower surface (global or local), and is often accompanied by rough pockmarked surfaces. Some inclusions are loose and easy to fall off and some are pressed into the plate.',\n",
       " '    Rolled pit: Rolled pits are periodic bulges or pits on the surface of a steel plate that are punctate, flaky, or strip-like. They are distributed throughout the strip length or section, mainly caused by work roll or tension roll damage.',\n",
       " '    Crease: A crease is a vertical transverse fold, with regular or irregular spacing across the strip, or at the edge of the strip. The main reason is the local yield along the moving direction of the strip in the uncoiling process.',\n",
       " '    Waist folding: There are obvious folds in the defect parts, a little more popular, a little like wrinkles, indicating that the local deformation of the defect is too large. The reason is due to low-carbon.']"
      ]
     },
     "execution_count": 4,
     "metadata": {},
     "output_type": "execute_result"
    }
   ],
   "source": [
    "corpus_path = \"GC10-DET_doc.txt\"\n",
    "corpus = TextCorpusLoader(corpus_path)._read_corpus()\n",
    "corpus = [doc[:-1] for doc in corpus]\n",
    "corpus"
   ]
  },
  {
   "cell_type": "markdown",
   "metadata": {},
   "source": [
    "# Select and create relevent concepts from the corpus.\n"
   ]
  },
  {
   "cell_type": "code",
   "execution_count": 30,
   "metadata": {},
   "outputs": [
    {
     "name": "stdout",
     "output_type": "stream",
     "text": [
      "[Punching, Welding line, Crescent Gap, Water spot, Oil spot, Silk spot, Inclusion, Rolled pit, Crease, Waist folding, metal surface defect, mechanical failure, drying, mechanical lubricant, temperature, pressure, work roll damage, tension roll damage, local yield, low-carbo]\n"
     ]
    }
   ],
   "source": [
    "expected_concepts = []\n",
    "with open(\"concepts.txt\", 'r') as f:\n",
    "    lines = f.readlines()\n",
    "    expected_concepts = [concept[:-1] for concept in lines]\n",
    "    expected_concepts = [Concept(concept) for concept in expected_concepts]\n",
    "    f.close()\n",
    "\n",
    "print(expected_concepts)\n"
   ]
  },
  {
   "cell_type": "code",
   "execution_count": 28,
   "metadata": {},
   "outputs": [],
   "source": [
    "def get_concept_ratio(pipeline : Pipeline, excepted_concepts : List[Concept]) -> tuple:\n",
    "    \"\"\"\n",
    "    Calculate the ratio of expected and unexpected concepts in a given pipeline.\n",
    "\n",
    "    Parameters\n",
    "    ----------\n",
    "    pipeline : Pipeline\n",
    "        The pipeline object containing concepts.\n",
    "    expected_concepts : List[Concept]\n",
    "        A list of expected concepts.\n",
    "\n",
    "    Returns\n",
    "    -------\n",
    "    Tuple[float, float]: A tuple containing:\n",
    "        The percentage of expected concepts found in the pipeline.\n",
    "        The percentage of unexpected concepts in the pipeline.\n",
    "    \"\"\"\n",
    "    concepts = pipeline.kr.concepts\n",
    "    expected_concept_occ = 0\n",
    "    for expected_concept in expected_concepts:\n",
    "        if any([expected_concept.label == concept.label for concept in concepts]):\n",
    "            expected_concept_occ += 1\n",
    "\n",
    "    unexpected_concept_occ = (len(concepts) - expected_concept_occ)\n",
    "\n",
    "    return (\n",
    "        expected_concept_occ*100/len(expected_concepts), \n",
    "        unexpected_concept_occ*100/len(concepts)\n",
    "    )"
   ]
  },
  {
   "cell_type": "markdown",
   "metadata": {},
   "source": [
    "# Create several pipelines with different components and parameters.\n"
   ]
  },
  {
   "cell_type": "code",
   "execution_count": 7,
   "metadata": {},
   "outputs": [],
   "source": [
    "pipelines = []"
   ]
  },
  {
   "cell_type": "markdown",
   "metadata": {},
   "source": [
    "## Manuel cancidat extraction pipeline\n"
   ]
  },
  {
   "cell_type": "code",
   "execution_count": 8,
   "metadata": {},
   "outputs": [
    {
     "name": "stderr",
     "output_type": "stream",
     "text": [
      "[2024-06-12 10:20:40,707] [WARNING] [candidate_terms_to_relations] [_check_parameters] [No value given for concept_max_distance parameter, default will be set to 5.]\n"
     ]
    }
   ],
   "source": [
    "from olaf.pipeline.pipeline_component.term_extraction.manual_candidate_terms import (\n",
    "    ManualCandidateTermExtraction,\n",
    ")\n",
    "from olaf.pipeline.pipeline_component.concept_relation_extraction.candidate_terms_to_concepts import CTsToConceptExtraction\n",
    "\n",
    "from olaf.pipeline.pipeline_component.concept_relation_extraction.candidate_terms_to_relations import CTsToRelationExtraction\n",
    "\n",
    "\n",
    "# concept extraction component\n",
    "concepts = [\n",
    "    \"defect type\",\n",
    "    \"steel strip surface\",\n",
    "    \"punching\",\n",
    "    \"mechanical failure\",\n",
    "    \"welding line\",\n",
    "    \"coil\",\n",
    "    \"weld line\",\n",
    "    \"crescent gap\",\n",
    "    \"cutting\",\n",
    "    \"water spot\",\n",
    "    \"drying\",\n",
    "    \"oil spot\",\n",
    "    \"mechanical lubricant\",\n",
    "    \"silk spot\",\n",
    "    \"plaque\",\n",
    "    \"strip surface\",\n",
    "    \"roller\",\n",
    "    \"pressure\",\n",
    "    \"inclusion\",\n",
    "    \"metal surface\",\n",
    "    \"spots\",\n",
    "    \"fish scale shape\",\n",
    "    \"block irregular distribution\",\n",
    "    \"rolled pit\",\n",
    "    \"bulges\",\n",
    "    \"pits\",\n",
    "    \"steel plate\",\n",
    "    \"work roll\",\n",
    "    \"tension roll\",\n",
    "    \"damage\",\n",
    "    \"crease\",\n",
    "    \"fold\",\n",
    "    \"uncoiling process\",\n",
    "    \"waist folding\",\n",
    "    \"deformation\",\n",
    "    \"low-carbon\"\n",
    "]\n",
    "\n",
    "relations = [\n",
    "    \"described\",\n",
    "    \"explaining\",\n",
    "    \"appears\",\n",
    "    \"leads\",\n",
    "    \"resulting\",\n",
    "    \"changed\",\n",
    "    \"produced\",\n",
    "    \"drying\",\n",
    "    \"caused\",\n",
    "    \"affect\",\n",
    "    \"appearing\",\n",
    "    \"lies\",\n",
    "    \"distributed\",\n",
    "    \"accompanied\",\n",
    "    \"showing\",\n",
    "    \"pressed\",\n",
    "    \"occurred\",\n",
    "    \"circumvented\",\n",
    "    \"detected\",\n",
    "    \"tracked\",\n",
    "    \"results\",\n",
    "    \"like\",\n",
    "    \"mainly\",\n",
    "    \"uncoiling\"\n",
    "]\n",
    "\n",
    "ct_concept_label = { concept : {concept} for concept in concepts}\n",
    "\n",
    "manuel_concept_extraction = ManualCandidateTermExtraction(\n",
    "    ct_label_strings_map=ct_concept_label\n",
    ")\n",
    "\n",
    "concept_extraction = CTsToConceptExtraction(\n",
    ")\n",
    "# concept extraction component\n",
    "\n",
    "ct_relation_label = { relation : {relation} for relation in relations}\n",
    "\n",
    "manuel_relation_extraction = ManualCandidateTermExtraction(\n",
    "    ct_label_strings_map=ct_relation_label\n",
    ")\n",
    "\n",
    "relation_extraction = CTsToRelationExtraction(\n",
    ")\n",
    "\n",
    "pipelines.append(\n",
    "    Pipeline(\n",
    "        spacy_model=nlp,\n",
    "        pipeline_components=[\n",
    "            manuel_concept_extraction,\n",
    "            concept_extraction,\n",
    "            manuel_relation_extraction,\n",
    "            relation_extraction,\n",
    "        ],\n",
    "        corpus=list(nlp.pipe(corpus)),\n",
    "    )\n",
    ")"
   ]
  },
  {
   "cell_type": "code",
   "execution_count": 26,
   "metadata": {},
   "outputs": [
    {
     "name": "stdout",
     "output_type": "stream",
     "text": [
      "20.0\n",
      "98.96103896103897\n"
     ]
    }
   ],
   "source": [
    "current_pipeline = pipelines[0]\n",
    "current_pipeline.run()\n",
    "\n",
    "concepts = current_pipeline.kr.concepts\n",
    "\n",
    "expected_concept_occ = sum([ \n",
    "        any([expected_concept.label == concept.label for concept in concepts])\n",
    "        for  expected_concept in expected_concepts\n",
    "    ])\n",
    "\n",
    "unexpected_concept_occ = len(concepts) - expected_concept_occ\n",
    "\n",
    "print(expected_concept_occ*100/len(expected_concepts))\n",
    "print(unexpected_concept_occ*100/len(concepts))"
   ]
  },
  {
   "cell_type": "code",
   "execution_count": 31,
   "metadata": {},
   "outputs": [
    {
     "data": {
      "text/plain": [
       "(20.0, 98.96103896103897)"
      ]
     },
     "execution_count": 31,
     "metadata": {},
     "output_type": "execute_result"
    }
   ],
   "source": [
    "get_concept_ratio(current_pipeline, expected_concepts)"
   ]
  },
  {
   "cell_type": "markdown",
   "metadata": {},
   "source": [
    "## Manuel concepts extraction ; TFIDF relation extraction"
   ]
  },
  {
   "cell_type": "code",
   "execution_count": 10,
   "metadata": {},
   "outputs": [
    {
     "name": "stderr",
     "output_type": "stream",
     "text": [
      "[2024-06-12 10:20:41,291] [WARNING] [tfidf_term_extraction] [_check_parameters] [Selected token sequence document attribute not set by the user.\n",
      "                By default the system will use the entire content of the document.]\n"
     ]
    }
   ],
   "source": [
    "from typing import Set\n",
    "from spacy.matcher import Matcher\n",
    "from olaf.data_container.relation_schema import Relation\n",
    "from olaf.pipeline.pipeline_component.term_extraction.tfidf_term_extraction import (\n",
    "    TFIDFTermExtraction,\n",
    ")\n",
    "\n",
    "pipelines.append(\n",
    "    Pipeline(\n",
    "        spacy_model=nlp,\n",
    "        pipeline_components=[\n",
    "            manuel_concept_extraction,\n",
    "            concept_extraction,\n",
    "            manuel_relation_extraction,\n",
    "            TFIDFTermExtraction(max_term_token_length=3),\n",
    "            relation_extraction,\n",
    "        ],\n",
    "        corpus=list(nlp.pipe(corpus)),\n",
    "    )\n",
    ")"
   ]
  },
  {
   "cell_type": "markdown",
   "metadata": {},
   "source": [
    "## Manuel concepts Extraction ; TFIDF relation exttraction , spacy match postprocessing function"
   ]
  },
  {
   "cell_type": "code",
   "execution_count": 11,
   "metadata": {},
   "outputs": [
    {
     "name": "stderr",
     "output_type": "stream",
     "text": [
      "[2024-06-12 10:20:41,885] [WARNING] [tfidf_term_extraction] [_check_parameters] [Selected token sequence document attribute not set by the user.\n",
      "                By default the system will use the entire content of the document.]\n"
     ]
    }
   ],
   "source": [
    "\n",
    "def relation_postprocessor(relations : Set[Relation], nlp=nlp) -> Set[Relation]:\n",
    "    correct_relations = set()\n",
    "    relation_patterns = [\n",
    "        [{\"POS\": \"AUX\", \"DEP\": \"ROOT\"}],\n",
    "        [{\"POS\": \"AUX\", \"OP\": \"?\"}, {\"POS\": \"ADV\", \"OP\": \"?\"},{\"POS\": \"VERB\"}, {\"POS\": \"ADP\", \"OP\": \"?\"}],\n",
    "        [{\"POS\": \"AUX\"}, {\"POS\": \"ADJ\", \"OP\": \"+\"}, {\"POS\": \"ADP\"}],\n",
    "        [{\"POS\": \"AUX\"}, {\"POS\": \"VERB\", \"OP\": \"+\"}, {\"POS\": \"ADP\", \"OP\": \"?\"}],\n",
    "        ]\n",
    "    matcher = Matcher(nlp.vocab)\n",
    "\n",
    "    matcher.add(\"REALTION_PATTERN\", relation_patterns)\n",
    "\n",
    "    for relation in relations:\n",
    "        relation_doc = nlp(relation.label)\n",
    "        matches = matcher(relation_doc)\n",
    "        if any(\n",
    "            len(relation_doc[start_idx:end_idx]) == len(relation_doc)\n",
    "            for _, start_idx, end_idx in matches\n",
    "        ):\n",
    "            correct_relations.add(relation)\n",
    "    \n",
    "    return correct_relations\n",
    "\n",
    "\n",
    "pipelines.append(\n",
    "        Pipeline(\n",
    "        spacy_model=spacy.load(\"en_core_web_sm\"),\n",
    "        pipeline_components=[\n",
    "            ManualCandidateTermExtraction(ct_label_strings_map=ct_concept_label),\n",
    "            concept_extraction,\n",
    "            TFIDFTermExtraction(max_term_token_length=4, cts_post_processing_functions=[relation_postprocessor]),\n",
    "            relation_extraction,\n",
    "        ],\n",
    "        corpus=list(nlp.pipe(corpus)),\n",
    "    )\n",
    ")"
   ]
  },
  {
   "cell_type": "markdown",
   "metadata": {},
   "source": [
    "## Manuel concepts Extraction ; TFIDF relation exttraction , spacy match postprocessing function, synonyms relation Enrichment"
   ]
  },
  {
   "cell_type": "code",
   "execution_count": 12,
   "metadata": {},
   "outputs": [
    {
     "name": "stderr",
     "output_type": "stream",
     "text": [
      "[2024-06-12 10:20:43,689] [WARNING] [tfidf_term_extraction] [_check_parameters] [Selected token sequence document attribute not set by the user.\n",
      "                By default the system will use the entire content of the document.]\n",
      "[2024-06-12 10:20:43,689] [WARNING] [synonym_relation_extraction] [_check_parameters] [No value given for concept_max_distance parameter, default will be set to 5.]\n"
     ]
    }
   ],
   "source": [
    "pipelines.append(\n",
    "    Pipeline(\n",
    "        spacy_model=spacy.load(\"en_core_web_lg\"),\n",
    "        pipeline_components=[\n",
    "            ManualCandidateTermExtraction(ct_label_strings_map=ct_concept_label),\n",
    "            CTsToConceptExtraction(),\n",
    "            TFIDFTermExtraction(\n",
    "                max_term_token_length=4,\n",
    "                cts_post_processing_functions=[relation_postprocessor],\n",
    "            ),\n",
    "            SynonymRelationExtraction(),\n",
    "        ],\n",
    "        corpus=list(nlp.pipe(corpus)),\n",
    "    )\n",
    ")"
   ]
  },
  {
   "cell_type": "markdown",
   "metadata": {},
   "source": [
    "## Manuel concepts Extraction ; TFIDF relation exttraction , spacy match postprocessing function, Agglomerative clustering relation Enrichment"
   ]
  },
  {
   "cell_type": "code",
   "execution_count": 13,
   "metadata": {},
   "outputs": [
    {
     "name": "stderr",
     "output_type": "stream",
     "text": [
      "[2024-06-12 10:20:43,741] [WARNING] [tfidf_term_extraction] [_check_parameters] [Selected token sequence document attribute not set by the user.\n",
      "                By default the system will use the entire content of the document.]\n",
      "[2024-06-12 10:20:43,742] [WARNING] [agglomerative_clustering_relation_extraction] [_check_parameters] [No value given for embedding_model parameter, default will be set to all-mpnet-base-v2.]\n",
      "[2024-06-12 10:20:43,743] [WARNING] [agglomerative_clustering_relation_extraction] [_check_parameters] [No value given for metric option, default will be set to cosine.]\n",
      "[2024-06-12 10:20:43,743] [WARNING] [agglomerative_clustering_relation_extraction] [_check_parameters] [No value given for concept_max_distance parameter, default will be set to 5.]\n"
     ]
    }
   ],
   "source": [
    "pipelines.append(\n",
    "    Pipeline(\n",
    "        spacy_model=nlp,\n",
    "        pipeline_components=[\n",
    "            ManualCandidateTermExtraction(ct_label_strings_map=ct_concept_label),\n",
    "            CTsToConceptExtraction(),\n",
    "            TFIDFTermExtraction(\n",
    "                max_term_token_length=4,\n",
    "                cts_post_processing_functions=[relation_postprocessor],\n",
    "            ),\n",
    "            AgglomerativeClusteringRelationExtraction(\n",
    "                distance_threshold=1\n",
    "            ),\n",
    "        ],\n",
    "        corpus=list(nlp.pipe(corpus)),\n",
    "    )\n",
    ")"
   ]
  },
  {
   "cell_type": "markdown",
   "metadata": {},
   "source": [
    "## Manuel concepts Extraction, Agglomerative clustering concept Enrichment ; TFIDF relation exttraction , spacy match postprocessing function, Agglomerative clustering relation Enrichment"
   ]
  },
  {
   "cell_type": "code",
   "execution_count": 14,
   "metadata": {},
   "outputs": [
    {
     "name": "stderr",
     "output_type": "stream",
     "text": [
      "[2024-06-12 10:20:43,795] [WARNING] [agglomerative_clustering_concept_extraction] [_check_parameters] [No value given for embedding_model parameter, default will be set to all-mpnet-base-v2.]\n",
      "[2024-06-12 10:20:43,796] [WARNING] [agglomerative_clustering_concept_extraction] [_check_parameters] [No value given for metric option, default will be set to cosine.]\n",
      "[2024-06-12 10:20:43,797] [WARNING] [tfidf_term_extraction] [_check_parameters] [Selected token sequence document attribute not set by the user.\n",
      "                By default the system will use the entire content of the document.]\n",
      "[2024-06-12 10:20:43,797] [WARNING] [agglomerative_clustering_relation_extraction] [_check_parameters] [No value given for embedding_model parameter, default will be set to all-mpnet-base-v2.]\n",
      "[2024-06-12 10:20:43,798] [WARNING] [agglomerative_clustering_relation_extraction] [_check_parameters] [No value given for metric option, default will be set to cosine.]\n",
      "[2024-06-12 10:20:43,798] [WARNING] [agglomerative_clustering_relation_extraction] [_check_parameters] [No value given for concept_max_distance parameter, default will be set to 5.]\n"
     ]
    }
   ],
   "source": [
    "pipelines.append(\n",
    "    Pipeline(\n",
    "        spacy_model=nlp,\n",
    "        pipeline_components=[\n",
    "            ManualCandidateTermExtraction(ct_label_strings_map=ct_concept_label),\n",
    "            AgglomerativeClusteringConceptExtraction(\n",
    "                distance_threshold=.1\n",
    "                \n",
    "            ),\n",
    "            TFIDFTermExtraction(\n",
    "                max_term_token_length=4,\n",
    "                cts_post_processing_functions=[relation_postprocessor],\n",
    "            ),\n",
    "            AgglomerativeClusteringRelationExtraction(\n",
    "                distance_threshold=.5\n",
    "            ),\n",
    "        ],\n",
    "        corpus=list(nlp.pipe(corpus)),\n",
    "    )\n",
    ")"
   ]
  },
  {
   "cell_type": "markdown",
   "metadata": {},
   "source": [
    "# Run all the pipelines."
   ]
  },
  {
   "cell_type": "code",
   "execution_count": null,
   "metadata": {},
   "outputs": [],
   "source": []
  }
 ],
 "metadata": {
  "kernelspec": {
   "display_name": "env",
   "language": "python",
   "name": "python3"
  },
  "language_info": {
   "codemirror_mode": {
    "name": "ipython",
    "version": 3
   },
   "file_extension": ".py",
   "mimetype": "text/x-python",
   "name": "python",
   "nbconvert_exporter": "python",
   "pygments_lexer": "ipython3",
   "version": "3.10.12"
  }
 },
 "nbformat": 4,
 "nbformat_minor": 2
}
