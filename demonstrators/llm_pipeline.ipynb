{
 "cells": [
  {
   "cell_type": "code",
   "execution_count": 162,
   "metadata": {},
   "outputs": [],
   "source": [
    "import spacy\n",
    "from typing import Set, List\n",
    "import pandas as pd\n",
    "from olaf import Pipeline\n",
    "from olaf.commons.logging_config import logger\n",
    "from olaf.data_container import CandidateTerm, Relation, Concept\n",
    "from olaf.data_container.knowledge_representation_schema import KnowledgeRepresentation\n",
    "from olaf.pipeline.pipeline_component.term_extraction import (\n",
    "    POSTermExtraction,\n",
    "    TFIDFTermExtraction,\n",
    "    ManualCandidateTermExtraction\n",
    "    )\n",
    "from olaf.pipeline.pipeline_component.concept_relation_extraction import (\n",
    "    CTsToConceptExtraction,\n",
    "    CTsToRelationExtraction,\n",
    "    SynonymRelationExtraction,\n",
    "    SynonymConceptExtraction,\n",
    "    AgglomerativeClusteringRelationExtraction,\n",
    "    AgglomerativeClusteringConceptExtraction\n",
    ")\n",
    "from olaf.commons.spacy_processing_tools import is_not_punct, is_not_stopword, select_on_pos\n",
    "\n",
    "from olaf.pipeline.pipeline_component.candidate_term_enrichment import SemanticBasedEnrichment\n",
    "\n",
    "from olaf.repository.corpus_loader.text_corpus_loader import TextCorpusLoader"
   ]
  },
  {
   "cell_type": "code",
   "execution_count": 163,
   "metadata": {},
   "outputs": [],
   "source": [
    "import numpy as np\n",
    "import matplotlib.pyplot as plt\n",
    "import plotly.express as px\n",
    "import plotly.graph_objects as go\n",
    "from matplotlib_venn import venn2, venn3"
   ]
  },
  {
   "cell_type": "code",
   "execution_count": 164,
   "metadata": {},
   "outputs": [],
   "source": [
    "nlp = spacy.load(\"en_core_web_lg\")"
   ]
  },
  {
   "cell_type": "code",
   "execution_count": 165,
   "metadata": {},
   "outputs": [],
   "source": [
    "import torch, gc\n",
    "def free_gpu():\n",
    "    gc.collect()\n",
    "    torch.cuda.empty_cache()"
   ]
  },
  {
   "cell_type": "markdown",
   "metadata": {},
   "source": [
    "# Select and create relevent concepts from the corpus.\n"
   ]
  },
  {
   "cell_type": "code",
   "execution_count": 166,
   "metadata": {},
   "outputs": [
    {
     "name": "stdout",
     "output_type": "stream",
     "text": [
      "[Punching, Welding line, Crescent Gap, Water spot, Oil spot, Silk spot, Inclusion, Rolled pit, Crease, Waist folding, metal surface defect, mechanical failure, drying, mechanical lubricant, temperature, pressure, work roll damage, tension roll damage, local yield, low-carbon, steel strip, folds, rough pockmarked surfaces, metal surface defect, deformation]\n"
     ]
    }
   ],
   "source": [
    "expected_concepts = []\n",
    "with open(\"concepts_v2.txt\", 'r') as f:\n",
    "    lines = f.readlines()\n",
    "    expected_concepts = [concept.rstrip(\"\\n\") for concept in lines]\n",
    "    expected_concepts = [Concept(concept) for concept in expected_concepts]\n",
    "    f.close()\n",
    "\n",
    "print(expected_concepts)\n"
   ]
  },
  {
   "cell_type": "code",
   "execution_count": 167,
   "metadata": {},
   "outputs": [],
   "source": [
    "corpus_path = \"GC10-DET_doc.txt\"\n",
    "corpus_loader = TextCorpusLoader(corpus_path)"
   ]
  },
  {
   "cell_type": "code",
   "execution_count": 168,
   "metadata": {},
   "outputs": [],
   "source": [
    "from sklearn.metrics.pairwise import cosine_similarity\n",
    "from sentence_transformers import SentenceTransformer, util\n",
    "sentence_transformer_model = SentenceTransformer(\"sentence-transformers/all-MiniLM-L6-v2\")"
   ]
  },
  {
   "cell_type": "markdown",
   "metadata": {},
   "source": [
    "# Testing concept ratio function"
   ]
  },
  {
   "cell_type": "code",
   "execution_count": 169,
   "metadata": {},
   "outputs": [],
   "source": [
    "\n",
    "\n",
    "def hg_lm_similaritiry(embedding_a : str, embedding_b: str, threshold=.8):\n",
    "    return util.pytorch_cos_sim(embedding_a, embedding_b) > threshold\n",
    "\n",
    "def create_concepts_embedings(concepts: List[Concept], model=sentence_transformer_model) -> List[np.ndarray]:\n",
    "    concept_labels = [concept.label for concept in concepts]\n",
    "    concept_embedings = model.encode(concept_labels)\n",
    "    return concept_embedings\n",
    "\n",
    "\n",
    "def get_unexpected_concepts(concepts: List[Concept], expected_concepts : List[Concept]):\n",
    "    unexpected_concepts = []\n",
    "    concepts = list(concepts)\n",
    "    concepts_embedings = create_concepts_embedings(concepts)\n",
    "    expected_concepts_embeding = create_concepts_embedings(expected_concepts)\n",
    "    for idc, concept_embeding in enumerate(concepts_embedings):\n",
    "        if not any([hg_lm_similaritiry(concept_embeding, expected_concept_embeding) > 0.7 for expected_concept_embeding in expected_concepts_embeding]):\n",
    "            unexpected_concepts.append(concepts[idc])\n",
    "    return unexpected_concepts\n",
    "\n",
    "def get_concept_ratio(pipeline : Pipeline, expected_concepts : List[Concept], comparator = hg_lm_similaritiry, comparator_args:dict={}, verbose=False) -> tuple:\n",
    "    \"\"\"\n",
    "    Calculate the ratio of expected and unexpected concepts in a given pipeline.\n",
    "\n",
    "    Parameters\n",
    "    ----------\n",
    "    pipeline : Pipeline\n",
    "        The pipeline object containing concepts.\n",
    "    expected_concepts : List[Concept]\n",
    "        A list of expected concepts.kwargs\n",
    "\n",
    "    Returns\n",
    "    -------\n",
    "    Tuple[float, float]: A tuple containing:\n",
    "        The percentage of expected concepts found in the pipeline.\n",
    "        The percentage of unexpected concepts in the pipeline.\n",
    "    \"\"\"\n",
    "    \n",
    "    \n",
    "    found_concepts = list(pipeline.kr.concepts)\n",
    "    if len(found_concepts) == 0:\n",
    "        pipeline.run()\n",
    "        found_concepts = list(pipeline.kr.concepts)\n",
    "    \n",
    "    if len(found_concepts) > 0:\n",
    "        found_concepts_embedings = create_concepts_embedings(found_concepts)\n",
    "        expected_concepts_embeding = create_concepts_embedings(expected_concepts)\n",
    "        expected_concept_occ = 0\n",
    "        for idx, expected_concept_embeding in enumerate(expected_concepts_embeding):\n",
    "            if verbose:\n",
    "                print()\n",
    "                print(f\"{expected_concepts[idx]} : \", end=\"\")\n",
    "            for idc, found_concept_embeding in enumerate(found_concepts_embedings):\n",
    "                if comparator(expected_concept_embeding, found_concept_embeding, **comparator_args):\n",
    "                    expected_concept_occ += 1\n",
    "                    if verbose:\n",
    "                        print(f\"{found_concepts[idc]} \", end=\"\")\n",
    "                    break \n",
    "\n",
    "        recall = expected_concept_occ/len(expected_concepts)\n",
    "        precision = expected_concept_occ/len(found_concepts)\n",
    "        f1 = 2*(precision * recall)/(precision+recall)\n",
    "        return (precision, recall, f1)\n",
    "    else:\n",
    "        return (0, 0, 0)\n",
    "    \n",
    "comparator_args = {\"threshold\":.7}"
   ]
  },
  {
   "cell_type": "code",
   "execution_count": 170,
   "metadata": {},
   "outputs": [],
   "source": [
    "from olaf.pipeline.pipeline_component.term_extraction.manual_candidate_terms import (\n",
    "    ManualCandidateTermExtraction,\n",
    ")\n",
    "from olaf.pipeline.pipeline_component.concept_relation_extraction.candidate_terms_to_concepts import CTsToConceptExtraction\n",
    "\n",
    "from olaf.pipeline.pipeline_component.concept_relation_extraction.candidate_terms_to_relations import CTsToRelationExtraction\n",
    "\n",
    "\n",
    "# concept extraction component\n",
    "concepts = [\n",
    "    \"defect type\", \n",
    "    \"steel strip surface\", \n",
    "    \"punching\", \n",
    "    \"mechanical failure\", \n",
    "    \"production line\", \n",
    "    \"product specifications\", \n",
    "    \"punching defects\", \n",
    "    \"welding line\", \n",
    "    \"coil\", \n",
    "    \"weld line\", \n",
    "    \"crescent gap\", \n",
    "    \"cutting\", \n",
    "    \"water spot\", \n",
    "    \"drying\", \n",
    "    \"product\", \n",
    "    \"processes\", \n",
    "    \"oil spot\", \n",
    "    \"contamination\", \n",
    "    \"mechanical lubricant\", \n",
    "    \"appearance\", \n",
    "    \"silk spot\", \n",
    "    \"plaque\", \n",
    "    \"strip surface\", \n",
    "    \"density\", \n",
    "    \"temperature\", \n",
    "    \"roller\", \n",
    "    \"pressure\", \n",
    "    \"inclusion\", \n",
    "    \"metal surface\", \n",
    "    \"spots\", \n",
    "    \"fish scale shape\", \n",
    "    \"strip shape\", \n",
    "    \"block irregular distribution\", \n",
    "    \"rough pockmarked surfaces\", \n",
    "    \"plate\", \n",
    "    \"rolled pit\", \n",
    "    \"bulges\", \n",
    "    \"pits\", \n",
    "    \"steel plate\", \n",
    "    \"work roll\", \n",
    "    \"tension roll\", \n",
    "    \"damage\", \n",
    "    \"crease\", \n",
    "    \"fold\", \n",
    "    \"spacing\", \n",
    "    \"local yield\", \n",
    "    \"uncoiling process\", \n",
    "    \"waist folding\", \n",
    "    \"wrinkles\", \n",
    "    \"local deformation\", \n",
    "    \"low-carbon\"\n",
    "]\n",
    "\n",
    "\n",
    "relations = [\n",
    "    \"described\",\n",
    "    \"explaining\",\n",
    "    \"appears\",\n",
    "    \"leads\",\n",
    "    \"resulting\",\n",
    "    \"changed\",\n",
    "    \"produced\",\n",
    "    \"drying\",\n",
    "    \"caused\",\n",
    "    \"affect\",\n",
    "    \"appearing\",\n",
    "    \"lies\",\n",
    "    \"distributed\",\n",
    "    \"accompanied\",\n",
    "    \"showing\",\n",
    "    \"pressed\",\n",
    "    \"occurred\",\n",
    "    \"circumvented\",\n",
    "    \"detected\",\n",
    "    \"tracked\",\n",
    "    \"results\",\n",
    "    \"like\",\n",
    "    \"mainly\",\n",
    "    \"uncoiling\"\n",
    "]\n",
    "\n",
    "ct_concept_label = { concept : {concept} for concept in concepts}\n",
    "\n",
    "manuel_concept_extraction = ManualCandidateTermExtraction(\n",
    "    ct_label_strings_map=ct_concept_label\n",
    ")\n"
   ]
  },
  {
   "cell_type": "markdown",
   "metadata": {},
   "source": [
    "# Usefull function"
   ]
  },
  {
   "cell_type": "code",
   "execution_count": 171,
   "metadata": {},
   "outputs": [],
   "source": [
    "def display_concept(kr: KnowledgeRepresentation) -> None:\n",
    "    print(\"Concepts in KR:\")\n",
    "    for concept in kr.concepts:\n",
    "        print(concept.label)\n",
    "\n",
    "\n",
    "def display_relation(kr: KnowledgeRepresentation) -> None:\n",
    "    print(\"Relations in KR:\")\n",
    "    for relation in kr.relations:\n",
    "        if (\n",
    "            relation.source_concept is not None\n",
    "            or relation.destination_concept is not None\n",
    "        ):\n",
    "            print(\n",
    "                (\n",
    "                    relation.source_concept.label,\n",
    "                    relation.label,\n",
    "                    relation.destination_concept.label,\n",
    "                )\n",
    "            )\n",
    "\n",
    "def describe_pipeline(pipeline: Pipeline) -> None:\n",
    "    print(pipeline.__class__.__name__)\n",
    "    for component in pipeline.pipeline_components:\n",
    "        print(f\"\\t {component.__class__.__name__}\")"
   ]
  },
  {
   "cell_type": "markdown",
   "metadata": {},
   "source": [
    "# Creating pipelines"
   ]
  },
  {
   "cell_type": "code",
   "execution_count": 172,
   "metadata": {},
   "outputs": [],
   "source": [
    "from olaf.pipeline.pipeline_component.term_extraction import (\n",
    "    ManualCandidateTermExtraction,\n",
    "    POSTermExtraction,\n",
    "    TFIDFTermExtraction,\n",
    "    CvalueTermExtraction\n",
    ")\n",
    "\n",
    "from olaf.pipeline.pipeline_component.concept_relation_extraction import (\n",
    "    CTsToConceptExtraction,\n",
    "    SynonymConceptExtraction,\n",
    "    AgglomerativeClusteringConceptExtraction\n",
    ")\n"
   ]
  },
  {
   "cell_type": "code",
   "execution_count": 173,
   "metadata": {},
   "outputs": [
    {
     "data": {
      "text/html": [
       "<div>\n",
       "<style scoped>\n",
       "    .dataframe tbody tr th:only-of-type {\n",
       "        vertical-align: middle;\n",
       "    }\n",
       "\n",
       "    .dataframe tbody tr th {\n",
       "        vertical-align: top;\n",
       "    }\n",
       "\n",
       "    .dataframe thead tr th {\n",
       "        text-align: left;\n",
       "    }\n",
       "</style>\n",
       "<table border=\"1\" class=\"dataframe\">\n",
       "  <thead>\n",
       "    <tr>\n",
       "      <th></th>\n",
       "      <th colspan=\"3\" halign=\"left\">CandidatToConcept</th>\n",
       "      <th colspan=\"3\" halign=\"left\">SynonymToConcept</th>\n",
       "      <th colspan=\"3\" halign=\"left\">AgglomerativeClustering</th>\n",
       "    </tr>\n",
       "    <tr>\n",
       "      <th></th>\n",
       "      <th>Precision</th>\n",
       "      <th>Rappel</th>\n",
       "      <th>F1</th>\n",
       "      <th>Precision</th>\n",
       "      <th>Rappel</th>\n",
       "      <th>F1</th>\n",
       "      <th>Precision</th>\n",
       "      <th>Rappel</th>\n",
       "      <th>F1</th>\n",
       "    </tr>\n",
       "  </thead>\n",
       "  <tbody>\n",
       "    <tr>\n",
       "      <th>LLM Term Extraction</th>\n",
       "      <td>NaN</td>\n",
       "      <td>NaN</td>\n",
       "      <td>NaN</td>\n",
       "      <td>NaN</td>\n",
       "      <td>NaN</td>\n",
       "      <td>NaN</td>\n",
       "      <td>NaN</td>\n",
       "      <td>NaN</td>\n",
       "      <td>NaN</td>\n",
       "    </tr>\n",
       "  </tbody>\n",
       "</table>\n",
       "</div>"
      ],
      "text/plain": [
       "                    CandidatToConcept             SynonymToConcept         \\\n",
       "                            Precision Rappel   F1        Precision Rappel   \n",
       "LLM Term Extraction               NaN    NaN  NaN              NaN    NaN   \n",
       "\n",
       "                         AgglomerativeClustering              \n",
       "                      F1               Precision Rappel   F1  \n",
       "LLM Term Extraction  NaN                     NaN    NaN  NaN  "
      ]
     },
     "execution_count": 173,
     "metadata": {},
     "output_type": "execute_result"
    }
   ],
   "source": [
    "concept_extraction_components = [\"CandidatToConcept\", \"SynonymToConcept\", \"AgglomerativeClustering\"]\n",
    "term_extraction_components = [\"LLM Term Extraction\", ]\n",
    "results = pd.DataFrame(\n",
    "    index=concept_extraction_components,\n",
    "    columns=term_extraction_components\n",
    "    )\n",
    "\n",
    "multi_index = pd.MultiIndex.from_product([\n",
    "   concept_extraction_components, \n",
    "    [\"Precision\", \"Rappel\", \"F1\"]\n",
    "    ])\n",
    "pipelines_scores = pd.DataFrame(index=term_extraction_components, columns=multi_index)\n",
    "\n",
    "pipelines_scores"
   ]
  },
  {
   "cell_type": "markdown",
   "metadata": {},
   "source": [
    "## LLM Term  Extraction"
   ]
  },
  {
   "cell_type": "code",
   "execution_count": 174,
   "metadata": {},
   "outputs": [],
   "source": [
    "llm_pipelines = []\n",
    "llm_results = []"
   ]
  },
  {
   "cell_type": "markdown",
   "metadata": {},
   "source": [
    "### LLM Term  Extraction and Candidat To Concept Extraction"
   ]
  },
  {
   "cell_type": "code",
   "execution_count": 175,
   "metadata": {},
   "outputs": [
    {
     "name": "stdout",
     "output_type": "stream",
     "text": [
      "(0.5, 1.0, 0.6666666666666666)\n"
     ]
    }
   ],
   "source": [
    "\n",
    "\n",
    "ct_concept_label = {concept : {concept} for concept in concepts}\n",
    "\n",
    "\n",
    "llm_pipelines.append(\n",
    "    Pipeline(\n",
    "        spacy_model=nlp,\n",
    "        pipeline_components=[\n",
    "            ManualCandidateTermExtraction(\n",
    "                ct_label_strings_map=ct_concept_label\n",
    "            ),\n",
    "            CTsToConceptExtraction(),\n",
    "        ],\n",
    "        corpus_loader=corpus_loader\n",
    "    )\n",
    ")\n",
    "current_pipeline = llm_pipelines[-1]\n",
    "# current_pipeline.run()\n",
    "\n",
    "\n",
    "llm_results += list( \n",
    "    results:=get_concept_ratio(current_pipeline, expected_concepts, comparator_args=comparator_args)\n",
    "    )\n",
    "print(results)"
   ]
  },
  {
   "cell_type": "markdown",
   "metadata": {},
   "source": [
    "### LLM Term  Extraction and Synonym Concept Extraction"
   ]
  },
  {
   "cell_type": "code",
   "execution_count": 176,
   "metadata": {},
   "outputs": [
    {
     "name": "stdout",
     "output_type": "stream",
     "text": [
      "(0.5, 1.0, 0.6666666666666666)\n"
     ]
    }
   ],
   "source": [
    "\n",
    "llm_pipelines.append(\n",
    "    Pipeline(\n",
    "        spacy_model=nlp,\n",
    "        pipeline_components=[\n",
    "            ManualCandidateTermExtraction(\n",
    "                ct_label_strings_map=ct_concept_label\n",
    "            ),\n",
    "            SemanticBasedEnrichment(\n",
    "                threshold=.9\n",
    "            ),\n",
    "            SynonymConceptExtraction(),\n",
    "        ],\n",
    "            corpus_loader=corpus_loader\n",
    "    )\n",
    ")\n",
    "current_pipeline = llm_pipelines[-1]\n",
    "\n",
    "\n",
    "llm_results += list(\n",
    "    results:=get_concept_ratio(current_pipeline, expected_concepts, comparator_args=comparator_args)\n",
    "    )\n",
    "print(results)"
   ]
  },
  {
   "cell_type": "markdown",
   "metadata": {},
   "source": [
    "### LLM Term  Extraction and Agglomerative Clustering Concept Extraction"
   ]
  },
  {
   "cell_type": "code",
   "execution_count": 177,
   "metadata": {},
   "outputs": [
    {
     "name": "stderr",
     "output_type": "stream",
     "text": [
      "[2024-06-28 11:24:24,238] [WARNING] [agglomerative_clustering_concept_extraction] [_check_parameters] [No value given for embedding_model parameter, default will be set to all-mpnet-base-v2.]\n",
      "[2024-06-28 11:24:24,239] [WARNING] [agglomerative_clustering_concept_extraction] [_check_parameters] [No value given for metric option, default will be set to cosine.]\n"
     ]
    },
    {
     "name": "stdout",
     "output_type": "stream",
     "text": [
      "(0.5319148936170213, 1.0, 0.6944444444444444)\n"
     ]
    }
   ],
   "source": [
    "\n",
    "llm_pipelines.append(\n",
    "    Pipeline(\n",
    "        spacy_model=nlp,\n",
    "        pipeline_components=[\n",
    "            ManualCandidateTermExtraction(\n",
    "                ct_label_strings_map=ct_concept_label\n",
    "            ),\n",
    "            AgglomerativeClusteringConceptExtraction(\n",
    "                distance_threshold=.3\n",
    "            ),\n",
    "        ],\n",
    "        corpus_loader=corpus_loader\n",
    "    )\n",
    ")\n",
    "current_pipeline = llm_pipelines[-1]\n",
    "\n",
    "\n",
    "\n",
    "llm_results += list(\n",
    "    results:=get_concept_ratio(current_pipeline, expected_concepts, comparator_args=comparator_args)\n",
    "    )\n",
    "print(results)"
   ]
  },
  {
   "cell_type": "code",
   "execution_count": 178,
   "metadata": {},
   "outputs": [],
   "source": [
    "free_gpu()"
   ]
  },
  {
   "cell_type": "markdown",
   "metadata": {},
   "source": [
    "## debugging LLMPipeline"
   ]
  },
  {
   "cell_type": "code",
   "execution_count": 179,
   "metadata": {},
   "outputs": [
    {
     "name": "stdout",
     "output_type": "stream",
     "text": [
      "\n",
      "Punching : punching \n",
      "Welding line : weld line \n",
      "Crescent Gap : crescent gap \n",
      "Water spot : water spot \n",
      "Oil spot : oil spot \n",
      "Silk spot : silk spot \n",
      "Inclusion : inclusion \n",
      "Rolled pit : rolled pit \n",
      "Crease : crease \n",
      "Waist folding : fold \n",
      "metal surface defect : metal surface \n",
      "mechanical failure : mechanical failure \n",
      "drying : drying \n",
      "mechanical lubricant : mechanical lubricant \n",
      "temperature : temperature \n",
      "pressure : pressure \n",
      "work roll damage : work roll \n",
      "tension roll damage : tension roll \n",
      "local yield : local yield \n",
      "low-carbon : low-carbon \n",
      "steel strip : steel strip surface \n",
      "folds : fold \n",
      "rough pockmarked surfaces : rough pockmarked surfaces \n",
      "metal surface defect : metal surface \n",
      "deformation : local deformation "
     ]
    },
    {
     "data": {
      "text/plain": [
       "(0.5319148936170213, 1.0, 0.6944444444444444)"
      ]
     },
     "execution_count": 179,
     "metadata": {},
     "output_type": "execute_result"
    }
   ],
   "source": [
    "agg_pipeline = llm_pipelines[-1]\n",
    "get_concept_ratio(agg_pipeline, expected_concepts, comparator_args=comparator_args, verbose=True)"
   ]
  },
  {
   "cell_type": "code",
   "execution_count": 180,
   "metadata": {},
   "outputs": [
    {
     "name": "stdout",
     "output_type": "stream",
     "text": [
      "\n",
      "Punching : punching \n",
      "Welding line : welding line \n",
      "Crescent Gap : crescent gap \n",
      "Water spot : water spot \n",
      "Oil spot : oil spot \n",
      "Silk spot : silk spot \n",
      "Inclusion : inclusion \n",
      "Rolled pit : rolled pit \n",
      "Crease : crease \n",
      "Waist folding : waist folding \n",
      "metal surface defect : metal surface \n",
      "mechanical failure : mechanical failure \n",
      "drying : drying \n",
      "mechanical lubricant : mechanical lubricant \n",
      "temperature : temperature \n",
      "pressure : pressure \n",
      "work roll damage : work roll \n",
      "tension roll damage : tension roll \n",
      "local yield : local yield \n",
      "low-carbon : low-carbon \n",
      "steel strip : steel strip surface \n",
      "folds : waist folding \n",
      "rough pockmarked surfaces : rough pockmarked surfaces \n",
      "metal surface defect : metal surface \n",
      "deformation : local deformation "
     ]
    },
    {
     "data": {
      "text/plain": [
       "(0.5, 1.0, 0.6666666666666666)"
      ]
     },
     "execution_count": 180,
     "metadata": {},
     "output_type": "execute_result"
    }
   ],
   "source": [
    "syn_pipeline = llm_pipelines[1]\n",
    "get_concept_ratio(syn_pipeline, expected_concepts, comparator_args=comparator_args, verbose=True)"
   ]
  },
  {
   "cell_type": "code",
   "execution_count": 181,
   "metadata": {},
   "outputs": [
    {
     "name": "stdout",
     "output_type": "stream",
     "text": [
      "block irregular distribution {block irregular distribution}\n",
      "fold {fold}\n",
      "crescent gap {crescent gap}\n",
      "local deformation {local deformation}\n",
      "oil spot {oil spot}\n",
      "uncoiling process {uncoiling process}\n",
      "tension roll {tension roll}\n",
      "work roll {work roll}\n",
      "density {density}\n",
      "pressure {pressure}\n",
      "processes {processes}\n",
      "low-carbon {low-carbon}\n",
      "spots {spots}\n",
      "punching defects {punching defects}\n",
      "mechanical failure {mechanical failure}\n",
      "mechanical lubricant {mechanical lubricant}\n",
      "product specifications {product specifications}\n",
      "water spot {water spot}\n",
      "weld line {weld line, welding line}\n",
      "drying {drying}\n",
      "metal surface {metal surface}\n",
      "spacing {spacing}\n",
      "waist folding {waist folding}\n",
      "punching {punching}\n",
      "contamination {contamination}\n",
      "temperature {temperature}\n",
      "bulges {bulges}\n",
      "strip shape {strip shape}\n",
      "wrinkles {wrinkles}\n",
      "product {product}\n",
      "cutting {cutting}\n",
      "steel strip surface {steel strip surface, strip surface}\n",
      "plaque {plaque}\n",
      "pits {pits}\n",
      "crease {crease}\n",
      "defect type {defect type}\n",
      "local yield {local yield}\n",
      "fish scale shape {fish scale shape}\n",
      "production line {production line}\n",
      "roller {roller}\n",
      "damage {damage}\n",
      "steel plate {steel plate, plate}\n",
      "rolled pit {rolled pit}\n",
      "appearance {appearance}\n",
      "rough pockmarked surfaces {rough pockmarked surfaces}\n",
      "inclusion {inclusion}\n",
      "silk spot {silk spot}\n"
     ]
    }
   ],
   "source": [
    "for concept in agg_pipeline.kr.concepts:\n",
    "    print(concept.label, concept.linguistic_realisations)"
   ]
  },
  {
   "cell_type": "code",
   "execution_count": 182,
   "metadata": {},
   "outputs": [
    {
     "name": "stdout",
     "output_type": "stream",
     "text": [
      "\n",
      "Punching : punching \n",
      "Welding line : weld line \n",
      "Crescent Gap : crescent gap \n",
      "Water spot : water spot \n",
      "Oil spot : oil spot \n",
      "Silk spot : silk spot \n",
      "Inclusion : inclusion \n",
      "Rolled pit : rolled pit \n",
      "Crease : crease \n",
      "Waist folding : waist folding \n",
      "metal surface defect : metal surface \n",
      "mechanical failure : mechanical failure \n",
      "drying : drying \n",
      "mechanical lubricant : mechanical lubricant \n",
      "temperature : temperature \n",
      "pressure : pressure \n",
      "work roll damage : work roll \n",
      "tension roll damage : tension roll \n",
      "local yield : local yield \n",
      "low-carbon : low-carbon \n",
      "steel strip : steel strip surface \n",
      "folds : waist folding \n",
      "rough pockmarked surfaces : rough pockmarked surfaces \n",
      "metal surface defect : metal surface \n",
      "deformation : local deformation block irregular distribution {block irregular distribution}\n",
      "fold {fold}\n",
      "crescent gap {crescent gap}\n",
      "local deformation {local deformation}\n",
      "oil spot {oil spot}\n",
      "uncoiling process {uncoiling process}\n",
      "tension roll {tension roll}\n",
      "work roll {work roll}\n",
      "density {density}\n",
      "pressure {pressure}\n",
      "processes {processes}\n",
      "low-carbon {low-carbon}\n",
      "spots {spots}\n",
      "punching defects {punching defects}\n",
      "mechanical failure {mechanical failure}\n",
      "mechanical lubricant {mechanical lubricant}\n",
      "product specifications {product specifications}\n",
      "water spot {water spot}\n",
      "weld line {weld line, welding line}\n",
      "drying {drying}\n",
      "metal surface {metal surface}\n",
      "spacing {spacing}\n",
      "waist folding {waist folding}\n",
      "punching {punching}\n",
      "contamination {contamination}\n",
      "temperature {temperature}\n",
      "bulges {bulges}\n",
      "strip shape {strip shape}\n",
      "wrinkles {wrinkles}\n",
      "product {product}\n",
      "cutting {cutting}\n",
      "steel strip surface {steel strip surface, strip surface}\n",
      "plaque {plaque}\n",
      "pits {pits}\n",
      "crease {crease}\n",
      "defect type {defect type}\n",
      "local yield {local yield}\n",
      "fish scale shape {fish scale shape}\n",
      "production line {production line}\n",
      "roller {roller}\n",
      "damage {damage}\n",
      "steel plate {steel plate, plate}\n",
      "rolled pit {rolled pit}\n",
      "appearance {appearance}\n",
      "rough pockmarked surfaces {rough pockmarked surfaces}\n",
      "inclusion {inclusion}\n",
      "silk spot {silk spot}\n"
     ]
    }
   ],
   "source": [
    "ct_pipeline = llm_pipelines[0]\n",
    "get_concept_ratio(ct_pipeline, expected_concepts, comparator_args=comparator_args, verbose=True)\n",
    "\n",
    "for concept in agg_pipeline.kr.concepts:\n",
    "    print(concept.label, concept.linguistic_realisations)"
   ]
  },
  {
   "cell_type": "code",
   "execution_count": 183,
   "metadata": {},
   "outputs": [
    {
     "data": {
      "text/plain": [
       "[block irregular distribution,\n",
       " local deformation,\n",
       " uncoiling process,\n",
       " work roll,\n",
       " density,\n",
       " processes,\n",
       " spots,\n",
       " punching defects,\n",
       " product specifications,\n",
       " metal surface,\n",
       " spacing,\n",
       " contamination,\n",
       " bulges,\n",
       " strip shape,\n",
       " wrinkles,\n",
       " product,\n",
       " cutting,\n",
       " plaque,\n",
       " pits,\n",
       " defect type,\n",
       " fish scale shape,\n",
       " production line,\n",
       " roller,\n",
       " damage,\n",
       " steel plate,\n",
       " appearance]"
      ]
     },
     "execution_count": 183,
     "metadata": {},
     "output_type": "execute_result"
    }
   ],
   "source": [
    "get_unexpected_concepts(agg_pipeline.kr.concepts, expected_concepts)"
   ]
  },
  {
   "cell_type": "markdown",
   "metadata": {},
   "source": [
    "### Score des pipelines"
   ]
  },
  {
   "cell_type": "code",
   "execution_count": 184,
   "metadata": {},
   "outputs": [
    {
     "data": {
      "text/html": [
       "<div>\n",
       "<style scoped>\n",
       "    .dataframe tbody tr th:only-of-type {\n",
       "        vertical-align: middle;\n",
       "    }\n",
       "\n",
       "    .dataframe tbody tr th {\n",
       "        vertical-align: top;\n",
       "    }\n",
       "\n",
       "    .dataframe thead tr th {\n",
       "        text-align: left;\n",
       "    }\n",
       "</style>\n",
       "<table border=\"1\" class=\"dataframe\">\n",
       "  <thead>\n",
       "    <tr>\n",
       "      <th></th>\n",
       "      <th colspan=\"3\" halign=\"left\">CandidatToConcept</th>\n",
       "      <th colspan=\"3\" halign=\"left\">SynonymToConcept</th>\n",
       "      <th colspan=\"3\" halign=\"left\">AgglomerativeClustering</th>\n",
       "    </tr>\n",
       "    <tr>\n",
       "      <th></th>\n",
       "      <th>Precision</th>\n",
       "      <th>Rappel</th>\n",
       "      <th>F1</th>\n",
       "      <th>Precision</th>\n",
       "      <th>Rappel</th>\n",
       "      <th>F1</th>\n",
       "      <th>Precision</th>\n",
       "      <th>Rappel</th>\n",
       "      <th>F1</th>\n",
       "    </tr>\n",
       "  </thead>\n",
       "  <tbody>\n",
       "    <tr>\n",
       "      <th>LLM Term Extraction</th>\n",
       "      <td>0.5</td>\n",
       "      <td>1.0</td>\n",
       "      <td>0.666667</td>\n",
       "      <td>0.5</td>\n",
       "      <td>1.0</td>\n",
       "      <td>0.666667</td>\n",
       "      <td>0.531915</td>\n",
       "      <td>1.0</td>\n",
       "      <td>0.694444</td>\n",
       "    </tr>\n",
       "  </tbody>\n",
       "</table>\n",
       "</div>"
      ],
      "text/plain": [
       "                    CandidatToConcept                  SynonymToConcept  \\\n",
       "                            Precision Rappel        F1        Precision   \n",
       "LLM Term Extraction               0.5    1.0  0.666667              0.5   \n",
       "\n",
       "                                     AgglomerativeClustering                   \n",
       "                    Rappel        F1               Precision Rappel        F1  \n",
       "LLM Term Extraction    1.0  0.666667                0.531915    1.0  0.694444  "
      ]
     },
     "execution_count": 184,
     "metadata": {},
     "output_type": "execute_result"
    }
   ],
   "source": [
    "pipelines_scores.loc[term_extraction_components[0]] = llm_results\n",
    "pipelines_scores"
   ]
  },
  {
   "cell_type": "code",
   "execution_count": 185,
   "metadata": {},
   "outputs": [
    {
     "data": {
      "application/vnd.plotly.v1+json": {
       "config": {
        "plotlyServerURL": "https://plot.ly"
       },
       "data": [
        {
         "alignmentgroup": "True",
         "hovertemplate": "Métrique=Precision<br>Composant=%{x}<br>Score=%{y}<extra></extra>",
         "legendgroup": "Precision",
         "marker": {
          "color": "#636efa",
          "pattern": {
           "shape": ""
          }
         },
         "name": "Precision",
         "offsetgroup": "Precision",
         "orientation": "v",
         "showlegend": true,
         "textposition": "auto",
         "type": "bar",
         "x": [
          "CandidatToConcept",
          "SynonymToConcept",
          "AgglomerativeClustering"
         ],
         "xaxis": "x",
         "y": [
          0.5,
          0.5,
          0.5319148936170213
         ],
         "yaxis": "y"
        },
        {
         "alignmentgroup": "True",
         "hovertemplate": "Métrique=Rappel<br>Composant=%{x}<br>Score=%{y}<extra></extra>",
         "legendgroup": "Rappel",
         "marker": {
          "color": "#EF553B",
          "pattern": {
           "shape": ""
          }
         },
         "name": "Rappel",
         "offsetgroup": "Rappel",
         "orientation": "v",
         "showlegend": true,
         "textposition": "auto",
         "type": "bar",
         "x": [
          "CandidatToConcept",
          "SynonymToConcept",
          "AgglomerativeClustering"
         ],
         "xaxis": "x",
         "y": [
          1,
          1,
          1
         ],
         "yaxis": "y"
        },
        {
         "alignmentgroup": "True",
         "hovertemplate": "Métrique=F1<br>Composant=%{x}<br>Score=%{y}<extra></extra>",
         "legendgroup": "F1",
         "marker": {
          "color": "#00cc96",
          "pattern": {
           "shape": ""
          }
         },
         "name": "F1",
         "offsetgroup": "F1",
         "orientation": "v",
         "showlegend": true,
         "textposition": "auto",
         "type": "bar",
         "x": [
          "CandidatToConcept",
          "SynonymToConcept",
          "AgglomerativeClustering"
         ],
         "xaxis": "x",
         "y": [
          0.6666666666666666,
          0.6666666666666666,
          0.6944444444444444
         ],
         "yaxis": "y"
        }
       ],
       "layout": {
        "barmode": "group",
        "height": 600,
        "legend": {
         "title": {
          "text": "Métrique"
         },
         "tracegroupgap": 0
        },
        "template": {
         "data": {
          "bar": [
           {
            "error_x": {
             "color": "#2a3f5f"
            },
            "error_y": {
             "color": "#2a3f5f"
            },
            "marker": {
             "line": {
              "color": "#E5ECF6",
              "width": 0.5
             },
             "pattern": {
              "fillmode": "overlay",
              "size": 10,
              "solidity": 0.2
             }
            },
            "type": "bar"
           }
          ],
          "barpolar": [
           {
            "marker": {
             "line": {
              "color": "#E5ECF6",
              "width": 0.5
             },
             "pattern": {
              "fillmode": "overlay",
              "size": 10,
              "solidity": 0.2
             }
            },
            "type": "barpolar"
           }
          ],
          "carpet": [
           {
            "aaxis": {
             "endlinecolor": "#2a3f5f",
             "gridcolor": "white",
             "linecolor": "white",
             "minorgridcolor": "white",
             "startlinecolor": "#2a3f5f"
            },
            "baxis": {
             "endlinecolor": "#2a3f5f",
             "gridcolor": "white",
             "linecolor": "white",
             "minorgridcolor": "white",
             "startlinecolor": "#2a3f5f"
            },
            "type": "carpet"
           }
          ],
          "choropleth": [
           {
            "colorbar": {
             "outlinewidth": 0,
             "ticks": ""
            },
            "type": "choropleth"
           }
          ],
          "contour": [
           {
            "colorbar": {
             "outlinewidth": 0,
             "ticks": ""
            },
            "colorscale": [
             [
              0,
              "#0d0887"
             ],
             [
              0.1111111111111111,
              "#46039f"
             ],
             [
              0.2222222222222222,
              "#7201a8"
             ],
             [
              0.3333333333333333,
              "#9c179e"
             ],
             [
              0.4444444444444444,
              "#bd3786"
             ],
             [
              0.5555555555555556,
              "#d8576b"
             ],
             [
              0.6666666666666666,
              "#ed7953"
             ],
             [
              0.7777777777777778,
              "#fb9f3a"
             ],
             [
              0.8888888888888888,
              "#fdca26"
             ],
             [
              1,
              "#f0f921"
             ]
            ],
            "type": "contour"
           }
          ],
          "contourcarpet": [
           {
            "colorbar": {
             "outlinewidth": 0,
             "ticks": ""
            },
            "type": "contourcarpet"
           }
          ],
          "heatmap": [
           {
            "colorbar": {
             "outlinewidth": 0,
             "ticks": ""
            },
            "colorscale": [
             [
              0,
              "#0d0887"
             ],
             [
              0.1111111111111111,
              "#46039f"
             ],
             [
              0.2222222222222222,
              "#7201a8"
             ],
             [
              0.3333333333333333,
              "#9c179e"
             ],
             [
              0.4444444444444444,
              "#bd3786"
             ],
             [
              0.5555555555555556,
              "#d8576b"
             ],
             [
              0.6666666666666666,
              "#ed7953"
             ],
             [
              0.7777777777777778,
              "#fb9f3a"
             ],
             [
              0.8888888888888888,
              "#fdca26"
             ],
             [
              1,
              "#f0f921"
             ]
            ],
            "type": "heatmap"
           }
          ],
          "heatmapgl": [
           {
            "colorbar": {
             "outlinewidth": 0,
             "ticks": ""
            },
            "colorscale": [
             [
              0,
              "#0d0887"
             ],
             [
              0.1111111111111111,
              "#46039f"
             ],
             [
              0.2222222222222222,
              "#7201a8"
             ],
             [
              0.3333333333333333,
              "#9c179e"
             ],
             [
              0.4444444444444444,
              "#bd3786"
             ],
             [
              0.5555555555555556,
              "#d8576b"
             ],
             [
              0.6666666666666666,
              "#ed7953"
             ],
             [
              0.7777777777777778,
              "#fb9f3a"
             ],
             [
              0.8888888888888888,
              "#fdca26"
             ],
             [
              1,
              "#f0f921"
             ]
            ],
            "type": "heatmapgl"
           }
          ],
          "histogram": [
           {
            "marker": {
             "pattern": {
              "fillmode": "overlay",
              "size": 10,
              "solidity": 0.2
             }
            },
            "type": "histogram"
           }
          ],
          "histogram2d": [
           {
            "colorbar": {
             "outlinewidth": 0,
             "ticks": ""
            },
            "colorscale": [
             [
              0,
              "#0d0887"
             ],
             [
              0.1111111111111111,
              "#46039f"
             ],
             [
              0.2222222222222222,
              "#7201a8"
             ],
             [
              0.3333333333333333,
              "#9c179e"
             ],
             [
              0.4444444444444444,
              "#bd3786"
             ],
             [
              0.5555555555555556,
              "#d8576b"
             ],
             [
              0.6666666666666666,
              "#ed7953"
             ],
             [
              0.7777777777777778,
              "#fb9f3a"
             ],
             [
              0.8888888888888888,
              "#fdca26"
             ],
             [
              1,
              "#f0f921"
             ]
            ],
            "type": "histogram2d"
           }
          ],
          "histogram2dcontour": [
           {
            "colorbar": {
             "outlinewidth": 0,
             "ticks": ""
            },
            "colorscale": [
             [
              0,
              "#0d0887"
             ],
             [
              0.1111111111111111,
              "#46039f"
             ],
             [
              0.2222222222222222,
              "#7201a8"
             ],
             [
              0.3333333333333333,
              "#9c179e"
             ],
             [
              0.4444444444444444,
              "#bd3786"
             ],
             [
              0.5555555555555556,
              "#d8576b"
             ],
             [
              0.6666666666666666,
              "#ed7953"
             ],
             [
              0.7777777777777778,
              "#fb9f3a"
             ],
             [
              0.8888888888888888,
              "#fdca26"
             ],
             [
              1,
              "#f0f921"
             ]
            ],
            "type": "histogram2dcontour"
           }
          ],
          "mesh3d": [
           {
            "colorbar": {
             "outlinewidth": 0,
             "ticks": ""
            },
            "type": "mesh3d"
           }
          ],
          "parcoords": [
           {
            "line": {
             "colorbar": {
              "outlinewidth": 0,
              "ticks": ""
             }
            },
            "type": "parcoords"
           }
          ],
          "pie": [
           {
            "automargin": true,
            "type": "pie"
           }
          ],
          "scatter": [
           {
            "fillpattern": {
             "fillmode": "overlay",
             "size": 10,
             "solidity": 0.2
            },
            "type": "scatter"
           }
          ],
          "scatter3d": [
           {
            "line": {
             "colorbar": {
              "outlinewidth": 0,
              "ticks": ""
             }
            },
            "marker": {
             "colorbar": {
              "outlinewidth": 0,
              "ticks": ""
             }
            },
            "type": "scatter3d"
           }
          ],
          "scattercarpet": [
           {
            "marker": {
             "colorbar": {
              "outlinewidth": 0,
              "ticks": ""
             }
            },
            "type": "scattercarpet"
           }
          ],
          "scattergeo": [
           {
            "marker": {
             "colorbar": {
              "outlinewidth": 0,
              "ticks": ""
             }
            },
            "type": "scattergeo"
           }
          ],
          "scattergl": [
           {
            "marker": {
             "colorbar": {
              "outlinewidth": 0,
              "ticks": ""
             }
            },
            "type": "scattergl"
           }
          ],
          "scattermapbox": [
           {
            "marker": {
             "colorbar": {
              "outlinewidth": 0,
              "ticks": ""
             }
            },
            "type": "scattermapbox"
           }
          ],
          "scatterpolar": [
           {
            "marker": {
             "colorbar": {
              "outlinewidth": 0,
              "ticks": ""
             }
            },
            "type": "scatterpolar"
           }
          ],
          "scatterpolargl": [
           {
            "marker": {
             "colorbar": {
              "outlinewidth": 0,
              "ticks": ""
             }
            },
            "type": "scatterpolargl"
           }
          ],
          "scatterternary": [
           {
            "marker": {
             "colorbar": {
              "outlinewidth": 0,
              "ticks": ""
             }
            },
            "type": "scatterternary"
           }
          ],
          "surface": [
           {
            "colorbar": {
             "outlinewidth": 0,
             "ticks": ""
            },
            "colorscale": [
             [
              0,
              "#0d0887"
             ],
             [
              0.1111111111111111,
              "#46039f"
             ],
             [
              0.2222222222222222,
              "#7201a8"
             ],
             [
              0.3333333333333333,
              "#9c179e"
             ],
             [
              0.4444444444444444,
              "#bd3786"
             ],
             [
              0.5555555555555556,
              "#d8576b"
             ],
             [
              0.6666666666666666,
              "#ed7953"
             ],
             [
              0.7777777777777778,
              "#fb9f3a"
             ],
             [
              0.8888888888888888,
              "#fdca26"
             ],
             [
              1,
              "#f0f921"
             ]
            ],
            "type": "surface"
           }
          ],
          "table": [
           {
            "cells": {
             "fill": {
              "color": "#EBF0F8"
             },
             "line": {
              "color": "white"
             }
            },
            "header": {
             "fill": {
              "color": "#C8D4E3"
             },
             "line": {
              "color": "white"
             }
            },
            "type": "table"
           }
          ]
         },
         "layout": {
          "annotationdefaults": {
           "arrowcolor": "#2a3f5f",
           "arrowhead": 0,
           "arrowwidth": 1
          },
          "autotypenumbers": "strict",
          "coloraxis": {
           "colorbar": {
            "outlinewidth": 0,
            "ticks": ""
           }
          },
          "colorscale": {
           "diverging": [
            [
             0,
             "#8e0152"
            ],
            [
             0.1,
             "#c51b7d"
            ],
            [
             0.2,
             "#de77ae"
            ],
            [
             0.3,
             "#f1b6da"
            ],
            [
             0.4,
             "#fde0ef"
            ],
            [
             0.5,
             "#f7f7f7"
            ],
            [
             0.6,
             "#e6f5d0"
            ],
            [
             0.7,
             "#b8e186"
            ],
            [
             0.8,
             "#7fbc41"
            ],
            [
             0.9,
             "#4d9221"
            ],
            [
             1,
             "#276419"
            ]
           ],
           "sequential": [
            [
             0,
             "#0d0887"
            ],
            [
             0.1111111111111111,
             "#46039f"
            ],
            [
             0.2222222222222222,
             "#7201a8"
            ],
            [
             0.3333333333333333,
             "#9c179e"
            ],
            [
             0.4444444444444444,
             "#bd3786"
            ],
            [
             0.5555555555555556,
             "#d8576b"
            ],
            [
             0.6666666666666666,
             "#ed7953"
            ],
            [
             0.7777777777777778,
             "#fb9f3a"
            ],
            [
             0.8888888888888888,
             "#fdca26"
            ],
            [
             1,
             "#f0f921"
            ]
           ],
           "sequentialminus": [
            [
             0,
             "#0d0887"
            ],
            [
             0.1111111111111111,
             "#46039f"
            ],
            [
             0.2222222222222222,
             "#7201a8"
            ],
            [
             0.3333333333333333,
             "#9c179e"
            ],
            [
             0.4444444444444444,
             "#bd3786"
            ],
            [
             0.5555555555555556,
             "#d8576b"
            ],
            [
             0.6666666666666666,
             "#ed7953"
            ],
            [
             0.7777777777777778,
             "#fb9f3a"
            ],
            [
             0.8888888888888888,
             "#fdca26"
            ],
            [
             1,
             "#f0f921"
            ]
           ]
          },
          "colorway": [
           "#636efa",
           "#EF553B",
           "#00cc96",
           "#ab63fa",
           "#FFA15A",
           "#19d3f3",
           "#FF6692",
           "#B6E880",
           "#FF97FF",
           "#FECB52"
          ],
          "font": {
           "color": "#2a3f5f"
          },
          "geo": {
           "bgcolor": "white",
           "lakecolor": "white",
           "landcolor": "#E5ECF6",
           "showlakes": true,
           "showland": true,
           "subunitcolor": "white"
          },
          "hoverlabel": {
           "align": "left"
          },
          "hovermode": "closest",
          "mapbox": {
           "style": "light"
          },
          "paper_bgcolor": "white",
          "plot_bgcolor": "#E5ECF6",
          "polar": {
           "angularaxis": {
            "gridcolor": "white",
            "linecolor": "white",
            "ticks": ""
           },
           "bgcolor": "#E5ECF6",
           "radialaxis": {
            "gridcolor": "white",
            "linecolor": "white",
            "ticks": ""
           }
          },
          "scene": {
           "xaxis": {
            "backgroundcolor": "#E5ECF6",
            "gridcolor": "white",
            "gridwidth": 2,
            "linecolor": "white",
            "showbackground": true,
            "ticks": "",
            "zerolinecolor": "white"
           },
           "yaxis": {
            "backgroundcolor": "#E5ECF6",
            "gridcolor": "white",
            "gridwidth": 2,
            "linecolor": "white",
            "showbackground": true,
            "ticks": "",
            "zerolinecolor": "white"
           },
           "zaxis": {
            "backgroundcolor": "#E5ECF6",
            "gridcolor": "white",
            "gridwidth": 2,
            "linecolor": "white",
            "showbackground": true,
            "ticks": "",
            "zerolinecolor": "white"
           }
          },
          "shapedefaults": {
           "line": {
            "color": "#2a3f5f"
           }
          },
          "ternary": {
           "aaxis": {
            "gridcolor": "white",
            "linecolor": "white",
            "ticks": ""
           },
           "baxis": {
            "gridcolor": "white",
            "linecolor": "white",
            "ticks": ""
           },
           "bgcolor": "#E5ECF6",
           "caxis": {
            "gridcolor": "white",
            "linecolor": "white",
            "ticks": ""
           }
          },
          "title": {
           "x": 0.05
          },
          "xaxis": {
           "automargin": true,
           "gridcolor": "white",
           "linecolor": "white",
           "ticks": "",
           "title": {
            "standoff": 15
           },
           "zerolinecolor": "white",
           "zerolinewidth": 2
          },
          "yaxis": {
           "automargin": true,
           "gridcolor": "white",
           "linecolor": "white",
           "ticks": "",
           "title": {
            "standoff": 15
           },
           "zerolinecolor": "white",
           "zerolinewidth": 2
          }
         }
        },
        "title": {
         "text": "Scores de Précision, Rappel et F1 pour LLM Term Extraction"
        },
        "width": 1000,
        "xaxis": {
         "anchor": "y",
         "domain": [
          0,
          1
         ],
         "title": {
          "text": "Composants"
         }
        },
        "yaxis": {
         "anchor": "x",
         "domain": [
          0,
          1
         ],
         "title": {
          "text": "Scores"
         }
        }
       }
      }
     },
     "metadata": {},
     "output_type": "display_data"
    }
   ],
   "source": [
    "def create_bar_chart(index_name, data):\n",
    "    precision = data.loc[index_name].xs('Precision', level=1)\n",
    "    rappel = data.loc[index_name].xs('Rappel', level=1)\n",
    "    f1 = data.loc[index_name].xs('F1', level=1)\n",
    "\n",
    "    fig = go.Figure(data=[\n",
    "        go.Bar(name='Précision', x=data.columns.levels[0], y=precision),\n",
    "        go.Bar(name='Rappel', x=data.columns.levels[0], y=rappel),\n",
    "        go.Bar(name='F1', x=data.columns.levels[0], y=f1)\n",
    "    ])\n",
    "    \n",
    "    # Modifier la disposition du graphique\n",
    "    fig.update_layout(\n",
    "        title=f'Scores de Précision, Rappel et F1 pour {index_name}',\n",
    "        xaxis_title='Composants',\n",
    "        yaxis_title='Scores',\n",
    "        barmode='group'\n",
    "    )\n",
    "    \n",
    "    fig.show()\n",
    "\n",
    "data_long = pipelines_scores.reset_index().melt(id_vars='index', var_name=['Composant', 'Métrique'], value_name='Score')\n",
    "data_long.rename(columns={'index': 'Extraction'}, inplace=True)\n",
    "data_long = data_long.dropna()\n",
    "\n",
    "def create_bar_chart(index_name, data):\n",
    "    df = data[data['Extraction'] == index_name]\n",
    "    fig = px.bar(df, x='Composant', y='Score', color='Métrique', barmode='group',\n",
    "                 title=f'Scores de Précision, Rappel et F1 pour {index_name}')\n",
    "    \n",
    "    fig.update_layout(\n",
    "        xaxis_title='Composants',\n",
    "        yaxis_title='Scores'\n",
    "    )\n",
    "    fig.update_layout(width=1000, height=600)\n",
    "    fig.show()\n",
    "\n",
    "# Créer un diagramme en barres pour chaque index\n",
    "for idx in term_extraction_components:\n",
    "    create_bar_chart(idx, data_long)\n",
    "\n",
    "\n"
   ]
  },
  {
   "cell_type": "markdown",
   "metadata": {},
   "source": [
    "## Hierarchiza"
   ]
  }
 ],
 "metadata": {
  "kernelspec": {
   "display_name": "env",
   "language": "python",
   "name": "python3"
  },
  "language_info": {
   "codemirror_mode": {
    "name": "ipython",
    "version": 3
   },
   "file_extension": ".py",
   "mimetype": "text/x-python",
   "name": "python",
   "nbconvert_exporter": "python",
   "pygments_lexer": "ipython3",
   "version": "3.10.12"
  }
 },
 "nbformat": 4,
 "nbformat_minor": 2
}
