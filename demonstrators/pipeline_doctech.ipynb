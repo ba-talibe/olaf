{
 "cells": [
  {
   "cell_type": "markdown",
   "metadata": {},
   "source": [
    "# OLAF : creating a simple pipeline from a printer technical documentation"
   ]
  },
  {
   "cell_type": "code",
   "execution_count": 22,
   "metadata": {},
   "outputs": [],
   "source": [
    "import spacy"
   ]
  },
  {
   "cell_type": "markdown",
   "metadata": {},
   "source": [
    "## Import all necessary items from the olaf package"
   ]
  },
  {
   "cell_type": "code",
   "execution_count": 23,
   "metadata": {},
   "outputs": [],
   "source": [
    "from olaf import Pipeline\n",
    "from olaf.pipeline.pipeline_component.term_extraction import POSTermExtraction\n",
    "from olaf.pipeline.pipeline_component.concept_relation_extraction import CTsToConceptExtraction, CTsToRelationExtraction\n",
    "from olaf.pipeline.pipeline_component.axiom_extraction.owl_axiom_extraction import OWLAxiomExtraction\n",
    "from olaf.data_container.knowledge_representation_schema import KnowledgeRepresentation\n",
    "from olaf.repository.serialiser import BaseOWLSerialiser\n",
    "from olaf.repository.corpus_loader.text_corpus_loader import TextCorpusLoader"
   ]
  },
  {
   "cell_type": "markdown",
   "metadata": {},
   "source": [
    "## Load the spacy language model according to the corpus"
   ]
  },
  {
   "cell_type": "code",
   "execution_count": 24,
   "metadata": {},
   "outputs": [
    {
     "name": "stdout",
     "output_type": "stream",
     "text": [
      "Collecting fr-core-news-sm==3.7.0\n",
      "  Using cached https://github.com/explosion/spacy-models/releases/download/fr_core_news_sm-3.7.0/fr_core_news_sm-3.7.0-py3-none-any.whl (16.3 MB)\n",
      "Requirement already satisfied: spacy<3.8.0,>=3.7.0 in /home/oumar/Bureau/ontology-learning/env/lib/python3.10/site-packages (from fr-core-news-sm==3.7.0) (3.7.2)\n",
      "Requirement already satisfied: requests<3.0.0,>=2.13.0 in /home/oumar/Bureau/ontology-learning/env/lib/python3.10/site-packages (from spacy<3.8.0,>=3.7.0->fr-core-news-sm==3.7.0) (2.31.0)\n",
      "Requirement already satisfied: packaging>=20.0 in /home/oumar/Bureau/ontology-learning/env/lib/python3.10/site-packages (from spacy<3.8.0,>=3.7.0->fr-core-news-sm==3.7.0) (23.2)\n",
      "Requirement already satisfied: wasabi<1.2.0,>=0.9.1 in /home/oumar/Bureau/ontology-learning/env/lib/python3.10/site-packages (from spacy<3.8.0,>=3.7.0->fr-core-news-sm==3.7.0) (1.1.2)\n",
      "Requirement already satisfied: catalogue<2.1.0,>=2.0.6 in /home/oumar/Bureau/ontology-learning/env/lib/python3.10/site-packages (from spacy<3.8.0,>=3.7.0->fr-core-news-sm==3.7.0) (2.0.10)\n",
      "Requirement already satisfied: jinja2 in /home/oumar/Bureau/ontology-learning/env/lib/python3.10/site-packages (from spacy<3.8.0,>=3.7.0->fr-core-news-sm==3.7.0) (3.1.2)\n",
      "Requirement already satisfied: spacy-legacy<3.1.0,>=3.0.11 in /home/oumar/Bureau/ontology-learning/env/lib/python3.10/site-packages (from spacy<3.8.0,>=3.7.0->fr-core-news-sm==3.7.0) (3.0.12)\n",
      "Requirement already satisfied: preshed<3.1.0,>=3.0.2 in /home/oumar/Bureau/ontology-learning/env/lib/python3.10/site-packages (from spacy<3.8.0,>=3.7.0->fr-core-news-sm==3.7.0) (3.0.9)\n",
      "Requirement already satisfied: langcodes<4.0.0,>=3.2.0 in /home/oumar/Bureau/ontology-learning/env/lib/python3.10/site-packages (from spacy<3.8.0,>=3.7.0->fr-core-news-sm==3.7.0) (3.3.0)\n",
      "Requirement already satisfied: srsly<3.0.0,>=2.4.3 in /home/oumar/Bureau/ontology-learning/env/lib/python3.10/site-packages (from spacy<3.8.0,>=3.7.0->fr-core-news-sm==3.7.0) (2.4.8)\n",
      "Requirement already satisfied: spacy-loggers<2.0.0,>=1.0.0 in /home/oumar/Bureau/ontology-learning/env/lib/python3.10/site-packages (from spacy<3.8.0,>=3.7.0->fr-core-news-sm==3.7.0) (1.0.5)\n",
      "Requirement already satisfied: numpy>=1.19.0 in /home/oumar/Bureau/ontology-learning/env/lib/python3.10/site-packages (from spacy<3.8.0,>=3.7.0->fr-core-news-sm==3.7.0) (1.26.1)\n",
      "Requirement already satisfied: smart-open<7.0.0,>=5.2.1 in /home/oumar/Bureau/ontology-learning/env/lib/python3.10/site-packages (from spacy<3.8.0,>=3.7.0->fr-core-news-sm==3.7.0) (6.4.0)\n",
      "Requirement already satisfied: cymem<2.1.0,>=2.0.2 in /home/oumar/Bureau/ontology-learning/env/lib/python3.10/site-packages (from spacy<3.8.0,>=3.7.0->fr-core-news-sm==3.7.0) (2.0.8)\n",
      "Requirement already satisfied: setuptools in /home/oumar/Bureau/ontology-learning/env/lib/python3.10/site-packages (from spacy<3.8.0,>=3.7.0->fr-core-news-sm==3.7.0) (59.6.0)\n",
      "Requirement already satisfied: murmurhash<1.1.0,>=0.28.0 in /home/oumar/Bureau/ontology-learning/env/lib/python3.10/site-packages (from spacy<3.8.0,>=3.7.0->fr-core-news-sm==3.7.0) (1.0.10)\n",
      "Requirement already satisfied: typer<0.10.0,>=0.3.0 in /home/oumar/Bureau/ontology-learning/env/lib/python3.10/site-packages (from spacy<3.8.0,>=3.7.0->fr-core-news-sm==3.7.0) (0.9.0)\n",
      "Requirement already satisfied: weasel<0.4.0,>=0.1.0 in /home/oumar/Bureau/ontology-learning/env/lib/python3.10/site-packages (from spacy<3.8.0,>=3.7.0->fr-core-news-sm==3.7.0) (0.3.3)\n",
      "Requirement already satisfied: thinc<8.3.0,>=8.1.8 in /home/oumar/Bureau/ontology-learning/env/lib/python3.10/site-packages (from spacy<3.8.0,>=3.7.0->fr-core-news-sm==3.7.0) (8.2.1)\n",
      "Requirement already satisfied: tqdm<5.0.0,>=4.38.0 in /home/oumar/Bureau/ontology-learning/env/lib/python3.10/site-packages (from spacy<3.8.0,>=3.7.0->fr-core-news-sm==3.7.0) (4.66.1)\n",
      "Requirement already satisfied: pydantic!=1.8,!=1.8.1,<3.0.0,>=1.7.4 in /home/oumar/Bureau/ontology-learning/env/lib/python3.10/site-packages (from spacy<3.8.0,>=3.7.0->fr-core-news-sm==3.7.0) (2.4.2)\n",
      "Requirement already satisfied: annotated-types>=0.4.0 in /home/oumar/Bureau/ontology-learning/env/lib/python3.10/site-packages (from pydantic!=1.8,!=1.8.1,<3.0.0,>=1.7.4->spacy<3.8.0,>=3.7.0->fr-core-news-sm==3.7.0) (0.6.0)\n",
      "Requirement already satisfied: typing-extensions>=4.6.1 in /home/oumar/Bureau/ontology-learning/env/lib/python3.10/site-packages (from pydantic!=1.8,!=1.8.1,<3.0.0,>=1.7.4->spacy<3.8.0,>=3.7.0->fr-core-news-sm==3.7.0) (4.8.0)\n",
      "Requirement already satisfied: pydantic-core==2.10.1 in /home/oumar/Bureau/ontology-learning/env/lib/python3.10/site-packages (from pydantic!=1.8,!=1.8.1,<3.0.0,>=1.7.4->spacy<3.8.0,>=3.7.0->fr-core-news-sm==3.7.0) (2.10.1)\n",
      "Requirement already satisfied: idna<4,>=2.5 in /home/oumar/Bureau/ontology-learning/env/lib/python3.10/site-packages (from requests<3.0.0,>=2.13.0->spacy<3.8.0,>=3.7.0->fr-core-news-sm==3.7.0) (3.4)\n",
      "Requirement already satisfied: urllib3<3,>=1.21.1 in /home/oumar/Bureau/ontology-learning/env/lib/python3.10/site-packages (from requests<3.0.0,>=2.13.0->spacy<3.8.0,>=3.7.0->fr-core-news-sm==3.7.0) (2.0.7)\n",
      "Requirement already satisfied: charset-normalizer<4,>=2 in /home/oumar/Bureau/ontology-learning/env/lib/python3.10/site-packages (from requests<3.0.0,>=2.13.0->spacy<3.8.0,>=3.7.0->fr-core-news-sm==3.7.0) (3.3.2)\n",
      "Requirement already satisfied: certifi>=2017.4.17 in /home/oumar/Bureau/ontology-learning/env/lib/python3.10/site-packages (from requests<3.0.0,>=2.13.0->spacy<3.8.0,>=3.7.0->fr-core-news-sm==3.7.0) (2023.7.22)\n",
      "Requirement already satisfied: confection<1.0.0,>=0.0.1 in /home/oumar/Bureau/ontology-learning/env/lib/python3.10/site-packages (from thinc<8.3.0,>=8.1.8->spacy<3.8.0,>=3.7.0->fr-core-news-sm==3.7.0) (0.1.3)\n",
      "Requirement already satisfied: blis<0.8.0,>=0.7.8 in /home/oumar/Bureau/ontology-learning/env/lib/python3.10/site-packages (from thinc<8.3.0,>=8.1.8->spacy<3.8.0,>=3.7.0->fr-core-news-sm==3.7.0) (0.7.11)\n",
      "Requirement already satisfied: click<9.0.0,>=7.1.1 in /home/oumar/Bureau/ontology-learning/env/lib/python3.10/site-packages (from typer<0.10.0,>=0.3.0->spacy<3.8.0,>=3.7.0->fr-core-news-sm==3.7.0) (8.1.7)\n",
      "Requirement already satisfied: cloudpathlib<0.17.0,>=0.7.0 in /home/oumar/Bureau/ontology-learning/env/lib/python3.10/site-packages (from weasel<0.4.0,>=0.1.0->spacy<3.8.0,>=3.7.0->fr-core-news-sm==3.7.0) (0.16.0)\n",
      "Requirement already satisfied: MarkupSafe>=2.0 in /home/oumar/Bureau/ontology-learning/env/lib/python3.10/site-packages (from jinja2->spacy<3.8.0,>=3.7.0->fr-core-news-sm==3.7.0) (2.1.3)\n",
      "\u001b[38;5;2m✔ Download and installation successful\u001b[0m\n",
      "You can now load the package via spacy.load('fr_core_news_sm')\n"
     ]
    }
   ],
   "source": [
    "# installation of french spacy model\n",
    "!spacy download fr_core_news_sm"
   ]
  },
  {
   "cell_type": "code",
   "execution_count": 25,
   "metadata": {},
   "outputs": [
    {
     "name": "stdout",
     "output_type": "stream",
     "text": [
      "Collecting en-core-web-sm==3.7.1\n",
      "  Downloading https://github.com/explosion/spacy-models/releases/download/en_core_web_sm-3.7.1/en_core_web_sm-3.7.1-py3-none-any.whl (12.8 MB)\n",
      "\u001b[2K     \u001b[90m━━━━━━━━━━━━━━━━━━━━━━━━━━━━━━━━━━━━━━━━\u001b[0m \u001b[32m12.8/12.8 MB\u001b[0m \u001b[31m11.1 MB/s\u001b[0m eta \u001b[36m0:00:00\u001b[0m00:01\u001b[0m00:01\u001b[0m\n",
      "\u001b[?25hRequirement already satisfied: spacy<3.8.0,>=3.7.2 in /home/oumar/Bureau/ontology-learning/env/lib/python3.10/site-packages (from en-core-web-sm==3.7.1) (3.7.2)\n",
      "Requirement already satisfied: langcodes<4.0.0,>=3.2.0 in /home/oumar/Bureau/ontology-learning/env/lib/python3.10/site-packages (from spacy<3.8.0,>=3.7.2->en-core-web-sm==3.7.1) (3.3.0)\n",
      "Requirement already satisfied: spacy-loggers<2.0.0,>=1.0.0 in /home/oumar/Bureau/ontology-learning/env/lib/python3.10/site-packages (from spacy<3.8.0,>=3.7.2->en-core-web-sm==3.7.1) (1.0.5)\n",
      "Requirement already satisfied: spacy-legacy<3.1.0,>=3.0.11 in /home/oumar/Bureau/ontology-learning/env/lib/python3.10/site-packages (from spacy<3.8.0,>=3.7.2->en-core-web-sm==3.7.1) (3.0.12)\n",
      "Requirement already satisfied: srsly<3.0.0,>=2.4.3 in /home/oumar/Bureau/ontology-learning/env/lib/python3.10/site-packages (from spacy<3.8.0,>=3.7.2->en-core-web-sm==3.7.1) (2.4.8)\n",
      "Requirement already satisfied: weasel<0.4.0,>=0.1.0 in /home/oumar/Bureau/ontology-learning/env/lib/python3.10/site-packages (from spacy<3.8.0,>=3.7.2->en-core-web-sm==3.7.1) (0.3.3)\n",
      "Requirement already satisfied: cymem<2.1.0,>=2.0.2 in /home/oumar/Bureau/ontology-learning/env/lib/python3.10/site-packages (from spacy<3.8.0,>=3.7.2->en-core-web-sm==3.7.1) (2.0.8)\n",
      "Requirement already satisfied: wasabi<1.2.0,>=0.9.1 in /home/oumar/Bureau/ontology-learning/env/lib/python3.10/site-packages (from spacy<3.8.0,>=3.7.2->en-core-web-sm==3.7.1) (1.1.2)\n",
      "Requirement already satisfied: catalogue<2.1.0,>=2.0.6 in /home/oumar/Bureau/ontology-learning/env/lib/python3.10/site-packages (from spacy<3.8.0,>=3.7.2->en-core-web-sm==3.7.1) (2.0.10)\n",
      "Requirement already satisfied: tqdm<5.0.0,>=4.38.0 in /home/oumar/Bureau/ontology-learning/env/lib/python3.10/site-packages (from spacy<3.8.0,>=3.7.2->en-core-web-sm==3.7.1) (4.66.1)\n",
      "Requirement already satisfied: packaging>=20.0 in /home/oumar/Bureau/ontology-learning/env/lib/python3.10/site-packages (from spacy<3.8.0,>=3.7.2->en-core-web-sm==3.7.1) (23.2)\n",
      "Requirement already satisfied: preshed<3.1.0,>=3.0.2 in /home/oumar/Bureau/ontology-learning/env/lib/python3.10/site-packages (from spacy<3.8.0,>=3.7.2->en-core-web-sm==3.7.1) (3.0.9)\n",
      "Requirement already satisfied: smart-open<7.0.0,>=5.2.1 in /home/oumar/Bureau/ontology-learning/env/lib/python3.10/site-packages (from spacy<3.8.0,>=3.7.2->en-core-web-sm==3.7.1) (6.4.0)\n",
      "Requirement already satisfied: pydantic!=1.8,!=1.8.1,<3.0.0,>=1.7.4 in /home/oumar/Bureau/ontology-learning/env/lib/python3.10/site-packages (from spacy<3.8.0,>=3.7.2->en-core-web-sm==3.7.1) (2.4.2)\n",
      "Requirement already satisfied: jinja2 in /home/oumar/Bureau/ontology-learning/env/lib/python3.10/site-packages (from spacy<3.8.0,>=3.7.2->en-core-web-sm==3.7.1) (3.1.2)\n",
      "Requirement already satisfied: requests<3.0.0,>=2.13.0 in /home/oumar/Bureau/ontology-learning/env/lib/python3.10/site-packages (from spacy<3.8.0,>=3.7.2->en-core-web-sm==3.7.1) (2.31.0)\n",
      "Requirement already satisfied: murmurhash<1.1.0,>=0.28.0 in /home/oumar/Bureau/ontology-learning/env/lib/python3.10/site-packages (from spacy<3.8.0,>=3.7.2->en-core-web-sm==3.7.1) (1.0.10)\n",
      "Requirement already satisfied: numpy>=1.19.0 in /home/oumar/Bureau/ontology-learning/env/lib/python3.10/site-packages (from spacy<3.8.0,>=3.7.2->en-core-web-sm==3.7.1) (1.26.1)\n",
      "Requirement already satisfied: setuptools in /home/oumar/Bureau/ontology-learning/env/lib/python3.10/site-packages (from spacy<3.8.0,>=3.7.2->en-core-web-sm==3.7.1) (59.6.0)\n",
      "Requirement already satisfied: thinc<8.3.0,>=8.1.8 in /home/oumar/Bureau/ontology-learning/env/lib/python3.10/site-packages (from spacy<3.8.0,>=3.7.2->en-core-web-sm==3.7.1) (8.2.1)\n",
      "Requirement already satisfied: typer<0.10.0,>=0.3.0 in /home/oumar/Bureau/ontology-learning/env/lib/python3.10/site-packages (from spacy<3.8.0,>=3.7.2->en-core-web-sm==3.7.1) (0.9.0)\n",
      "Requirement already satisfied: typing-extensions>=4.6.1 in /home/oumar/Bureau/ontology-learning/env/lib/python3.10/site-packages (from pydantic!=1.8,!=1.8.1,<3.0.0,>=1.7.4->spacy<3.8.0,>=3.7.2->en-core-web-sm==3.7.1) (4.8.0)\n",
      "Requirement already satisfied: annotated-types>=0.4.0 in /home/oumar/Bureau/ontology-learning/env/lib/python3.10/site-packages (from pydantic!=1.8,!=1.8.1,<3.0.0,>=1.7.4->spacy<3.8.0,>=3.7.2->en-core-web-sm==3.7.1) (0.6.0)\n",
      "Requirement already satisfied: pydantic-core==2.10.1 in /home/oumar/Bureau/ontology-learning/env/lib/python3.10/site-packages (from pydantic!=1.8,!=1.8.1,<3.0.0,>=1.7.4->spacy<3.8.0,>=3.7.2->en-core-web-sm==3.7.1) (2.10.1)\n",
      "Requirement already satisfied: certifi>=2017.4.17 in /home/oumar/Bureau/ontology-learning/env/lib/python3.10/site-packages (from requests<3.0.0,>=2.13.0->spacy<3.8.0,>=3.7.2->en-core-web-sm==3.7.1) (2023.7.22)\n",
      "Requirement already satisfied: urllib3<3,>=1.21.1 in /home/oumar/Bureau/ontology-learning/env/lib/python3.10/site-packages (from requests<3.0.0,>=2.13.0->spacy<3.8.0,>=3.7.2->en-core-web-sm==3.7.1) (2.0.7)\n",
      "Requirement already satisfied: idna<4,>=2.5 in /home/oumar/Bureau/ontology-learning/env/lib/python3.10/site-packages (from requests<3.0.0,>=2.13.0->spacy<3.8.0,>=3.7.2->en-core-web-sm==3.7.1) (3.4)\n",
      "Requirement already satisfied: charset-normalizer<4,>=2 in /home/oumar/Bureau/ontology-learning/env/lib/python3.10/site-packages (from requests<3.0.0,>=2.13.0->spacy<3.8.0,>=3.7.2->en-core-web-sm==3.7.1) (3.3.2)\n",
      "Requirement already satisfied: blis<0.8.0,>=0.7.8 in /home/oumar/Bureau/ontology-learning/env/lib/python3.10/site-packages (from thinc<8.3.0,>=8.1.8->spacy<3.8.0,>=3.7.2->en-core-web-sm==3.7.1) (0.7.11)\n",
      "Requirement already satisfied: confection<1.0.0,>=0.0.1 in /home/oumar/Bureau/ontology-learning/env/lib/python3.10/site-packages (from thinc<8.3.0,>=8.1.8->spacy<3.8.0,>=3.7.2->en-core-web-sm==3.7.1) (0.1.3)\n",
      "Requirement already satisfied: click<9.0.0,>=7.1.1 in /home/oumar/Bureau/ontology-learning/env/lib/python3.10/site-packages (from typer<0.10.0,>=0.3.0->spacy<3.8.0,>=3.7.2->en-core-web-sm==3.7.1) (8.1.7)\n",
      "Requirement already satisfied: cloudpathlib<0.17.0,>=0.7.0 in /home/oumar/Bureau/ontology-learning/env/lib/python3.10/site-packages (from weasel<0.4.0,>=0.1.0->spacy<3.8.0,>=3.7.2->en-core-web-sm==3.7.1) (0.16.0)\n",
      "Requirement already satisfied: MarkupSafe>=2.0 in /home/oumar/Bureau/ontology-learning/env/lib/python3.10/site-packages (from jinja2->spacy<3.8.0,>=3.7.2->en-core-web-sm==3.7.1) (2.1.3)\n",
      "Installing collected packages: en-core-web-sm\n",
      "  Attempting uninstall: en-core-web-sm\n",
      "    Found existing installation: en-core-web-sm 3.7.0\n",
      "    Uninstalling en-core-web-sm-3.7.0:\n",
      "      Successfully uninstalled en-core-web-sm-3.7.0\n",
      "Successfully installed en-core-web-sm-3.7.1\n",
      "\u001b[38;5;2m✔ Download and installation successful\u001b[0m\n",
      "You can now load the package via spacy.load('en_core_web_sm')\n"
     ]
    }
   ],
   "source": [
    "# installation of french spacy model\n",
    "!spacy download en_core_web_sm"
   ]
  },
  {
   "cell_type": "code",
   "execution_count": null,
   "metadata": {},
   "outputs": [],
   "source": []
  },
  {
   "cell_type": "code",
   "execution_count": 26,
   "metadata": {},
   "outputs": [],
   "source": [
    "\n",
    "# spacy_sm_model = spacy.load(\"fr_core_news_sm\")  # load a small size french model\n",
    "# spacy_md_model = spacy.load(\"fr_core_news_md\")  # load a meduim size french model\n",
    "spacy_sm_model = spacy.load(\"en_core_web_sm\")"
   ]
  },
  {
   "cell_type": "code",
   "execution_count": 27,
   "metadata": {},
   "outputs": [],
   "source": [
    "def display_concept(kr : KnowledgeRepresentation) -> None:\n",
    "    print(\"Concepts in KR:\")\n",
    "    for concept in kr.concepts:\n",
    "        print(concept.label)\n",
    "\n",
    "def display_relation(kr : KnowledgeRepresentation) -> None:\n",
    "    print(\"Relations in KR:\")\n",
    "    for relation in kr.relations:\n",
    "        if (\n",
    "            relation.source_concept is not None\n",
    "            or relation.destination_concept is not None\n",
    "        ):\n",
    "            print((relation.source_concept.label, relation.label, relation.destination_concept.label))"
   ]
  },
  {
   "cell_type": "markdown",
   "metadata": {},
   "source": [
    "## Load the corpus"
   ]
  },
  {
   "cell_type": "code",
   "execution_count": 28,
   "metadata": {},
   "outputs": [
    {
     "data": {
      "text/plain": [
       "['Each defect type is described in detail, explaining how it appears on the steel strip surface and the reasons behind its occurrence:',\n",
       " '    Punching: In the production line of the strip, the steel strip needs to be punched according to the product specifications; mechanical failure may lead to unwanted punching, resulting in punching defects.',\n",
       " '    Welding line: When the strip is changed, it is necessary to weld the two coils of the strip, and the weld line is produced. Strictly speaking, this is not a defect, but it needs to be automatically detected and tracked to be circumvented in subsequent cuts.',\n",
       " '    Crescent gap: In the production of steel strip, cutting sometimes results in defects, just like half a circle.',\n",
       " '    Water spot: A water spot is produced by drying in production. Under different products and processes, the requirements for this defect are different. However, because the water spots are generally with low contrast, and are similar to other defects such as oil spots, they are usually detected by mistake.',\n",
       " '    Oil spot: An oil spot is usually caused by the contamination of mechanical lubricant, which will affect the appearance of the product.',\n",
       " '    Silk spot: A local or continuous wave-like plaque on a strip surface that may appear on the upper and lower surfaces, and the density is uneven in the whole strip length direction. Generally, the main reason lies in the uneven temperature of the roller and uneven pressure.',\n",
       " '    Inclusion: Inclusion is a typical defect of metal surface defects, usually showing small spots, fish scale shape, strip shape, block irregular distribution in the strip of the upper and lower surface (global or local), and is often accompanied by rough pockmarked surfaces. Some inclusions are loose and easy to fall off and some are pressed into the plate.',\n",
       " '    Rolled pit: Rolled pits are periodic bulges or pits on the surface of a steel plate that are punctate, flaky, or strip-like. They are distributed throughout the strip length or section, mainly caused by work roll or tension roll damage.',\n",
       " '    Crease: A crease is a vertical transverse fold, with regular or irregular spacing across the strip, or at the edge of the strip. The main reason is the local yield along the moving direction of the strip in the uncoiling process.',\n",
       " '    Waist folding: There are obvious folds in the defect parts, a little more popular, a little like wrinkles, indicating that the local deformation of the defect is too large. The reason is due to low-carbon.']"
      ]
     },
     "execution_count": 28,
     "metadata": {},
     "output_type": "execute_result"
    }
   ],
   "source": [
    "corpus_path = 'GC10-DET_doc.txt'\n",
    "corpus = TextCorpusLoader(corpus_path)._read_corpus()\n",
    "corpus = [ doc[:-1] for doc in corpus]\n",
    "corpus"
   ]
  },
  {
   "cell_type": "markdown",
   "metadata": {},
   "source": [
    "### Concept Extraction"
   ]
  },
  {
   "cell_type": "code",
   "execution_count": 29,
   "metadata": {},
   "outputs": [
    {
     "name": "stderr",
     "output_type": "stream",
     "text": [
      "[2024-05-02 15:03:49,307] [WARNING] [pos_term_extraction] [__init__] [No preprocessing function provided for spans. Using the default one.]\n",
      "[2024-05-02 15:03:49,308] [WARNING] [pos_term_extraction] [_check_parameters] [POS term extraction token sequence attribute not set by the user.\n",
      "               By default the system will use the entire content of the document.]\n"
     ]
    }
   ],
   "source": [
    "\n",
    "# POS tags to select concepts in the corpus\n",
    "# here used nouns as concept\n",
    "concept_pos_selection= [\"NOUN\"]\n",
    "\n",
    "# Setting the parameters of the component\n",
    "my_term_extract_concept = POSTermExtraction(pos_selection=concept_pos_selection)\n",
    "\n",
    "# Concept extraction based on validation of candidate terms found above.\n",
    "my_concept_extraction = CTsToConceptExtraction()"
   ]
  },
  {
   "cell_type": "markdown",
   "metadata": {},
   "source": [
    "### Relation Extraction"
   ]
  },
  {
   "cell_type": "code",
   "execution_count": 30,
   "metadata": {},
   "outputs": [
    {
     "name": "stderr",
     "output_type": "stream",
     "text": [
      "[2024-05-02 15:03:49,316] [WARNING] [pos_term_extraction] [__init__] [No preprocessing function provided for spans. Using the default one.]\n",
      "[2024-05-02 15:03:49,317] [WARNING] [pos_term_extraction] [_check_parameters] [POS term extraction token sequence attribute not set by the user.\n",
      "               By default the system will use the entire content of the document.]\n"
     ]
    }
   ],
   "source": [
    "# POS tags to select relation in the corpus\n",
    "# here used verbs as relation\n",
    "relation_pos_selection= [\"VERB\"]\n",
    "\n",
    "# Setting the parameters of the component\n",
    "my_term_extract_relation = POSTermExtraction(pos_selection=relation_pos_selection)\n",
    "\n",
    "# relation extraction based on validation of candidate terms found above.\n",
    "my_relation_extraction = CTsToRelationExtraction(concept_max_distance=3)"
   ]
  },
  {
   "cell_type": "markdown",
   "metadata": {},
   "source": [
    "## Manuel Candidat Extraction Pipeline"
   ]
  },
  {
   "cell_type": "code",
   "execution_count": 31,
   "metadata": {},
   "outputs": [
    {
     "name": "stderr",
     "output_type": "stream",
     "text": [
      "[2024-05-02 15:03:49,331] [WARNING] [candidate_terms_to_relations] [_check_parameters] [No value given for concept_max_distance parameter, default will be set to 5.]\n"
     ]
    }
   ],
   "source": [
    "from olaf.pipeline.pipeline_component.term_extraction.manual_candidate_terms import (\n",
    "    ManualCandidateTermExtraction,\n",
    ")\n",
    "from olaf.pipeline.pipeline_component.concept_relation_extraction.candidate_terms_to_concepts import CTsToConceptExtraction\n",
    "\n",
    "from olaf.pipeline.pipeline_component.concept_relation_extraction.candidate_terms_to_relations import CTsToRelationExtraction\n",
    "\n",
    "\n",
    "# concept extraction component\n",
    "concepts = [\n",
    "    \"defect type\",\n",
    "    \"steel strip surface\",\n",
    "    \"punching\",\n",
    "    \"mechanical failure\",\n",
    "    \"welding line\",\n",
    "    \"coil\",\n",
    "    \"weld line\",\n",
    "    \"crescent gap\",\n",
    "    \"cutting\",\n",
    "    \"water spot\",\n",
    "    \"drying\",\n",
    "    \"oil spot\",\n",
    "    \"mechanical lubricant\",\n",
    "    \"silk spot\",\n",
    "    \"plaque\",\n",
    "    \"strip surface\",\n",
    "    \"roller\",\n",
    "    \"pressure\",\n",
    "    \"inclusion\",\n",
    "    \"metal surface\",\n",
    "    \"spots\",\n",
    "    \"fish scale shape\",\n",
    "    \"block irregular distribution\",\n",
    "    \"rolled pit\",\n",
    "    \"bulges\",\n",
    "    \"pits\",\n",
    "    \"steel plate\",\n",
    "    \"work roll\",\n",
    "    \"tension roll\",\n",
    "    \"damage\",\n",
    "    \"crease\",\n",
    "    \"fold\",\n",
    "    \"uncoiling process\",\n",
    "    \"waist folding\",\n",
    "    \"deformation\",\n",
    "    \"low-carbon\"\n",
    "]\n",
    "\n",
    "relations = [\n",
    "    \"described\",\n",
    "    \"explaining\",\n",
    "    \"appears\",\n",
    "    \"leads\",\n",
    "    \"resulting\",\n",
    "    \"changed\",\n",
    "    \"produced\",\n",
    "    \"drying\",\n",
    "    \"caused\",\n",
    "    \"affect\",\n",
    "    \"appearing\",\n",
    "    \"lies\",\n",
    "    \"distributed\",\n",
    "    \"accompanied\",\n",
    "    \"showing\",\n",
    "    \"pressed\",\n",
    "    \"occurred\",\n",
    "    \"circumvented\",\n",
    "    \"detected\",\n",
    "    \"tracked\",\n",
    "    \"results\",\n",
    "    \"like\",\n",
    "    \"mainly\",\n",
    "    \"uncoiling\"\n",
    "]\n",
    "\n",
    "ct_concept_label = { concept : {concept} for concept in concepts}\n",
    "\n",
    "manuel_concept_extraction = ManualCandidateTermExtraction(\n",
    "    ct_label_strings_map=ct_concept_label\n",
    ")\n",
    "\n",
    "concept_extraction = CTsToConceptExtraction(\n",
    ")\n",
    "# concept extraction component\n",
    "\n",
    "ct_relation_label = { relation : {relation} for relation in relations}\n",
    "\n",
    "manuel_relation_extraction = ManualCandidateTermExtraction(\n",
    "    ct_label_strings_map=ct_relation_label\n",
    ")\n",
    "\n",
    "relation_extraction = CTsToRelationExtraction(\n",
    ")\n",
    "\n"
   ]
  },
  {
   "cell_type": "code",
   "execution_count": 32,
   "metadata": {},
   "outputs": [],
   "source": [
    "olaf_pipeline = Pipeline(\n",
    "    spacy_model=spacy_sm_model,\n",
    "    pipeline_components=[\n",
    "        manuel_concept_extraction,\n",
    "        concept_extraction,\n",
    "        manuel_relation_extraction,\n",
    "        relation_extraction,\n",
    "    ],\n",
    "    corpus=list(spacy_sm_model.pipe(corpus)),\n",
    ")\n",
    "\n",
    "olaf_pipeline.run()"
   ]
  },
  {
   "cell_type": "code",
   "execution_count": 33,
   "metadata": {},
   "outputs": [
    {
     "name": "stdout",
     "output_type": "stream",
     "text": [
      "Concepts in KR:\n",
      "roller\n",
      "water spot\n",
      "damage\n",
      "oil spot\n",
      "mechanical failure\n",
      "plaque\n",
      "uncoiling process\n",
      "defect type\n",
      "bulges\n",
      "crease\n",
      "steel strip surface\n",
      "deformation\n",
      "pressure\n",
      "welding line\n",
      "strip surface\n",
      "crescent gap\n",
      "block irregular distribution\n",
      "fish scale shape\n",
      "steel plate\n",
      "cutting\n",
      "silk spot\n",
      "waist folding\n",
      "inclusion\n",
      "fold\n",
      "drying\n",
      "low-carbon\n",
      "work roll\n",
      "pits\n",
      "metal surface\n",
      "mechanical lubricant\n",
      "weld line\n",
      "rolled pit\n",
      "spots\n",
      "punching\n",
      "tension roll\n"
     ]
    }
   ],
   "source": [
    "display_concept(olaf_pipeline.kr)"
   ]
  },
  {
   "cell_type": "code",
   "execution_count": 34,
   "metadata": {},
   "outputs": [
    {
     "name": "stdout",
     "output_type": "stream",
     "text": [
      "distributed\n",
      "like\n",
      "resulting\n",
      "showing\n",
      "pressed\n",
      "lies\n",
      "produced\n",
      "drying\n",
      "explaining\n",
      "mainly\n",
      "circumvented\n",
      "detected\n",
      "results\n",
      "accompanied\n",
      "uncoiling\n",
      "changed\n",
      "tracked\n",
      "described\n",
      "appears\n",
      "affect\n",
      "caused\n",
      "produced\n"
     ]
    }
   ],
   "source": [
    "for relation in olaf_pipeline.kr.relations:\n",
    "    print(relation.label)"
   ]
  },
  {
   "cell_type": "markdown",
   "metadata": {},
   "source": [
    "## TFIDF"
   ]
  },
  {
   "cell_type": "code",
   "execution_count": 35,
   "metadata": {},
   "outputs": [],
   "source": [
    "from typing import Set\n",
    "from spacy.matcher import Matcher\n",
    "from olaf.data_container.relation_schema import Relation"
   ]
  },
  {
   "cell_type": "code",
   "execution_count": 45,
   "metadata": {},
   "outputs": [],
   "source": [
    "\n",
    "def relation_postprocessor(relations : Set[Relation], nlp=spacy.load(\"en_core_web_sm\")) -> Set[Relation]:\n",
    "    correct_relations = set()\n",
    "    relation_patterns = [\n",
    "        [{\"POS\": \"AUX\", \"DEP\": \"ROOT\"}],\n",
    "        [{\"POS\": \"AUX\", \"OP\": \"?\"}, {\"POS\": \"ADV\", \"OP\": \"?\"},{\"POS\": \"VERB\"}, {\"POS\": \"ADP\", \"OP\": \"?\"}],\n",
    "        [{\"POS\": \"AUX\"}, {\"POS\": \"ADJ\", \"OP\": \"+\"}, {\"POS\": \"ADP\"}],\n",
    "        [{\"POS\": \"AUX\"}, {\"POS\": \"VERB\", \"OP\": \"+\"}, {\"POS\": \"ADP\", \"OP\": \"?\"}],\n",
    "        ]\n",
    "    matcher = Matcher(nlp.vocab)\n",
    "\n",
    "    matcher.add(\"REALTION_PATTERN\", relation_patterns)\n",
    "\n",
    "    for relation in relations:\n",
    "        relation_doc = nlp(relation.label)\n",
    "        matches = matcher(relation_doc)\n",
    "        if any(\n",
    "            len(relation_doc[start_idx:end_idx]) == len(relation_doc)\n",
    "            for _, start_idx, end_idx in matches\n",
    "        ):\n",
    "            correct_relations.add(relation)\n",
    "    \n",
    "    return correct_relations"
   ]
  },
  {
   "cell_type": "code",
   "execution_count": 46,
   "metadata": {},
   "outputs": [
    {
     "name": "stderr",
     "output_type": "stream",
     "text": [
      "[2024-05-02 15:59:52,717] [WARNING] [tfidf_term_extraction] [_check_parameters] [Selected token sequence document attribute not set by the user.\n",
      "                By default the system will use the entire content of the document.]\n"
     ]
    }
   ],
   "source": [
    "from olaf.pipeline.pipeline_component.term_extraction.tfidf_term_extraction import (\n",
    "    TFIDFTermExtraction,\n",
    ")\n",
    "\n",
    "relation_term_extraction = TFIDFTermExtraction(max_term_token_length=3, cts_post_processing_functions=[relation_postprocessor])\n",
    "\n",
    "olaf_pipeline = Pipeline(\n",
    "    spacy_model=spacy_sm_model,\n",
    "    pipeline_components=[\n",
    "        manuel_concept_extraction,\n",
    "        concept_extraction,\n",
    "        manuel_relation_extraction,\n",
    "        relation_term_extraction,\n",
    "        relation_extraction,\n",
    "    ],\n",
    "    corpus=list(spacy_sm_model.pipe(corpus)),\n",
    ")\n",
    "\n",
    "olaf_pipeline.run()"
   ]
  },
  {
   "cell_type": "code",
   "execution_count": 38,
   "metadata": {},
   "outputs": [
    {
     "name": "stdout",
     "output_type": "stream",
     "text": [
      "Concepts in KR:\n",
      "rolled pit\n",
      "cutting\n",
      "punching\n",
      "pits\n",
      "fish scale shape\n",
      "deformation\n",
      "metal surface\n",
      "mechanical failure\n",
      "work roll\n",
      "spots\n",
      "steel strip surface\n",
      "bulges\n",
      "oil spot\n",
      "strip surface\n",
      "weld line\n",
      "block irregular distribution\n",
      "mechanical lubricant\n",
      "pressure\n",
      "roller\n",
      "low-carbon\n",
      "waist folding\n",
      "damage\n",
      "tension roll\n",
      "defect type\n",
      "inclusion\n",
      "uncoiling process\n",
      "crescent gap\n",
      "steel plate\n",
      "drying\n",
      "fold\n",
      "silk spot\n",
      "plaque\n",
      "welding line\n",
      "water spot\n",
      "crease\n"
     ]
    }
   ],
   "source": [
    "display_concept(olaf_pipeline.kr)"
   ]
  },
  {
   "cell_type": "code",
   "execution_count": 47,
   "metadata": {},
   "outputs": [
    {
     "name": "stdout",
     "output_type": "stream",
     "text": [
      "is\n",
      "defect\n",
      "caused by\n",
      "are pressed\n",
      "appears on\n",
      "described in\n",
      "speaking\n",
      "according\n",
      "indicating\n",
      "explaining\n",
      "may appear\n",
      "will\n",
      "uncoiling\n",
      "caused\n",
      "is described\n",
      "punched\n",
      "is due to\n",
      "needs\n",
      "lead\n",
      "roll\n",
      "spacing across\n",
      "pressed\n",
      "are distributed throughout\n",
      "lies in\n",
      "automatically detected\n",
      "sometimes results\n",
      "roll\n",
      "detected\n",
      "according to\n",
      "rolled\n",
      "like\n",
      "fall\n",
      "are\n",
      "punctate\n",
      "caused by\n",
      "is changed\n",
      "be punched according\n",
      "described\n",
      "appears\n",
      "fall off\n",
      "folds\n",
      "distributed throughout\n",
      "drying in\n",
      "often accompanied\n",
      "usually caused by\n",
      "lead to\n",
      "be circumvented in\n",
      "are usually detected\n",
      "often accompanied by\n",
      "produced\n",
      "is usually caused\n",
      "detected by\n",
      "appear on\n",
      "may lead to\n",
      "changed\n",
      "strictly speaking\n",
      "transverse\n",
      "be\n",
      "are\n",
      "usually detected\n",
      "distributed\n",
      "mainly\n",
      "welding\n",
      "appears\n",
      "tracked\n",
      "are\n",
      "showing\n",
      "is produced\n",
      "may\n",
      "affect\n",
      "appear\n",
      "spacing\n",
      "is\n",
      "resulting in\n",
      "accompanied\n",
      "caused\n",
      "lies\n",
      "produced\n",
      "folds in\n",
      "block\n",
      "distributed\n",
      "resulting\n",
      "drying\n",
      "usually showing\n",
      "pockmarked\n",
      "may lead\n",
      "results\n",
      "will affect\n",
      "produced\n",
      "produced by\n",
      "rolled\n",
      "weld\n",
      "fold\n",
      "tracked to\n",
      "explaining\n",
      "moving\n",
      "produced\n",
      "sometimes results in\n",
      "are similar to\n",
      "are pressed into\n",
      "punching\n",
      "circumvented in\n",
      "rolled\n",
      "folding\n",
      "resulting\n",
      "affect\n",
      "defect\n",
      "showing\n",
      "mainly caused\n",
      "be punched\n",
      "is produced\n",
      "is described in\n",
      "mistake\n",
      "accompanied\n",
      "are\n",
      "may appear on\n",
      "circumvented\n",
      "cutting\n",
      "are\n",
      "is uneven in\n",
      "pressed\n",
      "changed\n",
      "usually caused\n",
      "uncoiling\n",
      "be circumvented\n",
      "accompanied by\n",
      "are distributed\n",
      "drying\n",
      "is often accompanied\n",
      "detected\n",
      "tracked\n",
      "mainly caused by\n",
      "described\n",
      "pressed into\n",
      "is produced by\n",
      "is\n",
      "roll\n",
      "may\n",
      "usually detected by\n",
      "circumvented\n",
      "be automatically detected\n"
     ]
    }
   ],
   "source": [
    "for relation in olaf_pipeline.kr.relations:\n",
    "    print(relation.label)"
   ]
  },
  {
   "cell_type": "code",
   "execution_count": 48,
   "metadata": {},
   "outputs": [
    {
     "name": "stdout",
     "output_type": "stream",
     "text": [
      "Relations in KR:\n",
      "('crease', 'is', 'fold')\n",
      "('inclusion', 'defect', 'metal surface')\n",
      "('mechanical failure', 'lead', 'punching')\n",
      "('work roll', 'roll', 'damage')\n",
      "('work roll', 'roll', 'tension roll')\n",
      "('rolled pit', 'rolled', 'pits')\n",
      "('rolled pit', 'are', 'bulges')\n",
      "('oil spot', 'caused by', 'mechanical lubricant')\n",
      "('oil spot', 'usually caused by', 'mechanical lubricant')\n",
      "('mechanical failure', 'lead to', 'punching')\n",
      "('water spot', 'produced', 'drying')\n",
      "('mechanical failure', 'may lead to', 'punching')\n",
      "('crease', 'transverse', 'fold')\n",
      "('pits', 'are', 'pits')\n",
      "('metal surface', 'showing', 'spots')\n",
      "('mechanical failure', 'may', 'punching')\n",
      "('punching', 'resulting in', 'punching')\n",
      "('punching', 'resulting', 'punching')\n",
      "('metal surface', 'usually showing', 'spots')\n",
      "('mechanical failure', 'may lead', 'punching')\n",
      "('water spot', 'produced', 'drying')\n",
      "('water spot', 'produced by', 'drying')\n",
      "('rolled pit', 'rolled', 'bulges')\n",
      "('punching', 'resulting', 'punching')\n",
      "('metal surface', 'showing', 'spots')\n",
      "('water spot', 'is produced', 'drying')\n",
      "('pits', 'are', 'bulges')\n",
      "('rolled pit', 'are', 'pits')\n",
      "('water spot', 'is produced by', 'drying')\n",
      "('water spot', 'is', 'drying')\n",
      "('tension roll', 'roll', 'damage')\n"
     ]
    }
   ],
   "source": [
    "display_relation(olaf_pipeline.kr)"
   ]
  },
  {
   "cell_type": "code",
   "execution_count": 41,
   "metadata": {},
   "outputs": [
    {
     "name": "stdout",
     "output_type": "stream",
     "text": [
      "roll\n",
      "pressed into\n",
      "sometimes results\n",
      "is uneven in\n",
      "drying\n",
      "is often accompanied\n",
      "circumvented\n",
      "tracked\n",
      "detected\n",
      "lead\n",
      "pressed\n",
      "spacing\n",
      "produced by\n",
      "are distributed throughout\n",
      "needs\n",
      "appear\n",
      "according\n",
      "are\n",
      "caused by\n",
      "may\n",
      "punching\n",
      "produced\n",
      "pockmarked\n",
      "are pressed\n",
      "circumvented in\n",
      "is\n",
      "according to\n",
      "distributed\n",
      "explaining\n",
      "are\n",
      "be automatically detected\n",
      "accompanied\n",
      "caused by\n",
      "appears\n",
      "be\n",
      "caused\n",
      "block\n",
      "accompanied\n",
      "drying\n",
      "appear on\n",
      "showing\n",
      "uncoiling\n",
      "results\n",
      "usually detected by\n",
      "is produced\n",
      "mainly caused\n",
      "caused\n",
      "mainly caused by\n",
      "often accompanied by\n",
      "usually caused by\n",
      "affect\n",
      "like\n",
      "transverse\n",
      "are usually detected\n",
      "drying in\n",
      "automatically detected\n",
      "mistake\n",
      "is produced\n",
      "spacing across\n",
      "may appear on\n",
      "explaining\n",
      "are\n",
      "is described\n",
      "rolled\n",
      "will affect\n",
      "are distributed\n",
      "usually showing\n",
      "defect\n",
      "lead to\n",
      "often accompanied\n",
      "is\n",
      "roll\n",
      "fall off\n",
      "folds\n",
      "welding\n",
      "distributed throughout\n",
      "accompanied by\n",
      "indicating\n",
      "folds in\n",
      "produced\n",
      "tracked\n",
      "circumvented\n",
      "are pressed into\n",
      "distributed\n",
      "may\n",
      "is changed\n",
      "punched\n",
      "are\n",
      "usually detected\n",
      "pressed\n",
      "defect\n",
      "appears on\n",
      "be punched according\n",
      "strictly speaking\n",
      "be circumvented in\n",
      "roll\n",
      "usually caused\n",
      "are similar to\n",
      "rolled\n",
      "tracked to\n",
      "sometimes results in\n",
      "be circumvented\n",
      "may lead to\n",
      "is produced by\n",
      "uncoiling\n",
      "resulting\n",
      "produced\n",
      "lies\n",
      "may appear\n",
      "is usually caused\n",
      "cutting\n",
      "will\n",
      "produced\n",
      "affect\n",
      "be punched\n",
      "detected by\n",
      "speaking\n",
      "described in\n",
      "rolled\n",
      "may lead\n",
      "described\n",
      "is\n",
      "punctate\n",
      "is described in\n",
      "changed\n",
      "detected\n",
      "resulting in\n",
      "appears\n",
      "moving\n",
      "fall\n",
      "resulting\n",
      "weld\n",
      "fold\n",
      "lies in\n",
      "showing\n",
      "changed\n",
      "are\n",
      "is due to\n",
      "described\n",
      "folding\n",
      "mainly\n"
     ]
    }
   ],
   "source": [
    "for relation in olaf_pipeline.kr.relations:\n",
    "    print(relation.label)"
   ]
  },
  {
   "cell_type": "markdown",
   "metadata": {},
   "source": [
    "## Let's find how to postprocess relation after TFIDF"
   ]
  },
  {
   "cell_type": "code",
   "execution_count": 42,
   "metadata": {},
   "outputs": [
    {
     "data": {
      "text/plain": []
     },
     "execution_count": 42,
     "metadata": {},
     "output_type": "execute_result"
    }
   ],
   "source": [
    "doc = spacy_sm_model(\"\")\n",
    "doc"
   ]
  },
  {
   "cell_type": "code",
   "execution_count": 43,
   "metadata": {},
   "outputs": [
    {
     "name": "stdout",
     "output_type": "stream",
     "text": [
      "the DET det faillure\n",
      "faillure NOUN nsubjpass caused\n",
      "is AUX auxpass caused\n",
      "caused VERB ROOT caused\n",
      "by ADP agent caused\n",
      "rolled VERB amod pits\n",
      "pits NOUN pobj by\n"
     ]
    }
   ],
   "source": [
    "text = \"the faillure is caused by rolled pits\"\n",
    "\n",
    "nlp = spacy.load(\"en_core_web_lg\")\n",
    "\n",
    "doc = nlp(text)\n",
    "for token in doc:\n",
    "    print(token.text, token.pos_, token.dep_, token.head)"
   ]
  },
  {
   "cell_type": "code",
   "execution_count": 49,
   "metadata": {},
   "outputs": [
    {
     "ename": "TypeError",
     "evalue": "sequence item 0: expected str instance, Concept found",
     "output_type": "error",
     "traceback": [
      "\u001b[0;31m---------------------------------------------------------------------------\u001b[0m",
      "\u001b[0;31mTypeError\u001b[0m                                 Traceback (most recent call last)",
      "Cell \u001b[0;32mIn[49], line 5\u001b[0m\n\u001b[1;32m      1\u001b[0m text \u001b[38;5;241m=\u001b[39m \u001b[38;5;124m\"\u001b[39m\u001b[38;5;124mRolled pits are periodic bulges\u001b[39m\u001b[38;5;124m\"\u001b[39m\n\u001b[1;32m      3\u001b[0m nlp \u001b[38;5;241m=\u001b[39m spacy\u001b[38;5;241m.\u001b[39mload(\u001b[38;5;124m\"\u001b[39m\u001b[38;5;124men_core_web_lg\u001b[39m\u001b[38;5;124m\"\u001b[39m)\n\u001b[0;32m----> 5\u001b[0m doc \u001b[38;5;241m=\u001b[39m nlp(\u001b[38;5;124;43m\"\u001b[39;49m\u001b[38;5;124;43m\"\u001b[39;49m\u001b[38;5;241;43m.\u001b[39;49m\u001b[43mjoin\u001b[49m\u001b[43m(\u001b[49m\u001b[43molaf_pipeline\u001b[49m\u001b[38;5;241;43m.\u001b[39;49m\u001b[43mkr\u001b[49m\u001b[38;5;241;43m.\u001b[39;49m\u001b[43mconcepts\u001b[49m\u001b[43m)\u001b[49m)\n\u001b[1;32m      6\u001b[0m \u001b[38;5;28;01mfor\u001b[39;00m token \u001b[38;5;129;01min\u001b[39;00m doc:\n\u001b[1;32m      7\u001b[0m     \u001b[38;5;28mprint\u001b[39m(token\u001b[38;5;241m.\u001b[39mtext, token\u001b[38;5;241m.\u001b[39mpos_, token\u001b[38;5;241m.\u001b[39mdep_, token\u001b[38;5;241m.\u001b[39mhead)\n",
      "\u001b[0;31mTypeError\u001b[0m: sequence item 0: expected str instance, Concept found"
     ]
    }
   ],
   "source": [
    "text = \"Rolled pits are periodic bulges\"\n",
    "\n",
    "nlp = spacy.load(\"en_core_web_lg\")\n",
    "\n",
    "doc = nlp(\" \".join(olaf_pipeline.kr.concepts))\n",
    "for token in doc:\n",
    "    print(token.text, token.pos_, token.dep_, token.head)\n"
   ]
  },
  {
   "cell_type": "code",
   "execution_count": 50,
   "metadata": {},
   "outputs": [
    {
     "data": {
      "text/plain": [
       "{<olaf.data_container.concept_schema.Concept at 0x781cffff4130>,\n",
       " <olaf.data_container.concept_schema.Concept at 0x781cffff41c0>,\n",
       " <olaf.data_container.concept_schema.Concept at 0x781cffff4460>,\n",
       " <olaf.data_container.concept_schema.Concept at 0x781cffff4670>,\n",
       " <olaf.data_container.concept_schema.Concept at 0x781cffff46d0>,\n",
       " <olaf.data_container.concept_schema.Concept at 0x781cffff4790>,\n",
       " <olaf.data_container.concept_schema.Concept at 0x781cffff4ac0>,\n",
       " <olaf.data_container.concept_schema.Concept at 0x781cffff4d90>,\n",
       " <olaf.data_container.concept_schema.Concept at 0x781cffff4ee0>,\n",
       " <olaf.data_container.concept_schema.Concept at 0x781cffff4fa0>,\n",
       " <olaf.data_container.concept_schema.Concept at 0x781d00067490>,\n",
       " <olaf.data_container.concept_schema.Concept at 0x781d0ce0c040>,\n",
       " <olaf.data_container.concept_schema.Concept at 0x781d0ce0c280>,\n",
       " <olaf.data_container.concept_schema.Concept at 0x781d0ce0dc30>,\n",
       " <olaf.data_container.concept_schema.Concept at 0x781d0dac6470>,\n",
       " <olaf.data_container.concept_schema.Concept at 0x781d0dac6590>,\n",
       " <olaf.data_container.concept_schema.Concept at 0x781d0dac7880>,\n",
       " <olaf.data_container.concept_schema.Concept at 0x781d0dc238e0>,\n",
       " <olaf.data_container.concept_schema.Concept at 0x781d0dd6ca00>,\n",
       " <olaf.data_container.concept_schema.Concept at 0x781d0dd6cca0>,\n",
       " <olaf.data_container.concept_schema.Concept at 0x781d0dd7d720>,\n",
       " <olaf.data_container.concept_schema.Concept at 0x781d1ce4ef50>,\n",
       " <olaf.data_container.concept_schema.Concept at 0x781d1ce4f2e0>,\n",
       " <olaf.data_container.concept_schema.Concept at 0x781d1ce4f370>,\n",
       " <olaf.data_container.concept_schema.Concept at 0x781d1ce4f430>,\n",
       " <olaf.data_container.concept_schema.Concept at 0x781d1ce4f5b0>,\n",
       " <olaf.data_container.concept_schema.Concept at 0x781d1ce4f940>,\n",
       " <olaf.data_container.concept_schema.Concept at 0x781d1ce4fcd0>,\n",
       " <olaf.data_container.concept_schema.Concept at 0x781d1ce4fd00>,\n",
       " <olaf.data_container.concept_schema.Concept at 0x781d1ce4fd60>,\n",
       " <olaf.data_container.concept_schema.Concept at 0x781d1ce4fee0>,\n",
       " <olaf.data_container.concept_schema.Concept at 0x781d1ce4ff70>,\n",
       " <olaf.data_container.concept_schema.Concept at 0x781d1ce4ffa0>,\n",
       " <olaf.data_container.concept_schema.Concept at 0x781d1ce4ffd0>,\n",
       " <olaf.data_container.concept_schema.Concept at 0x781d1cfc6aa0>}"
      ]
     },
     "execution_count": 50,
     "metadata": {},
     "output_type": "execute_result"
    }
   ],
   "source": [
    "olaf_pipeline.kr.concepts"
   ]
  }
 ],
 "metadata": {
  "kernelspec": {
   "display_name": "env",
   "language": "python",
   "name": "python3"
  },
  "language_info": {
   "codemirror_mode": {
    "name": "ipython",
    "version": 3
   },
   "file_extension": ".py",
   "mimetype": "text/x-python",
   "name": "python",
   "nbconvert_exporter": "python",
   "pygments_lexer": "ipython3",
   "version": "3.10.12"
  }
 },
 "nbformat": 4,
 "nbformat_minor": 2
}
