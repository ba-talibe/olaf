{
 "cells": [
  {
   "cell_type": "markdown",
   "metadata": {},
   "source": [
    "In this notebook we aim to develop a protocole to evaluate OLAF pipelines:\n",
    "\n",
    "\n",
    "To achieve this task , we will follow this steps:\n",
    "\n",
    "- Select a corpus.\n",
    "- Select and create relevent concepts from the corpus.\n",
    "- Create several pipelines with different components and parameters.\n",
    "- Run all the pipelines.\n",
    "- Find concepts involved in complete triples (relation with no null source and destination concepts) for each pipeline.\n",
    "- Etablish the matching percentage of found concepts compared to selected concepts on step 2.\n"
   ]
  },
  {
   "cell_type": "code",
   "execution_count": 2,
   "metadata": {},
   "outputs": [
    {
     "name": "stderr",
     "output_type": "stream",
     "text": [
      "/home/oumar/Bureau/ontology-learning/env/lib/python3.10/site-packages/sentence_transformers/cross_encoder/CrossEncoder.py:11: TqdmWarning: IProgress not found. Please update jupyter and ipywidgets. See https://ipywidgets.readthedocs.io/en/stable/user_install.html\n",
      "  from tqdm.autonotebook import tqdm, trange\n"
     ]
    }
   ],
   "source": [
    "import spacy\n",
    "from typing import Set, List\n",
    "import pandas as pd\n",
    "from olaf import Pipeline\n",
    "from olaf.commons.logging_config import logger\n",
    "from olaf.data_container import CandidateTerm, Relation, Concept\n",
    "from olaf.data_container.knowledge_representation_schema import KnowledgeRepresentation\n",
    "from olaf.pipeline.pipeline_component.term_extraction import (\n",
    "    POSTermExtraction,\n",
    "    TFIDFTermExtraction,\n",
    "    ManualCandidateTermExtraction\n",
    "    )\n",
    "from olaf.pipeline.pipeline_component.concept_relation_extraction import (\n",
    "    CTsToConceptExtraction,\n",
    "    CTsToRelationExtraction,\n",
    "    SynonymRelationExtraction,\n",
    "    SynonymConceptExtraction,\n",
    "    AgglomerativeClusteringRelationExtraction,\n",
    "    AgglomerativeClusteringConceptExtraction\n",
    ")\n",
    "from olaf.commons.spacy_processing_tools import is_not_punct, is_not_stopword, select_on_pos\n",
    "\n",
    "from olaf.pipeline.pipeline_component.candidate_term_enrichment import SemanticBasedEnrichment\n",
    "\n",
    "from olaf.repository.corpus_loader.text_corpus_loader import TextCorpusLoader"
   ]
  },
  {
   "cell_type": "code",
   "execution_count": 3,
   "metadata": {},
   "outputs": [],
   "source": [
    "import numpy as np\n",
    "import matplotlib.pyplot as plt\n",
    "import plotly.express as px\n",
    "import plotly.graph_objects as go\n",
    "from matplotlib_venn import venn2, venn3"
   ]
  },
  {
   "cell_type": "code",
   "execution_count": 4,
   "metadata": {},
   "outputs": [],
   "source": [
    "nlp = spacy.load(\"en_core_web_lg\")"
   ]
  },
  {
   "cell_type": "markdown",
   "metadata": {},
   "source": [
    "# Select Corpus"
   ]
  },
  {
   "cell_type": "code",
   "execution_count": 5,
   "metadata": {},
   "outputs": [],
   "source": [
    "corpus_path = \"GC10-DET_doc.txt\"\n",
    "corpus_loader = TextCorpusLoader(corpus_path)"
   ]
  },
  {
   "cell_type": "markdown",
   "metadata": {},
   "source": [
    "# Select and create relevent concepts from the corpus.\n"
   ]
  },
  {
   "cell_type": "code",
   "execution_count": 6,
   "metadata": {},
   "outputs": [
    {
     "name": "stdout",
     "output_type": "stream",
     "text": [
      "[Punching, Welding line, Crescent Gap, Water spot, Oil spot, Silk spot, Inclusion, Rolled pit, Crease, Waist folding, metal surface defect, mechanical failure, drying, mechanical lubricant, temperature, pressure, work roll damage, tension roll damage, local yield, low-carbon]\n"
     ]
    }
   ],
   "source": [
    "expected_concepts = []\n",
    "with open(\"concepts.txt\", 'r') as f:\n",
    "    lines = f.readlines()\n",
    "    expected_concepts = [concept.rstrip(\"\\n\") for concept in lines]\n",
    "    expected_concepts = [Concept(concept) for concept in expected_concepts]\n",
    "    f.close()\n",
    "\n",
    "print(expected_concepts)\n"
   ]
  },
  {
   "cell_type": "markdown",
   "metadata": {},
   "source": [
    "# Testing concept ratio function"
   ]
  },
  {
   "cell_type": "code",
   "execution_count": 7,
   "metadata": {},
   "outputs": [],
   "source": [
    "from sklearn.metrics.pairwise import cosine_similarity\n",
    "from sentence_transformers import SentenceTransformer, util\n",
    "\n",
    "\n",
    "def is_similar(concept_a : str, concept_b: str, nlp =nlp, threshold=.8):\n",
    "    vector_a, vector_b = nlp(concept_a).vector, nlp(concept_b).vector\n",
    "    return cosine_similarity([vector_a], [vector_b]) > threshold\n",
    "\n",
    "def is_equal(concept_a : str, concept_b: str):\n",
    "    return concept_a.lower() == concept_b.lower()\n",
    "\n",
    "def hg_lm_similaritiry(concept_a : str, concept_b: str, model=SentenceTransformer(\"sentence-transformers/all-MiniLM-L6-v2\"), threshold=.8):\n",
    "    embedding_a, embedding_b = model.encode(concept_a), model.encode(concept_b)\n",
    "    return util.pytorch_cos_sim(embedding_a, embedding_b) > threshold\n",
    "\n",
    "def get_concept_ratio(pipeline : Pipeline, expected_concepts : List[Concept], comparator = hg_lm_similaritiry, comparator_args:dict={}) -> tuple:\n",
    "    \"\"\"\n",
    "    Calculate the ratio of expected and unexpected concepts in a given pipeline.\n",
    "\n",
    "    Parameters\n",
    "    ----------\n",
    "    pipeline : Pipeline\n",
    "        The pipeline object containing concepts.\n",
    "    expected_concepts : List[Concept]\n",
    "        A list of expected concepts.kwargs\n",
    "\n",
    "    Returns\n",
    "    -------\n",
    "    Tuple[float, float]: A tuple containing:\n",
    "        The percentage of expected concepts found in the pipeline.\n",
    "        The percentage of unexpected concepts in the pipeline.\n",
    "    \"\"\"\n",
    "    \n",
    "    \n",
    "    found_concepts = pipeline.kr.concepts\n",
    "    if len(found_concepts) > 0:\n",
    "        found_concepts = [found_concept.label for found_concept in found_concepts]\n",
    "        expected_concepts = [expected_concept.label for expected_concept in expected_concepts]\n",
    "        expected_concept_occ = 0\n",
    "        for expected_concept in expected_concepts:\n",
    "            for found_concept in found_concepts:\n",
    "                if comparator(expected_concept, found_concept, **comparator_args):\n",
    "                    expected_concept_occ += 1\n",
    "                    break \n",
    "\n",
    "        precision = expected_concept_occ/len(expected_concepts)\n",
    "        recall = expected_concept_occ/len(found_concepts)\n",
    "        f1 = 2*(precision * recall)/(precision+recall)\n",
    "        return (precision, recall, f1)\n",
    "    else:\n",
    "        return (0, 0, 0)"
   ]
  },
  {
   "cell_type": "code",
   "execution_count": 8,
   "metadata": {},
   "outputs": [
    {
     "name": "stderr",
     "output_type": "stream",
     "text": [
      "[2024-06-19 09:43:40,860] [WARNING] [candidate_terms_to_relations] [_check_parameters] [No value given for concept_max_distance parameter, default will be set to 5.]\n"
     ]
    }
   ],
   "source": [
    "from olaf.pipeline.pipeline_component.term_extraction.manual_candidate_terms import (\n",
    "    ManualCandidateTermExtraction,\n",
    ")\n",
    "from olaf.pipeline.pipeline_component.concept_relation_extraction.candidate_terms_to_concepts import CTsToConceptExtraction\n",
    "\n",
    "from olaf.pipeline.pipeline_component.concept_relation_extraction.candidate_terms_to_relations import CTsToRelationExtraction\n",
    "\n",
    "\n",
    "# concept extraction component\n",
    "concepts = [\n",
    "    \"defect type\",\n",
    "    \"steel strip surface\",\n",
    "    \"punching\",\n",
    "    \"mechanical failure\",\n",
    "    \"welding line\",\n",
    "    \"coil\",\n",
    "    \"weld line\",\n",
    "    \"crescent gap\",\n",
    "    \"cutting\",\n",
    "    \"water spot\",\n",
    "    \"drying\",\n",
    "    \"oil spot\",\n",
    "    \"mechanical lubricant\",\n",
    "    \"silk spot\",\n",
    "    \"plaque\",\n",
    "    \"strip surface\",\n",
    "    \"roller\",\n",
    "    \"pressure\",\n",
    "    \"inclusion\",\n",
    "    \"metal surface\",\n",
    "    \"spots\",\n",
    "    \"fish scale shape\",\n",
    "    \"block irregular distribution\",\n",
    "    \"rolled pit\",\n",
    "    \"bulges\",\n",
    "    \"pits\",\n",
    "    \"steel plate\",\n",
    "    \"work roll\",\n",
    "    \"tension roll\",\n",
    "    \"damage\",\n",
    "    \"crease\",\n",
    "    \"fold\",\n",
    "    \"uncoiling process\",\n",
    "    \"waist folding\",\n",
    "    \"deformation\",\n",
    "    \"low-carbon\"\n",
    "]\n",
    "\n",
    "relations = [\n",
    "    \"described\",\n",
    "    \"explaining\",\n",
    "    \"appears\",\n",
    "    \"leads\",\n",
    "    \"resulting\",\n",
    "    \"changed\",\n",
    "    \"produced\",\n",
    "    \"drying\",\n",
    "    \"caused\",\n",
    "    \"affect\",\n",
    "    \"appearing\",\n",
    "    \"lies\",\n",
    "    \"distributed\",\n",
    "    \"accompanied\",\n",
    "    \"showing\",\n",
    "    \"pressed\",\n",
    "    \"occurred\",\n",
    "    \"circumvented\",\n",
    "    \"detected\",\n",
    "    \"tracked\",\n",
    "    \"results\",\n",
    "    \"like\",\n",
    "    \"mainly\",\n",
    "    \"uncoiling\"\n",
    "]\n",
    "\n",
    "ct_concept_label = { concept : {concept} for concept in concepts}\n",
    "\n",
    "manuel_concept_extraction = ManualCandidateTermExtraction(\n",
    "    ct_label_strings_map=ct_concept_label\n",
    ")\n",
    "\n",
    "concept_extraction = CTsToConceptExtraction(\n",
    ")\n",
    "# concept extraction component\n",
    "\n",
    "\n",
    "\n",
    "relation_extraction = CTsToRelationExtraction()\n",
    "pipelines = []\n",
    "pipelines.append(\n",
    "    Pipeline(\n",
    "        spacy_model=nlp,\n",
    "        pipeline_components=[\n",
    "            manuel_concept_extraction,\n",
    "            concept_extraction,\n",
    "        ],\n",
    "        corpus_loader=corpus_loader\n",
    "    )\n",
    ")"
   ]
  },
  {
   "cell_type": "code",
   "execution_count": 9,
   "metadata": {},
   "outputs": [
    {
     "data": {
      "text/plain": [
       "(0.8, 0.45714285714285713, 0.5818181818181818)"
      ]
     },
     "execution_count": 9,
     "metadata": {},
     "output_type": "execute_result"
    }
   ],
   "source": [
    "current_pipeline = pipelines[-1]\n",
    "current_pipeline.run()\n",
    "\n",
    "get_concept_ratio(current_pipeline, expected_concepts)"
   ]
  },
  {
   "cell_type": "code",
   "execution_count": 10,
   "metadata": {},
   "outputs": [
    {
     "name": "stdout",
     "output_type": "stream",
     "text": [
      "\n",
      "Punching : punching \n",
      "Welding line : welding line \n",
      "Crescent Gap : crescent gap \n",
      "Water spot : water spot \n",
      "Oil spot : oil spot \n",
      "Silk spot : silk spot \n",
      "Inclusion : inclusion \n",
      "Rolled pit : rolled pit \n",
      "Crease : crease \n",
      "Waist folding : waist folding \n",
      "metal surface defect : \n",
      "mechanical failure : mechanical failure \n",
      "drying : drying \n",
      "mechanical lubricant : mechanical lubricant \n",
      "temperature : \n",
      "pressure : pressure \n",
      "work roll damage : \n",
      "tension roll damage : tension roll \n",
      "local yield : \n",
      "low-carbon : low-carbon "
     ]
    },
    {
     "data": {
      "text/plain": [
       "(0.8, 0.45714285714285713, 0.5818181818181818)"
      ]
     },
     "execution_count": 10,
     "metadata": {},
     "output_type": "execute_result"
    }
   ],
   "source": [
    "def debug_get_concept_ratio(pipeline : Pipeline, expected_concepts : List[Concept], comparator = hg_lm_similaritiry, comparator_args:dict={}) -> tuple:\n",
    "    \"\"\"\n",
    "    Calculate the ratio of expected and unexpected concepts in a given pipeline.\n",
    "\n",
    "    Parameters\n",
    "    ----------\n",
    "    pipeline : Pipeline\n",
    "        The pipeline object containing concepts.\n",
    "    expected_concepts : List[Concept]\n",
    "        A list of expected concepts.kwargs\n",
    "\n",
    "    Returns\n",
    "    -------\n",
    "    Tuple[float, float]: A tuple containing:\n",
    "        The percentage of expected concepts found in the pipeline.\n",
    "        The percentage of unexpected concepts in the pipeline.\n",
    "    \"\"\"\n",
    "    \n",
    "    \n",
    "    found_concepts = pipeline.kr.concepts\n",
    "    if len(found_concepts) > 0:\n",
    "        found_concepts = [found_concept.label for found_concept in found_concepts]\n",
    "        expected_concepts = [expected_concept.label for expected_concept in expected_concepts]\n",
    "        expected_concept_occ = 0\n",
    "        for expected_concept in expected_concepts:\n",
    "            print()\n",
    "            print(f\"{expected_concept} : \", end=\"\")\n",
    "            for found_concept in found_concepts:\n",
    "                if comparator(expected_concept, found_concept, **comparator_args):\n",
    "                    print(f\"{found_concept} \", end=\"\")\n",
    "                    expected_concept_occ += 1\n",
    "                    break \n",
    "\n",
    "    \n",
    "        precision = expected_concept_occ/len(expected_concepts)\n",
    "        recall = expected_concept_occ/len(found_concepts)\n",
    "        f1 = 2*(precision * recall)/(precision+recall)\n",
    "        return (precision, recall, f1)\n",
    "    else:\n",
    "        return (0, 0, 0)\n",
    "\n",
    "\n",
    "\n",
    "current_pipeline = pipelines[-1]\n",
    "debug_get_concept_ratio(current_pipeline, expected_concepts)"
   ]
  },
  {
   "cell_type": "code",
   "execution_count": 11,
   "metadata": {},
   "outputs": [
    {
     "name": "stdout",
     "output_type": "stream",
     "text": [
      "\n",
      "Punching : punching \n",
      "Welding line : welding line \n",
      "Crescent Gap : crescent gap \n",
      "Water spot : water spot \n",
      "Oil spot : oil spot \n",
      "Silk spot : silk spot \n",
      "Inclusion : inclusion \n",
      "Rolled pit : rolled pit \n",
      "Crease : crease \n",
      "Waist folding : waist folding \n",
      "metal surface defect : metal surface \n",
      "mechanical failure : mechanical failure \n",
      "drying : drying \n",
      "mechanical lubricant : mechanical lubricant \n",
      "temperature : \n",
      "pressure : pressure \n",
      "work roll damage : work roll \n",
      "tension roll damage : tension roll \n",
      "local yield : \n",
      "low-carbon : low-carbon "
     ]
    },
    {
     "data": {
      "text/plain": [
       "(0.9, 0.5142857142857142, 0.6545454545454545)"
      ]
     },
     "execution_count": 11,
     "metadata": {},
     "output_type": "execute_result"
    }
   ],
   "source": [
    "debug_get_concept_ratio(current_pipeline, expected_concepts, comparator_args={\"threshold\":.7})"
   ]
  },
  {
   "cell_type": "code",
   "execution_count": 12,
   "metadata": {},
   "outputs": [
    {
     "name": "stdout",
     "output_type": "stream",
     "text": [
      "\n",
      "Punching : punching \n",
      "Welding line : welding line \n",
      "Crescent Gap : crescent gap \n",
      "Water spot : water spot \n",
      "Oil spot : oil spot \n",
      "Silk spot : silk spot \n",
      "Inclusion : inclusion \n",
      "Rolled pit : rolled pit \n",
      "Crease : crease \n",
      "Waist folding : waist folding \n",
      "metal surface defect : \n",
      "mechanical failure : mechanical failure \n",
      "drying : drying \n",
      "mechanical lubricant : mechanical lubricant \n",
      "temperature : \n",
      "pressure : pressure \n",
      "work roll damage : \n",
      "tension roll damage : \n",
      "local yield : \n",
      "low-carbon : low-carbon "
     ]
    },
    {
     "data": {
      "text/plain": [
       "(0.75, 0.42857142857142855, 0.5454545454545454)"
      ]
     },
     "execution_count": 12,
     "metadata": {},
     "output_type": "execute_result"
    }
   ],
   "source": [
    "debug_get_concept_ratio(current_pipeline, expected_concepts, comparator=is_equal)\n"
   ]
  },
  {
   "cell_type": "code",
   "execution_count": 13,
   "metadata": {},
   "outputs": [
    {
     "name": "stdout",
     "output_type": "stream",
     "text": [
      "\n",
      "Punching : punching \n",
      "Welding line : welding line \n",
      "Crescent Gap : crescent gap \n",
      "Water spot : water spot \n",
      "Oil spot : water spot \n",
      "Silk spot : water spot \n",
      "Inclusion : inclusion \n",
      "Rolled pit : roller \n",
      "Crease : crease \n",
      "Waist folding : waist folding \n",
      "metal surface defect : metal surface \n",
      "mechanical failure : mechanical failure \n",
      "drying : drying \n",
      "mechanical lubricant : mechanical lubricant \n",
      "temperature : \n",
      "pressure : pressure \n",
      "work roll damage : damage \n",
      "tension roll damage : tension roll \n",
      "local yield : \n",
      "low-carbon : low-carbon "
     ]
    },
    {
     "data": {
      "text/plain": [
       "(0.9, 0.5142857142857142, 0.6545454545454545)"
      ]
     },
     "execution_count": 13,
     "metadata": {},
     "output_type": "execute_result"
    }
   ],
   "source": [
    "debug_get_concept_ratio(current_pipeline, expected_concepts, comparator_args={\"threshold\":.5})"
   ]
  },
  {
   "cell_type": "markdown",
   "metadata": {},
   "source": [
    "## Optimze the similarity threshold\n"
   ]
  },
  {
   "cell_type": "code",
   "execution_count": 14,
   "metadata": {},
   "outputs": [
    {
     "name": "stdout",
     "output_type": "stream",
     "text": [
      "(0.8, 0.45714285714285713, 0.5818181818181818)\n",
      "(0.9, 0.5142857142857142, 0.6545454545454545)\n",
      "(0.9, 0.5142857142857142, 0.6545454545454545)\n",
      "(0.9, 0.5142857142857142, 0.6545454545454545)\n"
     ]
    }
   ],
   "source": [
    "print(get_concept_ratio(current_pipeline, expected_concepts)) # default threshold is 0.8\n",
    "print(get_concept_ratio(current_pipeline, expected_concepts, comparator_args={\"threshold\": 0.7}))\n",
    "print(get_concept_ratio(current_pipeline, expected_concepts, comparator_args={\"threshold\": 0.6}))\n",
    "print(get_concept_ratio(current_pipeline, expected_concepts, comparator_args={\"threshold\": 0.5}))\n",
    "\n",
    "comparator_args={\"threshold\": 0.7}"
   ]
  },
  {
   "cell_type": "markdown",
   "metadata": {},
   "source": [
    "# A grid search algorithm for pipelines"
   ]
  },
  {
   "cell_type": "code",
   "execution_count": 15,
   "metadata": {},
   "outputs": [],
   "source": [
    "class GridSearch:\n",
    "    def __init__(self) -> None:\n",
    "        pass"
   ]
  },
  {
   "cell_type": "markdown",
   "metadata": {},
   "source": [
    "# Usefull function"
   ]
  },
  {
   "cell_type": "code",
   "execution_count": 16,
   "metadata": {},
   "outputs": [],
   "source": [
    "def display_concept(kr: KnowledgeRepresentation) -> None:\n",
    "    print(\"Concepts in KR:\")\n",
    "    for concept in kr.concepts:\n",
    "        print(concept.label)\n",
    "\n",
    "\n",
    "def display_relation(kr: KnowledgeRepresentation) -> None:\n",
    "    print(\"Relations in KR:\")\n",
    "    for relation in kr.relations:\n",
    "        if (\n",
    "            relation.source_concept is not None\n",
    "            or relation.destination_concept is not None\n",
    "        ):\n",
    "            print(\n",
    "                (\n",
    "                    relation.source_concept.label,\n",
    "                    relation.label,\n",
    "                    relation.destination_concept.label,\n",
    "                )\n",
    "            )\n",
    "\n",
    "def describe_pipeline(pipeline: Pipeline) -> None:\n",
    "    print(pipeline.__class__.__name__)\n",
    "    for component in pipeline.pipeline_components:\n",
    "        print(f\"\\t {component.__class__.__name__}\")"
   ]
  },
  {
   "cell_type": "markdown",
   "metadata": {},
   "source": [
    "# Creating pipelines"
   ]
  },
  {
   "cell_type": "code",
   "execution_count": 17,
   "metadata": {},
   "outputs": [],
   "source": [
    "from olaf.pipeline.pipeline_component.term_extraction import (\n",
    "    ManualCandidateTermExtraction,\n",
    "    POSTermExtraction,\n",
    "    TFIDFTermExtraction,\n",
    "    CvalueTermExtraction\n",
    ")\n",
    "\n",
    "from olaf.pipeline.pipeline_component.concept_relation_extraction import (\n",
    "    CTsToConceptExtraction,\n",
    "    SynonymConceptExtraction,\n",
    "    AgglomerativeClusteringConceptExtraction\n",
    ")\n"
   ]
  },
  {
   "cell_type": "code",
   "execution_count": 18,
   "metadata": {},
   "outputs": [
    {
     "data": {
      "text/html": [
       "<div>\n",
       "<style scoped>\n",
       "    .dataframe tbody tr th:only-of-type {\n",
       "        vertical-align: middle;\n",
       "    }\n",
       "\n",
       "    .dataframe tbody tr th {\n",
       "        vertical-align: top;\n",
       "    }\n",
       "\n",
       "    .dataframe thead tr th {\n",
       "        text-align: left;\n",
       "    }\n",
       "</style>\n",
       "<table border=\"1\" class=\"dataframe\">\n",
       "  <thead>\n",
       "    <tr>\n",
       "      <th></th>\n",
       "      <th colspan=\"3\" halign=\"left\">CandidatToConcept</th>\n",
       "      <th colspan=\"3\" halign=\"left\">SynonymToConcept</th>\n",
       "      <th colspan=\"3\" halign=\"left\">AgglomerativeClustering</th>\n",
       "    </tr>\n",
       "    <tr>\n",
       "      <th></th>\n",
       "      <th>Precision</th>\n",
       "      <th>Rappel</th>\n",
       "      <th>F1</th>\n",
       "      <th>Precision</th>\n",
       "      <th>Rappel</th>\n",
       "      <th>F1</th>\n",
       "      <th>Precision</th>\n",
       "      <th>Rappel</th>\n",
       "      <th>F1</th>\n",
       "    </tr>\n",
       "  </thead>\n",
       "  <tbody>\n",
       "    <tr>\n",
       "      <th>LLM Term Extraction</th>\n",
       "      <td>NaN</td>\n",
       "      <td>NaN</td>\n",
       "      <td>NaN</td>\n",
       "      <td>NaN</td>\n",
       "      <td>NaN</td>\n",
       "      <td>NaN</td>\n",
       "      <td>NaN</td>\n",
       "      <td>NaN</td>\n",
       "      <td>NaN</td>\n",
       "    </tr>\n",
       "    <tr>\n",
       "      <th>POStag Term Extraction</th>\n",
       "      <td>NaN</td>\n",
       "      <td>NaN</td>\n",
       "      <td>NaN</td>\n",
       "      <td>NaN</td>\n",
       "      <td>NaN</td>\n",
       "      <td>NaN</td>\n",
       "      <td>NaN</td>\n",
       "      <td>NaN</td>\n",
       "      <td>NaN</td>\n",
       "    </tr>\n",
       "    <tr>\n",
       "      <th>TFIDF Term Extraction</th>\n",
       "      <td>NaN</td>\n",
       "      <td>NaN</td>\n",
       "      <td>NaN</td>\n",
       "      <td>NaN</td>\n",
       "      <td>NaN</td>\n",
       "      <td>NaN</td>\n",
       "      <td>NaN</td>\n",
       "      <td>NaN</td>\n",
       "      <td>NaN</td>\n",
       "    </tr>\n",
       "  </tbody>\n",
       "</table>\n",
       "</div>"
      ],
      "text/plain": [
       "                       CandidatToConcept             SynonymToConcept         \\\n",
       "                               Precision Rappel   F1        Precision Rappel   \n",
       "LLM Term Extraction                  NaN    NaN  NaN              NaN    NaN   \n",
       "POStag Term Extraction               NaN    NaN  NaN              NaN    NaN   \n",
       "TFIDF Term Extraction                NaN    NaN  NaN              NaN    NaN   \n",
       "\n",
       "                            AgglomerativeClustering              \n",
       "                         F1               Precision Rappel   F1  \n",
       "LLM Term Extraction     NaN                     NaN    NaN  NaN  \n",
       "POStag Term Extraction  NaN                     NaN    NaN  NaN  \n",
       "TFIDF Term Extraction   NaN                     NaN    NaN  NaN  "
      ]
     },
     "execution_count": 18,
     "metadata": {},
     "output_type": "execute_result"
    }
   ],
   "source": [
    "concept_extraction_components = [\"CandidatToConcept\", \"SynonymToConcept\", \"AgglomerativeClustering\"]\n",
    "term_extraction_components = [\"LLM Term Extraction\", \"POStag Term Extraction\", \"TFIDF Term Extraction\"]\n",
    "results = pd.DataFrame(\n",
    "    index=concept_extraction_components,\n",
    "    columns=term_extraction_components\n",
    "    )\n",
    "\n",
    "multi_index = pd.MultiIndex.from_product([\n",
    "   concept_extraction_components, \n",
    "    [\"Precision\", \"Rappel\", \"F1\"]\n",
    "    ])\n",
    "pipelines_scores = pd.DataFrame(index=term_extraction_components, columns=multi_index)\n",
    "\n",
    "pipelines_scores"
   ]
  },
  {
   "cell_type": "markdown",
   "metadata": {},
   "source": [
    "## LLM Term  Extraction"
   ]
  },
  {
   "cell_type": "code",
   "execution_count": 19,
   "metadata": {},
   "outputs": [],
   "source": [
    "llm_pipelines = []\n",
    "llm_results = []"
   ]
  },
  {
   "cell_type": "markdown",
   "metadata": {},
   "source": [
    "### LLM Term  Extraction and Candidat To Concept Extraction"
   ]
  },
  {
   "cell_type": "code",
   "execution_count": 20,
   "metadata": {},
   "outputs": [
    {
     "name": "stdout",
     "output_type": "stream",
     "text": [
      "(0.9, 0.5142857142857142, 0.6545454545454545)\n"
     ]
    }
   ],
   "source": [
    "# concept extraction component\n",
    "concepts = [\n",
    "    \"defect type\",\n",
    "    \"steel strip surface\",\n",
    "    \"punching\",\n",
    "    \"mechanical failure\",\n",
    "    \"welding line\",\n",
    "    \"coil\",\n",
    "    \"weld line\",\n",
    "    \"crescent gap\",\n",
    "    \"cutting\",\n",
    "    \"water spot\",\n",
    "    \"drying\",\n",
    "    \"oil spot\",\n",
    "    \"mechanical lubricant\",\n",
    "    \"silk spot\",\n",
    "    \"plaque\",\n",
    "    \"strip surface\",\n",
    "    \"roller\",\n",
    "    \"pressure\",\n",
    "    \"inclusion\",\n",
    "    \"metal surface\",\n",
    "    \"spots\",\n",
    "    \"fish scale shape\",\n",
    "    \"block irregular distribution\",\n",
    "    \"rolled pit\",\n",
    "    \"bulges\",\n",
    "    \"pits\",\n",
    "    \"steel plate\",\n",
    "    \"work roll\",\n",
    "    \"tension roll\",\n",
    "    \"damage\",\n",
    "    \"crease\",\n",
    "    \"fold\",\n",
    "    \"uncoiling process\",\n",
    "    \"waist folding\",\n",
    "    \"deformation\",\n",
    "    \"low-carbon\"\n",
    "]\n",
    "\n",
    "ct_concept_label = { concept : {concept} for concept in concepts}\n",
    "\n",
    "\n",
    "llm_pipelines.append(\n",
    "    Pipeline(\n",
    "        spacy_model=nlp,\n",
    "        pipeline_components=[\n",
    "            ManualCandidateTermExtraction(\n",
    "                ct_label_strings_map=ct_concept_label\n",
    "            ),\n",
    "            CTsToConceptExtraction(),\n",
    "        ],\n",
    "        corpus_loader=corpus_loader\n",
    "    )\n",
    ")\n",
    "current_pipeline = llm_pipelines[-1]\n",
    "current_pipeline.run()\n",
    "\n",
    "\n",
    "llm_results += list( \n",
    "    results:=get_concept_ratio(current_pipeline, expected_concepts, comparator_args=comparator_args)\n",
    "    )\n",
    "print(results)"
   ]
  },
  {
   "cell_type": "markdown",
   "metadata": {},
   "source": [
    "### LLM Term  Extraction and Synonym Concept Extraction"
   ]
  },
  {
   "cell_type": "code",
   "execution_count": 21,
   "metadata": {},
   "outputs": [
    {
     "name": "stdout",
     "output_type": "stream",
     "text": [
      "(0.9, 0.5142857142857142, 0.6545454545454545)\n"
     ]
    }
   ],
   "source": [
    "\n",
    "llm_pipelines.append(\n",
    "    Pipeline(\n",
    "        spacy_model=nlp,\n",
    "        pipeline_components=[\n",
    "            ManualCandidateTermExtraction(\n",
    "                ct_label_strings_map=ct_concept_label\n",
    "            ),\n",
    "            SemanticBasedEnrichment(\n",
    "                threshold=.9\n",
    "            ),\n",
    "            SynonymConceptExtraction(),\n",
    "        ],\n",
    "            corpus_loader=corpus_loader\n",
    "    )\n",
    ")\n",
    "current_pipeline = llm_pipelines[-1]\n",
    "current_pipeline.run()\n",
    "\n",
    "llm_results += list(\n",
    "    results:=get_concept_ratio(current_pipeline, expected_concepts, comparator_args=comparator_args)\n",
    "    )\n",
    "print(results)"
   ]
  },
  {
   "cell_type": "markdown",
   "metadata": {},
   "source": [
    "### LLM Term  Extraction and Agglomerative Clustering Concept Extraction"
   ]
  },
  {
   "cell_type": "code",
   "execution_count": 22,
   "metadata": {},
   "outputs": [
    {
     "name": "stderr",
     "output_type": "stream",
     "text": [
      "[2024-06-19 09:44:53,212] [WARNING] [agglomerative_clustering_concept_extraction] [_check_parameters] [No value given for embedding_model parameter, default will be set to all-mpnet-base-v2.]\n",
      "[2024-06-19 09:44:53,214] [WARNING] [agglomerative_clustering_concept_extraction] [_check_parameters] [No value given for metric option, default will be set to cosine.]\n"
     ]
    },
    {
     "name": "stdout",
     "output_type": "stream",
     "text": [
      "(0.85, 0.5666666666666667, 0.68)\n"
     ]
    }
   ],
   "source": [
    "\n",
    "llm_pipelines.append(\n",
    "    Pipeline(\n",
    "        spacy_model=nlp,\n",
    "        pipeline_components=[\n",
    "            ManualCandidateTermExtraction(\n",
    "                ct_label_strings_map=ct_concept_label\n",
    "            ),\n",
    "            AgglomerativeClusteringConceptExtraction(\n",
    "                distance_threshold=.4\n",
    "            ),\n",
    "        ],\n",
    "        corpus_loader=corpus_loader\n",
    "    )\n",
    ")\n",
    "current_pipeline = llm_pipelines[-1]\n",
    "current_pipeline.run()\n",
    "\n",
    "\n",
    "llm_results += list(\n",
    "    results:=get_concept_ratio(current_pipeline, expected_concepts, comparator_args=comparator_args)\n",
    "    )\n",
    "print(results)"
   ]
  },
  {
   "cell_type": "markdown",
   "metadata": {},
   "source": [
    "### Score des pipelines"
   ]
  },
  {
   "cell_type": "code",
   "execution_count": 23,
   "metadata": {},
   "outputs": [
    {
     "data": {
      "text/html": [
       "<div>\n",
       "<style scoped>\n",
       "    .dataframe tbody tr th:only-of-type {\n",
       "        vertical-align: middle;\n",
       "    }\n",
       "\n",
       "    .dataframe tbody tr th {\n",
       "        vertical-align: top;\n",
       "    }\n",
       "\n",
       "    .dataframe thead tr th {\n",
       "        text-align: left;\n",
       "    }\n",
       "</style>\n",
       "<table border=\"1\" class=\"dataframe\">\n",
       "  <thead>\n",
       "    <tr>\n",
       "      <th></th>\n",
       "      <th colspan=\"3\" halign=\"left\">CandidatToConcept</th>\n",
       "      <th colspan=\"3\" halign=\"left\">SynonymToConcept</th>\n",
       "      <th colspan=\"3\" halign=\"left\">AgglomerativeClustering</th>\n",
       "    </tr>\n",
       "    <tr>\n",
       "      <th></th>\n",
       "      <th>Precision</th>\n",
       "      <th>Rappel</th>\n",
       "      <th>F1</th>\n",
       "      <th>Precision</th>\n",
       "      <th>Rappel</th>\n",
       "      <th>F1</th>\n",
       "      <th>Precision</th>\n",
       "      <th>Rappel</th>\n",
       "      <th>F1</th>\n",
       "    </tr>\n",
       "  </thead>\n",
       "  <tbody>\n",
       "    <tr>\n",
       "      <th>LLM Term Extraction</th>\n",
       "      <td>0.9</td>\n",
       "      <td>0.514286</td>\n",
       "      <td>0.654545</td>\n",
       "      <td>0.9</td>\n",
       "      <td>0.514286</td>\n",
       "      <td>0.654545</td>\n",
       "      <td>0.85</td>\n",
       "      <td>0.566667</td>\n",
       "      <td>0.68</td>\n",
       "    </tr>\n",
       "    <tr>\n",
       "      <th>POStag Term Extraction</th>\n",
       "      <td>NaN</td>\n",
       "      <td>NaN</td>\n",
       "      <td>NaN</td>\n",
       "      <td>NaN</td>\n",
       "      <td>NaN</td>\n",
       "      <td>NaN</td>\n",
       "      <td>NaN</td>\n",
       "      <td>NaN</td>\n",
       "      <td>NaN</td>\n",
       "    </tr>\n",
       "    <tr>\n",
       "      <th>TFIDF Term Extraction</th>\n",
       "      <td>NaN</td>\n",
       "      <td>NaN</td>\n",
       "      <td>NaN</td>\n",
       "      <td>NaN</td>\n",
       "      <td>NaN</td>\n",
       "      <td>NaN</td>\n",
       "      <td>NaN</td>\n",
       "      <td>NaN</td>\n",
       "      <td>NaN</td>\n",
       "    </tr>\n",
       "  </tbody>\n",
       "</table>\n",
       "</div>"
      ],
      "text/plain": [
       "                       CandidatToConcept                     SynonymToConcept  \\\n",
       "                               Precision    Rappel        F1        Precision   \n",
       "LLM Term Extraction                  0.9  0.514286  0.654545              0.9   \n",
       "POStag Term Extraction               NaN       NaN       NaN              NaN   \n",
       "TFIDF Term Extraction                NaN       NaN       NaN              NaN   \n",
       "\n",
       "                                           AgglomerativeClustering            \\\n",
       "                          Rappel        F1               Precision    Rappel   \n",
       "LLM Term Extraction     0.514286  0.654545                    0.85  0.566667   \n",
       "POStag Term Extraction       NaN       NaN                     NaN       NaN   \n",
       "TFIDF Term Extraction        NaN       NaN                     NaN       NaN   \n",
       "\n",
       "                              \n",
       "                          F1  \n",
       "LLM Term Extraction     0.68  \n",
       "POStag Term Extraction   NaN  \n",
       "TFIDF Term Extraction    NaN  "
      ]
     },
     "execution_count": 23,
     "metadata": {},
     "output_type": "execute_result"
    }
   ],
   "source": [
    "pipelines_scores.loc[term_extraction_components[0]] = llm_results\n",
    "pipelines_scores"
   ]
  },
  {
   "cell_type": "markdown",
   "metadata": {},
   "source": [
    "### Diagram de venn"
   ]
  },
  {
   "cell_type": "code",
   "execution_count": 24,
   "metadata": {},
   "outputs": [
    {
     "data": {
      "text/plain": [
       "<matplotlib.legend.Legend at 0x7566089f7a30>"
      ]
     },
     "execution_count": 24,
     "metadata": {},
     "output_type": "execute_result"
    },
    {
     "data": {
      "image/png": "[encoded data removed]",
      "text/plain": [
       "<Figure size 1900x700 with 1 Axes>"
      ]
     },
     "metadata": {},
     "output_type": "display_data"
    }
   ],
   "source": [
    "plt.figure(figsize=(19,7))\n",
    "concepts_sets = [set([concept.label for concept in pipeline.kr.concepts]) for pipeline in llm_pipelines]\n",
    "venn3(subsets=[concepts_sets[0], concepts_sets[1], concepts_sets[2]], set_labels=tuple(concept_extraction_components))\n",
    "plt.title(\"Diagramme de Venn des pipelines base sur LLM Term Extraction\")\n",
    "plt.legend(concept_extraction_components, loc='lower right')\n"
   ]
  },
  {
   "cell_type": "markdown",
   "metadata": {},
   "source": [
    "## POS tag Term Extraction"
   ]
  },
  {
   "cell_type": "code",
   "execution_count": 25,
   "metadata": {},
   "outputs": [],
   "source": [
    "postag_pipelines = []\n",
    "pos_results = []"
   ]
  },
  {
   "cell_type": "markdown",
   "metadata": {},
   "source": [
    "### POS tag Term  extraction and Candidat To Concept Extraction"
   ]
  },
  {
   "cell_type": "code",
   "execution_count": 26,
   "metadata": {},
   "outputs": [
    {
     "name": "stderr",
     "output_type": "stream",
     "text": [
      "[2024-06-19 09:45:02,248] [WARNING] [pos_term_extraction] [__init__] [No preprocessing function provided for spans. Using the default one.]\n",
      "[2024-06-19 09:45:02,251] [WARNING] [pos_term_extraction] [_check_parameters] [POS term extraction token sequence attribute not set by the user.\n",
      "               By default the system will use the entire content of the document.]\n"
     ]
    },
    {
     "name": "stdout",
     "output_type": "stream",
     "text": [
      "(0.85, 0.5666666666666667, 0.68)\n"
     ]
    }
   ],
   "source": [
    "postag_pipelines.append(\n",
    "    Pipeline(\n",
    "        spacy_model=nlp,\n",
    "        pipeline_components=[\n",
    "            POSTermExtraction(\n",
    "                pos_selection=[\"NOUN\"]\n",
    "            ),\n",
    "            CTsToConceptExtraction()\n",
    "        ],\n",
    "        corpus_loader=corpus_loader\n",
    "\n",
    "    )\n",
    ")\n",
    "current_pipeline = postag_pipelines[-1]\n",
    "current_pipeline.run()\n",
    "\n",
    "\n",
    "pos_results+= list(\n",
    "    result:=get_concept_ratio(current_pipeline, expected_concepts, comparator_args=comparator_args)\n",
    "    )\n",
    "print(results)"
   ]
  },
  {
   "cell_type": "code",
   "execution_count": 27,
   "metadata": {},
   "outputs": [
    {
     "data": {
      "text/plain": [
       "{appearance,\n",
       " appearance,\n",
       " bulges,\n",
       " bulges,\n",
       " carbon,\n",
       " carbon,\n",
       " circle,\n",
       " circle,\n",
       " coils,\n",
       " coils,\n",
       " contamination,\n",
       " contamination,\n",
       " contrast,\n",
       " contrast,\n",
       " crease,\n",
       " crease,\n",
       " cuts,\n",
       " cuts,\n",
       " damage,\n",
       " damage,\n",
       " defect,\n",
       " defect,\n",
       " defects,\n",
       " defects,\n",
       " deformation,\n",
       " deformation,\n",
       " density,\n",
       " density,\n",
       " detail,\n",
       " detail,\n",
       " direction,\n",
       " direction,\n",
       " distribution,\n",
       " distribution,\n",
       " edge,\n",
       " edge,\n",
       " failure,\n",
       " failure,\n",
       " fish,\n",
       " fish,\n",
       " fold,\n",
       " fold,\n",
       " folding,\n",
       " folding,\n",
       " folds,\n",
       " folds,\n",
       " gap,\n",
       " gap,\n",
       " inclusion,\n",
       " inclusion,\n",
       " inclusions,\n",
       " inclusions,\n",
       " length,\n",
       " length,\n",
       " like,\n",
       " like,\n",
       " line,\n",
       " line,\n",
       " lubricant,\n",
       " lubricant,\n",
       " metal,\n",
       " metal,\n",
       " mistake,\n",
       " mistake,\n",
       " occurrence,\n",
       " occurrence,\n",
       " oil,\n",
       " oil,\n",
       " parts,\n",
       " parts,\n",
       " pit,\n",
       " pit,\n",
       " pits,\n",
       " pits,\n",
       " plaque,\n",
       " plaque,\n",
       " plate,\n",
       " plate,\n",
       " pressure,\n",
       " pressure,\n",
       " process,\n",
       " process,\n",
       " processes,\n",
       " processes,\n",
       " product,\n",
       " product,\n",
       " production,\n",
       " production,\n",
       " products,\n",
       " products,\n",
       " punching,\n",
       " punching,\n",
       " reason,\n",
       " reason,\n",
       " reasons,\n",
       " reasons,\n",
       " requirements,\n",
       " requirements,\n",
       " results,\n",
       " results,\n",
       " roll,\n",
       " roll,\n",
       " roller,\n",
       " roller,\n",
       " scale,\n",
       " scale,\n",
       " section,\n",
       " section,\n",
       " shape,\n",
       " shape,\n",
       " silk,\n",
       " silk,\n",
       " spacing,\n",
       " spacing,\n",
       " specifications,\n",
       " specifications,\n",
       " spot,\n",
       " spot,\n",
       " spots,\n",
       " spots,\n",
       " steel,\n",
       " steel,\n",
       " strip,\n",
       " strip,\n",
       " surface,\n",
       " surface,\n",
       " surfaces,\n",
       " surfaces,\n",
       " temperature,\n",
       " temperature,\n",
       " tension,\n",
       " tension,\n",
       " type,\n",
       " type,\n",
       " water,\n",
       " water,\n",
       " wave,\n",
       " wave,\n",
       " weld,\n",
       " weld,\n",
       " work,\n",
       " work,\n",
       " wrinkles,\n",
       " wrinkles,\n",
       " yield,\n",
       " yield}"
      ]
     },
     "execution_count": 27,
     "metadata": {},
     "output_type": "execute_result"
    }
   ],
   "source": [
    "current_pipeline.run()\n",
    "current_pipeline.kr.concepts"
   ]
  },
  {
   "cell_type": "code",
   "execution_count": 28,
   "metadata": {},
   "outputs": [
    {
     "name": "stdout",
     "output_type": "stream",
     "text": [
      "\n",
      "Punching : punching \n",
      "Welding line : \n",
      "Crescent Gap : gap \n",
      "Water spot : \n",
      "Oil spot : \n",
      "Silk spot : silk \n",
      "Inclusion : inclusion \n",
      "Rolled pit : pit \n",
      "Crease : crease \n",
      "Waist folding : fold \n",
      "metal surface defect : \n",
      "mechanical failure : \n",
      "drying : \n",
      "mechanical lubricant : lubricant \n",
      "temperature : temperature \n",
      "pressure : pressure \n",
      "work roll damage : \n",
      "tension roll damage : \n",
      "local yield : yield \n",
      "low-carbon : carbon "
     ]
    },
    {
     "data": {
      "text/plain": [
       "(0.6, 0.0821917808219178, 0.14457831325301204)"
      ]
     },
     "execution_count": 28,
     "metadata": {},
     "output_type": "execute_result"
    }
   ],
   "source": [
    "debug_get_concept_ratio(current_pipeline, expected_concepts, comparator_args=comparator_args)"
   ]
  },
  {
   "cell_type": "markdown",
   "metadata": {},
   "source": [
    "### POS tag Term  extraction and Synonym Concept Extraction"
   ]
  },
  {
   "cell_type": "code",
   "execution_count": 29,
   "metadata": {},
   "outputs": [
    {
     "name": "stderr",
     "output_type": "stream",
     "text": [
      "[2024-06-19 09:45:53,918] [WARNING] [pos_term_extraction] [__init__] [No preprocessing function provided for spans. Using the default one.]\n",
      "[2024-06-19 09:45:53,920] [WARNING] [pos_term_extraction] [_check_parameters] [POS term extraction token sequence attribute not set by the user.\n",
      "               By default the system will use the entire content of the document.]\n"
     ]
    },
    {
     "name": "stdout",
     "output_type": "stream",
     "text": [
      "(0.6, 0.1643835616438356, 0.25806451612903225)\n"
     ]
    }
   ],
   "source": [
    "postag_pipelines.append(\n",
    "    Pipeline(\n",
    "        spacy_model=nlp,\n",
    "        pipeline_components=[\n",
    "            POSTermExtraction(\n",
    "                pos_selection=[\"NOUN\"]\n",
    "            ),\n",
    "            SemanticBasedEnrichment(\n",
    "                threshold=.9\n",
    "            ),\n",
    "            SynonymConceptExtraction()\n",
    "        ],\n",
    "            corpus_loader=corpus_loader\n",
    "    )\n",
    ")\n",
    "current_pipeline = postag_pipelines[-1]\n",
    "current_pipeline.run()\n",
    "\n",
    "\n",
    "pos_results+= list(\n",
    "    results:=get_concept_ratio(current_pipeline, expected_concepts, comparator_args=comparator_args)\n",
    "    )\n",
    "print(results)"
   ]
  },
  {
   "cell_type": "markdown",
   "metadata": {},
   "source": [
    "### POS tag Term  extraction and Agglomerative clustering Extraction"
   ]
  },
  {
   "cell_type": "code",
   "execution_count": 30,
   "metadata": {},
   "outputs": [
    {
     "name": "stderr",
     "output_type": "stream",
     "text": [
      "[2024-06-19 09:47:10,810] [WARNING] [pos_term_extraction] [__init__] [No preprocessing function provided for spans. Using the default one.]\n",
      "[2024-06-19 09:47:10,811] [WARNING] [pos_term_extraction] [_check_parameters] [POS term extraction token sequence attribute not set by the user.\n",
      "               By default the system will use the entire content of the document.]\n",
      "[2024-06-19 09:47:10,812] [WARNING] [agglomerative_clustering_concept_extraction] [_check_parameters] [No value given for embedding_model parameter, default will be set to all-mpnet-base-v2.]\n",
      "[2024-06-19 09:47:10,813] [WARNING] [agglomerative_clustering_concept_extraction] [_check_parameters] [No value given for metric option, default will be set to cosine.]\n"
     ]
    },
    {
     "name": "stdout",
     "output_type": "stream",
     "text": [
      "(0.6, 0.19047619047619047, 0.2891566265060241)\n"
     ]
    }
   ],
   "source": [
    "postag_pipelines.append(\n",
    "    Pipeline(\n",
    "        spacy_model=nlp,\n",
    "        pipeline_components=[\n",
    "            POSTermExtraction(\n",
    "                pos_selection=[\"NOUN\"]\n",
    "            ),\n",
    "            AgglomerativeClusteringConceptExtraction(\n",
    "                distance_threshold=.3\n",
    "            )\n",
    "        ],\n",
    "        corpus_loader=corpus_loader\n",
    "    )\n",
    ")\n",
    "\n",
    "current_pipeline = postag_pipelines[-1]\n",
    "current_pipeline.run()\n",
    "\n",
    "pos_results += list(\n",
    "        results:=get_concept_ratio(current_pipeline, expected_concepts, comparator_args=comparator_args)\n",
    "    )\n",
    "print(results)"
   ]
  },
  {
   "cell_type": "markdown",
   "metadata": {},
   "source": [
    "### Score des pipelines"
   ]
  },
  {
   "cell_type": "code",
   "execution_count": 31,
   "metadata": {},
   "outputs": [
    {
     "data": {
      "text/html": [
       "<div>\n",
       "<style scoped>\n",
       "    .dataframe tbody tr th:only-of-type {\n",
       "        vertical-align: middle;\n",
       "    }\n",
       "\n",
       "    .dataframe tbody tr th {\n",
       "        vertical-align: top;\n",
       "    }\n",
       "\n",
       "    .dataframe thead tr th {\n",
       "        text-align: left;\n",
       "    }\n",
       "</style>\n",
       "<table border=\"1\" class=\"dataframe\">\n",
       "  <thead>\n",
       "    <tr>\n",
       "      <th></th>\n",
       "      <th colspan=\"3\" halign=\"left\">CandidatToConcept</th>\n",
       "      <th colspan=\"3\" halign=\"left\">SynonymToConcept</th>\n",
       "      <th colspan=\"3\" halign=\"left\">AgglomerativeClustering</th>\n",
       "    </tr>\n",
       "    <tr>\n",
       "      <th></th>\n",
       "      <th>Precision</th>\n",
       "      <th>Rappel</th>\n",
       "      <th>F1</th>\n",
       "      <th>Precision</th>\n",
       "      <th>Rappel</th>\n",
       "      <th>F1</th>\n",
       "      <th>Precision</th>\n",
       "      <th>Rappel</th>\n",
       "      <th>F1</th>\n",
       "    </tr>\n",
       "  </thead>\n",
       "  <tbody>\n",
       "    <tr>\n",
       "      <th>LLM Term Extraction</th>\n",
       "      <td>0.9</td>\n",
       "      <td>0.514286</td>\n",
       "      <td>0.654545</td>\n",
       "      <td>0.9</td>\n",
       "      <td>0.514286</td>\n",
       "      <td>0.654545</td>\n",
       "      <td>0.85</td>\n",
       "      <td>0.566667</td>\n",
       "      <td>0.68</td>\n",
       "    </tr>\n",
       "    <tr>\n",
       "      <th>POStag Term Extraction</th>\n",
       "      <td>0.6</td>\n",
       "      <td>0.164384</td>\n",
       "      <td>0.258065</td>\n",
       "      <td>0.6</td>\n",
       "      <td>0.164384</td>\n",
       "      <td>0.258065</td>\n",
       "      <td>0.6</td>\n",
       "      <td>0.190476</td>\n",
       "      <td>0.289157</td>\n",
       "    </tr>\n",
       "    <tr>\n",
       "      <th>TFIDF Term Extraction</th>\n",
       "      <td>NaN</td>\n",
       "      <td>NaN</td>\n",
       "      <td>NaN</td>\n",
       "      <td>NaN</td>\n",
       "      <td>NaN</td>\n",
       "      <td>NaN</td>\n",
       "      <td>NaN</td>\n",
       "      <td>NaN</td>\n",
       "      <td>NaN</td>\n",
       "    </tr>\n",
       "  </tbody>\n",
       "</table>\n",
       "</div>"
      ],
      "text/plain": [
       "                       CandidatToConcept                     SynonymToConcept  \\\n",
       "                               Precision    Rappel        F1        Precision   \n",
       "LLM Term Extraction                  0.9  0.514286  0.654545              0.9   \n",
       "POStag Term Extraction               0.6  0.164384  0.258065              0.6   \n",
       "TFIDF Term Extraction                NaN       NaN       NaN              NaN   \n",
       "\n",
       "                                           AgglomerativeClustering            \\\n",
       "                          Rappel        F1               Precision    Rappel   \n",
       "LLM Term Extraction     0.514286  0.654545                    0.85  0.566667   \n",
       "POStag Term Extraction  0.164384  0.258065                     0.6  0.190476   \n",
       "TFIDF Term Extraction        NaN       NaN                     NaN       NaN   \n",
       "\n",
       "                                  \n",
       "                              F1  \n",
       "LLM Term Extraction         0.68  \n",
       "POStag Term Extraction  0.289157  \n",
       "TFIDF Term Extraction        NaN  "
      ]
     },
     "execution_count": 31,
     "metadata": {},
     "output_type": "execute_result"
    }
   ],
   "source": [
    "pipelines_scores.loc[term_extraction_components[1]] = pos_results\n",
    "pipelines_scores"
   ]
  },
  {
   "cell_type": "markdown",
   "metadata": {},
   "source": [
    "### Diagram de venn"
   ]
  },
  {
   "cell_type": "code",
   "execution_count": 32,
   "metadata": {},
   "outputs": [
    {
     "name": "stderr",
     "output_type": "stream",
     "text": [
      "/tmp/ipykernel_6922/3224087544.py:4: UserWarning: No artists with labels found to put in legend.  Note that artists whose label start with an underscore are ignored when legend() is called with no argument.\n",
      "  plt.legend()\n"
     ]
    },
    {
     "data": {
      "text/plain": [
       "<matplotlib.legend.Legend at 0x7565a1d93940>"
      ]
     },
     "execution_count": 32,
     "metadata": {},
     "output_type": "execute_result"
    },
    {
     "data": {
      "image/png": "[encoded data removed]",
      "text/plain": [
       "<Figure size 640x480 with 1 Axes>"
      ]
     },
     "metadata": {},
     "output_type": "display_data"
    }
   ],
   "source": [
    "concepts_sets = [set([concept.label for concept in pipeline.kr.concepts]) for pipeline in postag_pipelines]\n",
    "venn3(subsets=[concepts_sets[0], concepts_sets[1], concepts_sets[2]], set_labels=tuple(concept_extraction_components))\n",
    "plt.title(\"Diagramme de Venn des pipelines base sur POS Term Extraction\")\n",
    "plt.legend()\n"
   ]
  },
  {
   "cell_type": "markdown",
   "metadata": {},
   "source": [
    "## TFIDF  Term Extraction"
   ]
  },
  {
   "cell_type": "code",
   "execution_count": 33,
   "metadata": {},
   "outputs": [],
   "source": [
    "tfidf_pipelines = []\n",
    "\n",
    "tfidf_results = []"
   ]
  },
  {
   "cell_type": "code",
   "execution_count": 34,
   "metadata": {},
   "outputs": [],
   "source": [
    "## \n",
    "\n",
    "def has_not_stopword(terms : Set[CandidateTerm], nlp=nlp,):\n",
    "    selected_term = []\n",
    "    for term in terms:\n",
    "        if is_not_stopword(nlp(term.label)[0]):\n",
    "            selected_term.append(term)\n",
    "    return set(selected_term)\n",
    "\n",
    "def has_not_punct(terms : Set[CandidateTerm], nlp=nlp,):\n",
    "    selected_term = []\n",
    "    for term in terms:\n",
    "        if all([is_not_punct(nlp(char)[0]) for char in term.label]):\n",
    "            selected_term.append(term)\n",
    "    return set(selected_term)\n",
    "\n",
    "\n",
    "bad_pos = [\"ADP\", \"PRON\", \"CCONJ\", \"PART\", \"DET\", \"INTJ\", \"SCONJ\", \"NUM\"]\n",
    "\n",
    "def has_not_bad_pos(terms : Set[CandidateTerm], nlp=nlp, pos_to_avoid: List[str]=bad_pos) -> Set[CandidateTerm]:\n",
    "    selected_term = []\n",
    "    for term in terms:\n",
    "        if not any([doc.pos_ in pos_to_avoid for doc in nlp(term.label)]):\n",
    "            selected_term.append(term)\n",
    "    return set(selected_term)\n",
    "\n",
    "def tidf_postprocessing(terms : Set[CandidateTerm], nlp=nlp) -> Set[CandidateTerm]:\n",
    "\n",
    "    # has_no_punct = lambda term: any([not is_not_punct(term[i]) for i in range(len(term))])\n",
    "    terms_doc = [nlp(term.label) for term in terms]\n",
    "    selected_term = [\n",
    "        term for term in terms\n",
    "        if  is_not_punct(nlp(term.label)[0])  \n",
    "            and is_not_stopword(nlp(term.label)[0])\n",
    "            and has_not_punct(nlp(term.label)[0])\n",
    "            and has_not_bad_pos(nlp(term.label)[0])\n",
    "        ]\n",
    "\n",
    "    return set(selected_term)\n",
    "\n",
    "def cts_post_processing(cts: set[CandidateTerm], bad_pos=bad_pos) -> set[CandidateTerm]:\n",
    "    \"\"\"Post processing on candidate terms.\n",
    "    Candidate terms with punctuation, stop words or verbs are removed.\n",
    "\n",
    "    Parameters\n",
    "    ----------\n",
    "    cts: set[CandidateTerm]\n",
    "        Set of candidate terms to filter.\n",
    "\n",
    "    Returns\n",
    "    -------\n",
    "    set[CandidateTerm]\n",
    "        The candidate terms validated.    \n",
    "    \"\"\"\n",
    "    existing_cts = []\n",
    "    new_cts = set()\n",
    "    for ct in cts:\n",
    "        keep = True\n",
    "        if len(ct.corpus_occurrences) > 0:\n",
    "            for co in ct.corpus_occurrences:\n",
    "                for token in co:\n",
    "                    if (not (is_not_punct(token)) or not (is_not_stopword(token)) or (token.pos_ in bad_pos)):\n",
    "                        keep = False\n",
    "                        break\n",
    "        else:\n",
    "            keep = False\n",
    "        if keep and ct.label not in existing_cts:\n",
    "            new_cts.add(ct)\n",
    "            existing_cts.append(ct.label)\n",
    "    return new_cts"
   ]
  },
  {
   "cell_type": "markdown",
   "metadata": {},
   "source": [
    "### TFIDF Term Extraction and Candidat To Concept Extraction"
   ]
  },
  {
   "cell_type": "code",
   "execution_count": 35,
   "metadata": {},
   "outputs": [
    {
     "name": "stderr",
     "output_type": "stream",
     "text": [
      "[2024-06-19 09:47:24,914] [WARNING] [tfidf_term_extraction] [_check_parameters] [Selected token sequence document attribute not set by the user.\n",
      "                By default the system will use the entire content of the document.]\n",
      "/home/oumar/Bureau/ontology-learning/env/lib/python3.10/site-packages/sklearn/feature_extraction/text.py:525: UserWarning: The parameter 'token_pattern' will not be used since 'tokenizer' is not None'\n",
      "  warnings.warn(\n"
     ]
    },
    {
     "name": "stdout",
     "output_type": "stream",
     "text": [
      "(1.0, 0.07662835249042145, 0.14234875444839856)\n"
     ]
    }
   ],
   "source": [
    "tfidf_pipelines.append(\n",
    "    Pipeline(\n",
    "        spacy_model=nlp,\n",
    "        pipeline_components=[\n",
    "            TFIDFTermExtraction(\n",
    "                max_term_token_length=3,\n",
    "                candidate_term_threshold=.05,\n",
    "                cts_post_processing_functions=[has_not_punct, has_not_bad_pos, has_not_stopword]\n",
    "            ),\n",
    "            CTsToConceptExtraction()\n",
    "        ],\n",
    "        corpus_loader=corpus_loader\n",
    "    )\n",
    ")\n",
    "current_pipeline = tfidf_pipelines[-1]\n",
    "current_pipeline.run()\n",
    "\n",
    "\n",
    "tfidf_results += list(\n",
    "    results:=get_concept_ratio(current_pipeline, expected_concepts, comparator_args=comparator_args)\n",
    "    )\n",
    "print(results)"
   ]
  },
  {
   "cell_type": "code",
   "execution_count": 36,
   "metadata": {},
   "outputs": [
    {
     "name": "stderr",
     "output_type": "stream",
     "text": [
      "[2024-06-19 09:48:43,868] [WARNING] [tfidf_term_extraction] [_check_parameters] [Selected token sequence document attribute not set by the user.\n",
      "                By default the system will use the entire content of the document.]\n"
     ]
    },
    {
     "name": "stdout",
     "output_type": "stream",
     "text": [
      "(1.0, 0.09090909090909091, 0.16666666666666669)\n"
     ]
    }
   ],
   "source": [
    "tfidf_pipelines.append(\n",
    "    Pipeline(\n",
    "        spacy_model=nlp,\n",
    "        pipeline_components=[\n",
    "            TFIDFTermExtraction(\n",
    "                max_term_token_length=3,\n",
    "                candidate_term_threshold=.05,\n",
    "                cts_post_processing_functions=[cts_post_processing]\n",
    "            ),\n",
    "            CTsToConceptExtraction()\n",
    "        ],\n",
    "        corpus_loader=corpus_loader\n",
    "    )\n",
    ")\n",
    "current_pipeline = tfidf_pipelines[-1]\n",
    "current_pipeline.run()\n",
    "\n",
    "\n",
    "# tfidf_results += list(\n",
    "results=get_concept_ratio(current_pipeline, expected_concepts, comparator_args=comparator_args)\n",
    "    # )\n",
    "print(results)"
   ]
  },
  {
   "cell_type": "code",
   "execution_count": 37,
   "metadata": {},
   "outputs": [],
   "source": [
    "# concepts = [ concept for concept in current_pipeline.kr.concepts]\n",
    "# concept = concepts[0]\n",
    "# for doc in nlp(concept.label):\n",
    "#     print(doc.pos_)\n",
    "\n",
    "# [doc.pos_ in [\"AUX\", \"VERB\"] for doc in nlp(concept.label)]\n",
    "# for lr in concept.linguistic_realisations:\n",
    "#     docs = lr.get_docs()\n",
    "#     for doc in docs:\n",
    "#         print(doc)\n",
    "\n",
    "# pos_list = set()\n",
    "# [[(doc, doc.pos_ )for doc in nlp(concept.label)] for concept in concepts]\n",
    "# for concept in concepts:\n",
    "#     for doc in nlp(concept.label):\n",
    "#         pos_list.add(doc.pos_)\n",
    "# pos_list\n",
    "\n",
    "\n",
    "# for i in range(0, len(concepts), 10):\n",
    "#     print([[(doc, doc.pos_ ) for doc in nlp(concept.label)] for concept in concepts[i: i+10]])\n",
    "\n",
    "# [[(doc, doc.pos_ )for doc in nlp(concept.label)] for concept in expected_concepts]\n",
    "# len(current_pipeline.kr.concepts)\n",
    "# display_concept(current_pipeline.kr)"
   ]
  },
  {
   "cell_type": "code",
   "execution_count": 38,
   "metadata": {},
   "outputs": [
    {
     "name": "stdout",
     "output_type": "stream",
     "text": [
      "\n",
      "Punching : punched according \n",
      "Welding line : weld line \n",
      "Crescent Gap : crescent gap \n",
      "Water spot : water spots \n",
      "Oil spot : oil spots \n",
      "Silk spot : silk spot \n",
      "Inclusion : inclusions \n",
      "Rolled pit : pit \n",
      "Crease : crease \n",
      "Waist folding : waist folding \n",
      "metal surface defect : surface defects \n",
      "mechanical failure : mechanical failure \n",
      "drying : drying \n",
      "mechanical lubricant : lubricant \n",
      "temperature : temperature \n",
      "pressure : pressure \n",
      "work roll damage : roll damage \n",
      "tension roll damage : roll damage \n",
      "local yield : local yield \n",
      "low-carbon : carbon "
     ]
    },
    {
     "data": {
      "text/plain": [
       "(1.0, 0.09090909090909091, 0.16666666666666669)"
      ]
     },
     "execution_count": 38,
     "metadata": {},
     "output_type": "execute_result"
    }
   ],
   "source": [
    "debug_get_concept_ratio(current_pipeline, expected_concepts, comparator_args=comparator_args)"
   ]
  },
  {
   "cell_type": "code",
   "execution_count": 39,
   "metadata": {},
   "outputs": [
    {
     "name": "stdout",
     "output_type": "stream",
     "text": [
      "Concepts in KR:\n",
      "production line\n",
      "punctate\n",
      "roll damage\n",
      "steel strip surface\n",
      "water spots\n",
      "surface defects\n",
      "moving direction\n",
      "crease\n",
      "weld\n",
      "fish scale shape\n",
      "steel strip needs\n",
      "local\n",
      "weld line\n",
      "pockmarked surfaces\n",
      "described\n",
      "waist\n",
      "local yield\n",
      "transverse fold\n",
      "bulges\n",
      "roll\n",
      "moving\n",
      "detail\n",
      "uneven pressure\n",
      "needs\n",
      "oil\n",
      "length\n",
      "usually\n",
      "vertical transverse fold\n",
      "tension roll\n",
      "fall\n",
      "speaking\n",
      "uncoiling process\n",
      "subsequent\n",
      "usually showing\n",
      "occurrence\n",
      "crescent gap\n",
      "irregular spacing\n",
      "metal\n",
      "local deformation\n",
      "periodic\n",
      "indicating\n",
      "wave\n",
      "tracked\n",
      "distribution\n",
      "silk spot\n",
      "yield\n",
      "explaining\n",
      "shape\n",
      "vertical transverse\n",
      "defect\n",
      "wrinkles\n",
      "coils\n",
      "pit\n",
      "strip surface\n",
      "circle\n",
      "low\n",
      "edge\n",
      "resulting\n",
      "work roll\n",
      "showing small\n",
      "small\n",
      "rolled pits\n",
      "spots\n",
      "main\n",
      "typical\n",
      "similar\n",
      "changed\n",
      "caused\n",
      "produced\n",
      "little\n",
      "unwanted\n",
      "automatically\n",
      "popular\n",
      "lower surfaces\n",
      "global\n",
      "rough pockmarked surfaces\n",
      "continuous\n",
      "punched according\n",
      "block irregular\n",
      "punching\n",
      "lubricant\n",
      "lead\n",
      "length direction\n",
      "generally\n",
      "waist folding\n",
      "main reason lies\n",
      "usually caused\n",
      "scale\n",
      "contamination\n",
      "results\n",
      "mechanical\n",
      "pressure\n",
      "rolled pit\n",
      "failure\n",
      "mechanical failure\n",
      "drying\n",
      "oil spots\n",
      "damage\n",
      "carbon\n",
      "usually showing small\n",
      "spot\n",
      "uneven temperature\n",
      "strip length\n",
      "mistake\n",
      "small spots\n",
      "block\n",
      "tension roll damage\n",
      "process\n",
      "necessary\n",
      "defects\n",
      "uneven\n",
      "detected\n",
      "uncoiling\n",
      "type\n",
      "strip shape\n",
      "spacing\n",
      "roller\n",
      "cuts\n",
      "tension\n",
      "cutting\n",
      "mainly caused\n",
      "parts\n",
      "irregular distribution\n",
      "specifications\n",
      "punching defects\n",
      "steel\n",
      "product\n",
      "appear\n",
      "block irregular distribution\n",
      "easy\n",
      "plate\n",
      "products\n",
      "accompanied\n",
      "metal surface defects\n",
      "processes\n",
      "oil spot\n",
      "showing small spots\n",
      "strictly\n",
      "circumvented\n",
      "product specifications\n",
      "temperature\n",
      "direction\n",
      "reasons\n",
      "welding line\n",
      "defect parts\n",
      "gap\n",
      "folds\n",
      "mainly\n",
      "production\n",
      "large\n",
      "regular\n",
      "usually detected\n",
      "contrast\n",
      "according\n",
      "fish scale\n",
      "automatically detected\n",
      "section\n",
      "main reason\n",
      "inclusions\n",
      "obvious\n",
      "water\n",
      "typical defect\n",
      "strip needs\n",
      "different products\n",
      "reason\n",
      "fold\n",
      "strictly speaking\n",
      "lies\n",
      "upper\n",
      "reason lies\n",
      "unwanted punching\n",
      "water spot\n",
      "periodic bulges\n",
      "strip length direction\n",
      "like plaque\n",
      "rough pockmarked\n",
      "silk\n",
      "strip\n",
      "crescent\n",
      "requirements\n",
      "plaque\n",
      "rough\n",
      "fish\n",
      "line\n",
      "appears\n",
      "surface\n",
      "mechanical lubricant\n",
      "appearance\n",
      "pressed\n",
      "low contrast\n",
      "punched\n",
      "showing\n",
      "scale shape\n",
      "distributed\n",
      "transverse\n",
      "loose\n",
      "rolled\n",
      "irregular\n",
      "continuous wave\n",
      "obvious folds\n",
      "steel strip\n",
      "steel plate\n",
      "welding\n",
      "lower\n",
      "inclusion\n",
      "subsequent cuts\n",
      "density\n",
      "affect\n",
      "flaky\n",
      "defect type\n",
      "deformation\n",
      "lower surface\n",
      "pits\n",
      "pockmarked\n",
      "folding\n",
      "metal surface\n",
      "different\n",
      "vertical\n",
      "surfaces\n",
      "work\n"
     ]
    }
   ],
   "source": [
    "display_concept(current_pipeline.kr)"
   ]
  },
  {
   "cell_type": "markdown",
   "metadata": {},
   "source": [
    "### TFIDF Term Extraction and Synonym Concept Extraction"
   ]
  },
  {
   "cell_type": "code",
   "execution_count": 40,
   "metadata": {},
   "outputs": [
    {
     "name": "stderr",
     "output_type": "stream",
     "text": [
      "[2024-06-19 09:49:14,464] [WARNING] [tfidf_term_extraction] [_check_parameters] [Selected token sequence document attribute not set by the user.\n",
      "                By default the system will use the entire content of the document.]\n"
     ]
    },
    {
     "name": "stdout",
     "output_type": "stream",
     "text": [
      "(1.0, 0.07692307692307693, 0.14285714285714288)\n"
     ]
    }
   ],
   "source": [
    "tfidf_pipelines.append(\n",
    "    Pipeline(\n",
    "        spacy_model=nlp,\n",
    "        pipeline_components=[\n",
    "           TFIDFTermExtraction(\n",
    "                max_term_token_length=3,\n",
    "                candidate_term_threshold=.05,\n",
    "                cts_post_processing_functions=[has_not_punct, has_not_bad_pos, has_not_stopword]\n",
    "            ),\n",
    "            SemanticBasedEnrichment(\n",
    "                threshold=.9\n",
    "            ),\n",
    "            SynonymConceptExtraction()\n",
    "        ],\n",
    "        corpus_loader=corpus_loader\n",
    "    )\n",
    ")\n",
    "current_pipeline = tfidf_pipelines[-1]\n",
    "current_pipeline.run()\n",
    "\n",
    "\n",
    "tfidf_results += list(\n",
    "    results:=get_concept_ratio(current_pipeline, expected_concepts, comparator_args=comparator_args)\n",
    "    )\n",
    "print(results)"
   ]
  },
  {
   "cell_type": "markdown",
   "metadata": {},
   "source": [
    "### TFIDF Term Extraction and Agglomerative clustering Concept Extraction"
   ]
  },
  {
   "cell_type": "code",
   "execution_count": 41,
   "metadata": {},
   "outputs": [
    {
     "name": "stderr",
     "output_type": "stream",
     "text": [
      "[2024-06-19 09:52:50,245] [WARNING] [tfidf_term_extraction] [_check_parameters] [Selected token sequence document attribute not set by the user.\n",
      "                By default the system will use the entire content of the document.]\n",
      "[2024-06-19 09:52:50,246] [WARNING] [agglomerative_clustering_concept_extraction] [_check_parameters] [No value given for embedding_model parameter, default will be set to all-mpnet-base-v2.]\n",
      "[2024-06-19 09:52:50,247] [WARNING] [agglomerative_clustering_concept_extraction] [_check_parameters] [No value given for metric option, default will be set to cosine.]\n"
     ]
    }
   ],
   "source": [
    "tfidf_pipelines.append(\n",
    "    Pipeline(\n",
    "        spacy_model=nlp,\n",
    "        pipeline_components=[\n",
    "            TFIDFTermExtraction(\n",
    "                max_term_token_length=3,\n",
    "                candidate_term_threshold=.05,\n",
    "                cts_post_processing_functions=[has_not_punct, has_not_bad_pos, has_not_stopword]\n",
    "            ),\n",
    "            AgglomerativeClusteringConceptExtraction(\n",
    "                distance_threshold=.3\n",
    "            )\n",
    "        ],\n",
    "        corpus_loader=corpus_loader\n",
    "    )\n",
    ")\n",
    "current_pipeline = tfidf_pipelines[-1]\n",
    "current_pipeline.run()\n",
    "\n",
    "\n",
    "tfidf_results += list(\n",
    "    get_concept_ratio(current_pipeline, expected_concepts, comparator_args=comparator_args)\n",
    ")"
   ]
  },
  {
   "cell_type": "markdown",
   "metadata": {},
   "source": [
    "### Scores des pipelines"
   ]
  },
  {
   "cell_type": "code",
   "execution_count": 42,
   "metadata": {},
   "outputs": [
    {
     "data": {
      "text/html": [
       "<div>\n",
       "<style scoped>\n",
       "    .dataframe tbody tr th:only-of-type {\n",
       "        vertical-align: middle;\n",
       "    }\n",
       "\n",
       "    .dataframe tbody tr th {\n",
       "        vertical-align: top;\n",
       "    }\n",
       "\n",
       "    .dataframe thead tr th {\n",
       "        text-align: left;\n",
       "    }\n",
       "</style>\n",
       "<table border=\"1\" class=\"dataframe\">\n",
       "  <thead>\n",
       "    <tr>\n",
       "      <th></th>\n",
       "      <th colspan=\"3\" halign=\"left\">CandidatToConcept</th>\n",
       "      <th colspan=\"3\" halign=\"left\">SynonymToConcept</th>\n",
       "      <th colspan=\"3\" halign=\"left\">AgglomerativeClustering</th>\n",
       "    </tr>\n",
       "    <tr>\n",
       "      <th></th>\n",
       "      <th>Precision</th>\n",
       "      <th>Rappel</th>\n",
       "      <th>F1</th>\n",
       "      <th>Precision</th>\n",
       "      <th>Rappel</th>\n",
       "      <th>F1</th>\n",
       "      <th>Precision</th>\n",
       "      <th>Rappel</th>\n",
       "      <th>F1</th>\n",
       "    </tr>\n",
       "  </thead>\n",
       "  <tbody>\n",
       "    <tr>\n",
       "      <th>LLM Term Extraction</th>\n",
       "      <td>0.9</td>\n",
       "      <td>0.514286</td>\n",
       "      <td>0.654545</td>\n",
       "      <td>0.9</td>\n",
       "      <td>0.514286</td>\n",
       "      <td>0.654545</td>\n",
       "      <td>0.85</td>\n",
       "      <td>0.566667</td>\n",
       "      <td>0.68</td>\n",
       "    </tr>\n",
       "    <tr>\n",
       "      <th>POStag Term Extraction</th>\n",
       "      <td>0.6</td>\n",
       "      <td>0.164384</td>\n",
       "      <td>0.258065</td>\n",
       "      <td>0.6</td>\n",
       "      <td>0.164384</td>\n",
       "      <td>0.258065</td>\n",
       "      <td>0.6</td>\n",
       "      <td>0.190476</td>\n",
       "      <td>0.289157</td>\n",
       "    </tr>\n",
       "    <tr>\n",
       "      <th>TFIDF Term Extraction</th>\n",
       "      <td>1.0</td>\n",
       "      <td>0.076628</td>\n",
       "      <td>0.142349</td>\n",
       "      <td>1.0</td>\n",
       "      <td>0.076923</td>\n",
       "      <td>0.142857</td>\n",
       "      <td>1.0</td>\n",
       "      <td>0.111732</td>\n",
       "      <td>0.201005</td>\n",
       "    </tr>\n",
       "  </tbody>\n",
       "</table>\n",
       "</div>"
      ],
      "text/plain": [
       "                       CandidatToConcept                     SynonymToConcept  \\\n",
       "                               Precision    Rappel        F1        Precision   \n",
       "LLM Term Extraction                  0.9  0.514286  0.654545              0.9   \n",
       "POStag Term Extraction               0.6  0.164384  0.258065              0.6   \n",
       "TFIDF Term Extraction                1.0  0.076628  0.142349              1.0   \n",
       "\n",
       "                                           AgglomerativeClustering            \\\n",
       "                          Rappel        F1               Precision    Rappel   \n",
       "LLM Term Extraction     0.514286  0.654545                    0.85  0.566667   \n",
       "POStag Term Extraction  0.164384  0.258065                     0.6  0.190476   \n",
       "TFIDF Term Extraction   0.076923  0.142857                     1.0  0.111732   \n",
       "\n",
       "                                  \n",
       "                              F1  \n",
       "LLM Term Extraction         0.68  \n",
       "POStag Term Extraction  0.289157  \n",
       "TFIDF Term Extraction   0.201005  "
      ]
     },
     "execution_count": 42,
     "metadata": {},
     "output_type": "execute_result"
    }
   ],
   "source": [
    "pipelines_scores.loc[term_extraction_components[2]] = tfidf_results\n",
    "pipelines_scores"
   ]
  },
  {
   "cell_type": "markdown",
   "metadata": {},
   "source": [
    "### Diagram de venn"
   ]
  },
  {
   "cell_type": "code",
   "execution_count": 43,
   "metadata": {},
   "outputs": [
    {
     "name": "stderr",
     "output_type": "stream",
     "text": [
      "/home/oumar/Bureau/ontology-learning/env/lib/python3.10/site-packages/matplotlib_venn/_venn3.py:117: UserWarning: Bad circle positioning\n",
      "  warnings.warn(\"Bad circle positioning\")\n"
     ]
    },
    {
     "data": {
      "text/plain": [
       "<matplotlib.legend.Legend at 0x75660872bc10>"
      ]
     },
     "execution_count": 43,
     "metadata": {},
     "output_type": "execute_result"
    },
    {
     "data": {
      "image/png": "[encoded data removed]",
      "text/plain": [
       "<Figure size 1900x700 with 1 Axes>"
      ]
     },
     "metadata": {},
     "output_type": "display_data"
    }
   ],
   "source": [
    "plt.figure(figsize=(19,7))\n",
    "concepts_sets = [set([concept.label for concept in pipeline.kr.concepts]) for pipeline in tfidf_pipelines]\n",
    "venn3(subsets=[concepts_sets[0], concepts_sets[1], concepts_sets[2]], set_labels=tuple(concept_extraction_components))\n",
    "plt.title(\"Diagramme de Venn des pipelines base sur TFIDF Term Extraction\")\n",
    "plt.legend(concept_extraction_components, loc='lower right')\n"
   ]
  },
  {
   "cell_type": "markdown",
   "metadata": {},
   "source": [
    "# Visualisation des Resultats"
   ]
  },
  {
   "cell_type": "code",
   "execution_count": 44,
   "metadata": {},
   "outputs": [
    {
     "data": {
      "image/png": "[encoded data removed]",
      "text/plain": [
       "<Figure size 900x500 with 1 Axes>"
      ]
     },
     "metadata": {},
     "output_type": "display_data"
    },
    {
     "data": {
      "image/png": "[encoded data removed]",
      "text/plain": [
       "<Figure size 900x500 with 1 Axes>"
      ]
     },
     "metadata": {},
     "output_type": "display_data"
    },
    {
     "data": {
      "image/png": "[encoded data removed]",
      "text/plain": [
       "<Figure size 900x500 with 1 Axes>"
      ]
     },
     "metadata": {},
     "output_type": "display_data"
    }
   ],
   "source": [
    "# Fonction pour créer les diagrammes en barres\n",
    "def create_bar_chart(index_name, data):\n",
    "    fig, ax = plt.subplots(figsize=(9, 5))\n",
    "    bar_width = 0.2\n",
    "    opacity = 0.8\n",
    "\n",
    "    # Configurer les positions des barres\n",
    "    r1 = np.arange(len(data.columns.levels[0]))\n",
    "    r2 = [x + bar_width for x in r1]\n",
    "    r3 = [x + bar_width for x in r2]\n",
    "\n",
    "    precision = data.loc[index_name].xs('Precision', level=1)\n",
    "    rappel = data.loc[index_name].xs('Rappel', level=1)\n",
    "    f1 = data.loc[index_name].xs('F1', level=1)\n",
    "\n",
    "    rects1 = ax.bar(r1, precision, bar_width, alpha=opacity, color='b', label='Précision')\n",
    "    rects2 = ax.bar(r2, rappel, bar_width, alpha=opacity, color='g', label='Rappel')\n",
    "    rects3 = ax.bar(r3, f1, bar_width, alpha=opacity, color='r', label='F1')\n",
    "\n",
    "    ax.set_xlabel('Composants')\n",
    "    ax.set_ylabel('Scores')\n",
    "    ax.set_title(f'Scores de Précision, Rappel et F1 pour {index_name}')\n",
    "    ax.set_xticks([r + bar_width for r in range(len(data.columns.levels[0]))])\n",
    "    ax.set_xticklabels(data.columns.levels[0])\n",
    "    ax.legend()\n",
    "\n",
    "    plt.show()\n",
    "\n",
    "# Créer un diagramme en barres pour chaque index\n",
    "for idx in term_extraction_components:\n",
    "    create_bar_chart(idx, pipelines_scores)"
   ]
  },
  {
   "cell_type": "code",
   "execution_count": 50,
   "metadata": {},
   "outputs": [
    {
     "data": {
      "application/vnd.plotly.v1+json": {
       "config": {
        "plotlyServerURL": "https://plot.ly"
       },
       "data": [
        {
         "alignmentgroup": "True",
         "hovertemplate": "Métrique=Precision<br>Composant=%{x}<br>Score=%{y}<extra></extra>",
         "legendgroup": "Precision",
         "marker": {
          "color": "#636efa",
          "pattern": {
           "shape": ""
          }
         },
         "name": "Precision",
         "offsetgroup": "Precision",
         "orientation": "v",
         "showlegend": true,
         "textposition": "auto",
         "type": "bar",
         "x": [
          "CandidatToConcept",
          "SynonymToConcept",
          "AgglomerativeClustering"
         ],
         "xaxis": "x",
         "y": [
          0.9,
          0.9,
          0.85
         ],
         "yaxis": "y"
        },
        {
         "alignmentgroup": "True",
         "hovertemplate": "Métrique=Rappel<br>Composant=%{x}<br>Score=%{y}<extra></extra>",
         "legendgroup": "Rappel",
         "marker": {
          "color": "#EF553B",
          "pattern": {
           "shape": ""
          }
         },
         "name": "Rappel",
         "offsetgroup": "Rappel",
         "orientation": "v",
         "showlegend": true,
         "textposition": "auto",
         "type": "bar",
         "x": [
          "CandidatToConcept",
          "SynonymToConcept",
          "AgglomerativeClustering"
         ],
         "xaxis": "x",
         "y": [
          0.5142857142857142,
          0.5142857142857142,
          0.5666666666666667
         ],
         "yaxis": "y"
        },
        {
         "alignmentgroup": "True",
         "hovertemplate": "Métrique=F1<br>Composant=%{x}<br>Score=%{y}<extra></extra>",
         "legendgroup": "F1",
         "marker": {
          "color": "#00cc96",
          "pattern": {
           "shape": ""
          }
         },
         "name": "F1",
         "offsetgroup": "F1",
         "orientation": "v",
         "showlegend": true,
         "textposition": "auto",
         "type": "bar",
         "x": [
          "CandidatToConcept",
          "SynonymToConcept",
          "AgglomerativeClustering"
         ],
         "xaxis": "x",
         "y": [
          0.6545454545454545,
          0.6545454545454545,
          0.68
         ],
         "yaxis": "y"
        }
       ],
       "layout": {
        "barmode": "group",
        "height": 600,
        "legend": {
         "title": {
          "text": "Métrique"
         },
         "tracegroupgap": 0
        },
        "template": {
         "data": {
          "bar": [
           {
            "error_x": {
             "color": "#2a3f5f"
            },
            "error_y": {
             "color": "#2a3f5f"
            },
            "marker": {
             "line": {
              "color": "#E5ECF6",
              "width": 0.5
             },
             "pattern": {
              "fillmode": "overlay",
              "size": 10,
              "solidity": 0.2
             }
            },
            "type": "bar"
           }
          ],
          "barpolar": [
           {
            "marker": {
             "line": {
              "color": "#E5ECF6",
              "width": 0.5
             },
             "pattern": {
              "fillmode": "overlay",
              "size": 10,
              "solidity": 0.2
             }
            },
            "type": "barpolar"
           }
          ],
          "carpet": [
           {
            "aaxis": {
             "endlinecolor": "#2a3f5f",
             "gridcolor": "white",
             "linecolor": "white",
             "minorgridcolor": "white",
             "startlinecolor": "#2a3f5f"
            },
            "baxis": {
             "endlinecolor": "#2a3f5f",
             "gridcolor": "white",
             "linecolor": "white",
             "minorgridcolor": "white",
             "startlinecolor": "#2a3f5f"
            },
            "type": "carpet"
           }
          ],
          "choropleth": [
           {
            "colorbar": {
             "outlinewidth": 0,
             "ticks": ""
            },
            "type": "choropleth"
           }
          ],
          "contour": [
           {
            "colorbar": {
             "outlinewidth": 0,
             "ticks": ""
            },
            "colorscale": [
             [
              0,
              "#0d0887"
             ],
             [
              0.1111111111111111,
              "#46039f"
             ],
             [
              0.2222222222222222,
              "#7201a8"
             ],
             [
              0.3333333333333333,
              "#9c179e"
             ],
             [
              0.4444444444444444,
              "#bd3786"
             ],
             [
              0.5555555555555556,
              "#d8576b"
             ],
             [
              0.6666666666666666,
              "#ed7953"
             ],
             [
              0.7777777777777778,
              "#fb9f3a"
             ],
             [
              0.8888888888888888,
              "#fdca26"
             ],
             [
              1,
              "#f0f921"
             ]
            ],
            "type": "contour"
           }
          ],
          "contourcarpet": [
           {
            "colorbar": {
             "outlinewidth": 0,
             "ticks": ""
            },
            "type": "contourcarpet"
           }
          ],
          "heatmap": [
           {
            "colorbar": {
             "outlinewidth": 0,
             "ticks": ""
            },
            "colorscale": [
             [
              0,
              "#0d0887"
             ],
             [
              0.1111111111111111,
              "#46039f"
             ],
             [
              0.2222222222222222,
              "#7201a8"
             ],
             [
              0.3333333333333333,
              "#9c179e"
             ],
             [
              0.4444444444444444,
              "#bd3786"
             ],
             [
              0.5555555555555556,
              "#d8576b"
             ],
             [
              0.6666666666666666,
              "#ed7953"
             ],
             [
              0.7777777777777778,
              "#fb9f3a"
             ],
             [
              0.8888888888888888,
              "#fdca26"
             ],
             [
              1,
              "#f0f921"
             ]
            ],
            "type": "heatmap"
           }
          ],
          "heatmapgl": [
           {
            "colorbar": {
             "outlinewidth": 0,
             "ticks": ""
            },
            "colorscale": [
             [
              0,
              "#0d0887"
             ],
             [
              0.1111111111111111,
              "#46039f"
             ],
             [
              0.2222222222222222,
              "#7201a8"
             ],
             [
              0.3333333333333333,
              "#9c179e"
             ],
             [
              0.4444444444444444,
              "#bd3786"
             ],
             [
              0.5555555555555556,
              "#d8576b"
             ],
             [
              0.6666666666666666,
              "#ed7953"
             ],
             [
              0.7777777777777778,
              "#fb9f3a"
             ],
             [
              0.8888888888888888,
              "#fdca26"
             ],
             [
              1,
              "#f0f921"
             ]
            ],
            "type": "heatmapgl"
           }
          ],
          "histogram": [
           {
            "marker": {
             "pattern": {
              "fillmode": "overlay",
              "size": 10,
              "solidity": 0.2
             }
            },
            "type": "histogram"
           }
          ],
          "histogram2d": [
           {
            "colorbar": {
             "outlinewidth": 0,
             "ticks": ""
            },
            "colorscale": [
             [
              0,
              "#0d0887"
             ],
             [
              0.1111111111111111,
              "#46039f"
             ],
             [
              0.2222222222222222,
              "#7201a8"
             ],
             [
              0.3333333333333333,
              "#9c179e"
             ],
             [
              0.4444444444444444,
              "#bd3786"
             ],
             [
              0.5555555555555556,
              "#d8576b"
             ],
             [
              0.6666666666666666,
              "#ed7953"
             ],
             [
              0.7777777777777778,
              "#fb9f3a"
             ],
             [
              0.8888888888888888,
              "#fdca26"
             ],
             [
              1,
              "#f0f921"
             ]
            ],
            "type": "histogram2d"
           }
          ],
          "histogram2dcontour": [
           {
            "colorbar": {
             "outlinewidth": 0,
             "ticks": ""
            },
            "colorscale": [
             [
              0,
              "#0d0887"
             ],
             [
              0.1111111111111111,
              "#46039f"
             ],
             [
              0.2222222222222222,
              "#7201a8"
             ],
             [
              0.3333333333333333,
              "#9c179e"
             ],
             [
              0.4444444444444444,
              "#bd3786"
             ],
             [
              0.5555555555555556,
              "#d8576b"
             ],
             [
              0.6666666666666666,
              "#ed7953"
             ],
             [
              0.7777777777777778,
              "#fb9f3a"
             ],
             [
              0.8888888888888888,
              "#fdca26"
             ],
             [
              1,
              "#f0f921"
             ]
            ],
            "type": "histogram2dcontour"
           }
          ],
          "mesh3d": [
           {
            "colorbar": {
             "outlinewidth": 0,
             "ticks": ""
            },
            "type": "mesh3d"
           }
          ],
          "parcoords": [
           {
            "line": {
             "colorbar": {
              "outlinewidth": 0,
              "ticks": ""
             }
            },
            "type": "parcoords"
           }
          ],
          "pie": [
           {
            "automargin": true,
            "type": "pie"
           }
          ],
          "scatter": [
           {
            "fillpattern": {
             "fillmode": "overlay",
             "size": 10,
             "solidity": 0.2
            },
            "type": "scatter"
           }
          ],
          "scatter3d": [
           {
            "line": {
             "colorbar": {
              "outlinewidth": 0,
              "ticks": ""
             }
            },
            "marker": {
             "colorbar": {
              "outlinewidth": 0,
              "ticks": ""
             }
            },
            "type": "scatter3d"
           }
          ],
          "scattercarpet": [
           {
            "marker": {
             "colorbar": {
              "outlinewidth": 0,
              "ticks": ""
             }
            },
            "type": "scattercarpet"
           }
          ],
          "scattergeo": [
           {
            "marker": {
             "colorbar": {
              "outlinewidth": 0,
              "ticks": ""
             }
            },
            "type": "scattergeo"
           }
          ],
          "scattergl": [
           {
            "marker": {
             "colorbar": {
              "outlinewidth": 0,
              "ticks": ""
             }
            },
            "type": "scattergl"
           }
          ],
          "scattermapbox": [
           {
            "marker": {
             "colorbar": {
              "outlinewidth": 0,
              "ticks": ""
             }
            },
            "type": "scattermapbox"
           }
          ],
          "scatterpolar": [
           {
            "marker": {
             "colorbar": {
              "outlinewidth": 0,
              "ticks": ""
             }
            },
            "type": "scatterpolar"
           }
          ],
          "scatterpolargl": [
           {
            "marker": {
             "colorbar": {
              "outlinewidth": 0,
              "ticks": ""
             }
            },
            "type": "scatterpolargl"
           }
          ],
          "scatterternary": [
           {
            "marker": {
             "colorbar": {
              "outlinewidth": 0,
              "ticks": ""
             }
            },
            "type": "scatterternary"
           }
          ],
          "surface": [
           {
            "colorbar": {
             "outlinewidth": 0,
             "ticks": ""
            },
            "colorscale": [
             [
              0,
              "#0d0887"
             ],
             [
              0.1111111111111111,
              "#46039f"
             ],
             [
              0.2222222222222222,
              "#7201a8"
             ],
             [
              0.3333333333333333,
              "#9c179e"
             ],
             [
              0.4444444444444444,
              "#bd3786"
             ],
             [
              0.5555555555555556,
              "#d8576b"
             ],
             [
              0.6666666666666666,
              "#ed7953"
             ],
             [
              0.7777777777777778,
              "#fb9f3a"
             ],
             [
              0.8888888888888888,
              "#fdca26"
             ],
             [
              1,
              "#f0f921"
             ]
            ],
            "type": "surface"
           }
          ],
          "table": [
           {
            "cells": {
             "fill": {
              "color": "#EBF0F8"
             },
             "line": {
              "color": "white"
             }
            },
            "header": {
             "fill": {
              "color": "#C8D4E3"
             },
             "line": {
              "color": "white"
             }
            },
            "type": "table"
           }
          ]
         },
         "layout": {
          "annotationdefaults": {
           "arrowcolor": "#2a3f5f",
           "arrowhead": 0,
           "arrowwidth": 1
          },
          "autotypenumbers": "strict",
          "coloraxis": {
           "colorbar": {
            "outlinewidth": 0,
            "ticks": ""
           }
          },
          "colorscale": {
           "diverging": [
            [
             0,
             "#8e0152"
            ],
            [
             0.1,
             "#c51b7d"
            ],
            [
             0.2,
             "#de77ae"
            ],
            [
             0.3,
             "#f1b6da"
            ],
            [
             0.4,
             "#fde0ef"
            ],
            [
             0.5,
             "#f7f7f7"
            ],
            [
             0.6,
             "#e6f5d0"
            ],
            [
             0.7,
             "#b8e186"
            ],
            [
             0.8,
             "#7fbc41"
            ],
            [
             0.9,
             "#4d9221"
            ],
            [
             1,
             "#276419"
            ]
           ],
           "sequential": [
            [
             0,
             "#0d0887"
            ],
            [
             0.1111111111111111,
             "#46039f"
            ],
            [
             0.2222222222222222,
             "#7201a8"
            ],
            [
             0.3333333333333333,
             "#9c179e"
            ],
            [
             0.4444444444444444,
             "#bd3786"
            ],
            [
             0.5555555555555556,
             "#d8576b"
            ],
            [
             0.6666666666666666,
             "#ed7953"
            ],
            [
             0.7777777777777778,
             "#fb9f3a"
            ],
            [
             0.8888888888888888,
             "#fdca26"
            ],
            [
             1,
             "#f0f921"
            ]
           ],
           "sequentialminus": [
            [
             0,
             "#0d0887"
            ],
            [
             0.1111111111111111,
             "#46039f"
            ],
            [
             0.2222222222222222,
             "#7201a8"
            ],
            [
             0.3333333333333333,
             "#9c179e"
            ],
            [
             0.4444444444444444,
             "#bd3786"
            ],
            [
             0.5555555555555556,
             "#d8576b"
            ],
            [
             0.6666666666666666,
             "#ed7953"
            ],
            [
             0.7777777777777778,
             "#fb9f3a"
            ],
            [
             0.8888888888888888,
             "#fdca26"
            ],
            [
             1,
             "#f0f921"
            ]
           ]
          },
          "colorway": [
           "#636efa",
           "#EF553B",
           "#00cc96",
           "#ab63fa",
           "#FFA15A",
           "#19d3f3",
           "#FF6692",
           "#B6E880",
           "#FF97FF",
           "#FECB52"
          ],
          "font": {
           "color": "#2a3f5f"
          },
          "geo": {
           "bgcolor": "white",
           "lakecolor": "white",
           "landcolor": "#E5ECF6",
           "showlakes": true,
           "showland": true,
           "subunitcolor": "white"
          },
          "hoverlabel": {
           "align": "left"
          },
          "hovermode": "closest",
          "mapbox": {
           "style": "light"
          },
          "paper_bgcolor": "white",
          "plot_bgcolor": "#E5ECF6",
          "polar": {
           "angularaxis": {
            "gridcolor": "white",
            "linecolor": "white",
            "ticks": ""
           },
           "bgcolor": "#E5ECF6",
           "radialaxis": {
            "gridcolor": "white",
            "linecolor": "white",
            "ticks": ""
           }
          },
          "scene": {
           "xaxis": {
            "backgroundcolor": "#E5ECF6",
            "gridcolor": "white",
            "gridwidth": 2,
            "linecolor": "white",
            "showbackground": true,
            "ticks": "",
            "zerolinecolor": "white"
           },
           "yaxis": {
            "backgroundcolor": "#E5ECF6",
            "gridcolor": "white",
            "gridwidth": 2,
            "linecolor": "white",
            "showbackground": true,
            "ticks": "",
            "zerolinecolor": "white"
           },
           "zaxis": {
            "backgroundcolor": "#E5ECF6",
            "gridcolor": "white",
            "gridwidth": 2,
            "linecolor": "white",
            "showbackground": true,
            "ticks": "",
            "zerolinecolor": "white"
           }
          },
          "shapedefaults": {
           "line": {
            "color": "#2a3f5f"
           }
          },
          "ternary": {
           "aaxis": {
            "gridcolor": "white",
            "linecolor": "white",
            "ticks": ""
           },
           "baxis": {
            "gridcolor": "white",
            "linecolor": "white",
            "ticks": ""
           },
           "bgcolor": "#E5ECF6",
           "caxis": {
            "gridcolor": "white",
            "linecolor": "white",
            "ticks": ""
           }
          },
          "title": {
           "x": 0.05
          },
          "xaxis": {
           "automargin": true,
           "gridcolor": "white",
           "linecolor": "white",
           "ticks": "",
           "title": {
            "standoff": 15
           },
           "zerolinecolor": "white",
           "zerolinewidth": 2
          },
          "yaxis": {
           "automargin": true,
           "gridcolor": "white",
           "linecolor": "white",
           "ticks": "",
           "title": {
            "standoff": 15
           },
           "zerolinecolor": "white",
           "zerolinewidth": 2
          }
         }
        },
        "title": {
         "text": "Scores de Précision, Rappel et F1 pour LLM Term Extraction"
        },
        "width": 1000,
        "xaxis": {
         "anchor": "y",
         "domain": [
          0,
          1
         ],
         "title": {
          "text": "Composants"
         }
        },
        "yaxis": {
         "anchor": "x",
         "domain": [
          0,
          1
         ],
         "title": {
          "text": "Scores"
         }
        }
       }
      }
     },
     "metadata": {},
     "output_type": "display_data"
    },
    {
     "data": {
      "application/vnd.plotly.v1+json": {
       "config": {
        "plotlyServerURL": "https://plot.ly"
       },
       "data": [
        {
         "alignmentgroup": "True",
         "hovertemplate": "Métrique=Precision<br>Composant=%{x}<br>Score=%{y}<extra></extra>",
         "legendgroup": "Precision",
         "marker": {
          "color": "#636efa",
          "pattern": {
           "shape": ""
          }
         },
         "name": "Precision",
         "offsetgroup": "Precision",
         "orientation": "v",
         "showlegend": true,
         "textposition": "auto",
         "type": "bar",
         "x": [
          "CandidatToConcept",
          "SynonymToConcept",
          "AgglomerativeClustering"
         ],
         "xaxis": "x",
         "y": [
          0.6,
          0.6,
          0.6
         ],
         "yaxis": "y"
        },
        {
         "alignmentgroup": "True",
         "hovertemplate": "Métrique=Rappel<br>Composant=%{x}<br>Score=%{y}<extra></extra>",
         "legendgroup": "Rappel",
         "marker": {
          "color": "#EF553B",
          "pattern": {
           "shape": ""
          }
         },
         "name": "Rappel",
         "offsetgroup": "Rappel",
         "orientation": "v",
         "showlegend": true,
         "textposition": "auto",
         "type": "bar",
         "x": [
          "CandidatToConcept",
          "SynonymToConcept",
          "AgglomerativeClustering"
         ],
         "xaxis": "x",
         "y": [
          0.1643835616438356,
          0.1643835616438356,
          0.19047619047619047
         ],
         "yaxis": "y"
        },
        {
         "alignmentgroup": "True",
         "hovertemplate": "Métrique=F1<br>Composant=%{x}<br>Score=%{y}<extra></extra>",
         "legendgroup": "F1",
         "marker": {
          "color": "#00cc96",
          "pattern": {
           "shape": ""
          }
         },
         "name": "F1",
         "offsetgroup": "F1",
         "orientation": "v",
         "showlegend": true,
         "textposition": "auto",
         "type": "bar",
         "x": [
          "CandidatToConcept",
          "SynonymToConcept",
          "AgglomerativeClustering"
         ],
         "xaxis": "x",
         "y": [
          0.25806451612903225,
          0.25806451612903225,
          0.2891566265060241
         ],
         "yaxis": "y"
        }
       ],
       "layout": {
        "barmode": "group",
        "height": 600,
        "legend": {
         "title": {
          "text": "Métrique"
         },
         "tracegroupgap": 0
        },
        "template": {
         "data": {
          "bar": [
           {
            "error_x": {
             "color": "#2a3f5f"
            },
            "error_y": {
             "color": "#2a3f5f"
            },
            "marker": {
             "line": {
              "color": "#E5ECF6",
              "width": 0.5
             },
             "pattern": {
              "fillmode": "overlay",
              "size": 10,
              "solidity": 0.2
             }
            },
            "type": "bar"
           }
          ],
          "barpolar": [
           {
            "marker": {
             "line": {
              "color": "#E5ECF6",
              "width": 0.5
             },
             "pattern": {
              "fillmode": "overlay",
              "size": 10,
              "solidity": 0.2
             }
            },
            "type": "barpolar"
           }
          ],
          "carpet": [
           {
            "aaxis": {
             "endlinecolor": "#2a3f5f",
             "gridcolor": "white",
             "linecolor": "white",
             "minorgridcolor": "white",
             "startlinecolor": "#2a3f5f"
            },
            "baxis": {
             "endlinecolor": "#2a3f5f",
             "gridcolor": "white",
             "linecolor": "white",
             "minorgridcolor": "white",
             "startlinecolor": "#2a3f5f"
            },
            "type": "carpet"
           }
          ],
          "choropleth": [
           {
            "colorbar": {
             "outlinewidth": 0,
             "ticks": ""
            },
            "type": "choropleth"
           }
          ],
          "contour": [
           {
            "colorbar": {
             "outlinewidth": 0,
             "ticks": ""
            },
            "colorscale": [
             [
              0,
              "#0d0887"
             ],
             [
              0.1111111111111111,
              "#46039f"
             ],
             [
              0.2222222222222222,
              "#7201a8"
             ],
             [
              0.3333333333333333,
              "#9c179e"
             ],
             [
              0.4444444444444444,
              "#bd3786"
             ],
             [
              0.5555555555555556,
              "#d8576b"
             ],
             [
              0.6666666666666666,
              "#ed7953"
             ],
             [
              0.7777777777777778,
              "#fb9f3a"
             ],
             [
              0.8888888888888888,
              "#fdca26"
             ],
             [
              1,
              "#f0f921"
             ]
            ],
            "type": "contour"
           }
          ],
          "contourcarpet": [
           {
            "colorbar": {
             "outlinewidth": 0,
             "ticks": ""
            },
            "type": "contourcarpet"
           }
          ],
          "heatmap": [
           {
            "colorbar": {
             "outlinewidth": 0,
             "ticks": ""
            },
            "colorscale": [
             [
              0,
              "#0d0887"
             ],
             [
              0.1111111111111111,
              "#46039f"
             ],
             [
              0.2222222222222222,
              "#7201a8"
             ],
             [
              0.3333333333333333,
              "#9c179e"
             ],
             [
              0.4444444444444444,
              "#bd3786"
             ],
             [
              0.5555555555555556,
              "#d8576b"
             ],
             [
              0.6666666666666666,
              "#ed7953"
             ],
             [
              0.7777777777777778,
              "#fb9f3a"
             ],
             [
              0.8888888888888888,
              "#fdca26"
             ],
             [
              1,
              "#f0f921"
             ]
            ],
            "type": "heatmap"
           }
          ],
          "heatmapgl": [
           {
            "colorbar": {
             "outlinewidth": 0,
             "ticks": ""
            },
            "colorscale": [
             [
              0,
              "#0d0887"
             ],
             [
              0.1111111111111111,
              "#46039f"
             ],
             [
              0.2222222222222222,
              "#7201a8"
             ],
             [
              0.3333333333333333,
              "#9c179e"
             ],
             [
              0.4444444444444444,
              "#bd3786"
             ],
             [
              0.5555555555555556,
              "#d8576b"
             ],
             [
              0.6666666666666666,
              "#ed7953"
             ],
             [
              0.7777777777777778,
              "#fb9f3a"
             ],
             [
              0.8888888888888888,
              "#fdca26"
             ],
             [
              1,
              "#f0f921"
             ]
            ],
            "type": "heatmapgl"
           }
          ],
          "histogram": [
           {
            "marker": {
             "pattern": {
              "fillmode": "overlay",
              "size": 10,
              "solidity": 0.2
             }
            },
            "type": "histogram"
           }
          ],
          "histogram2d": [
           {
            "colorbar": {
             "outlinewidth": 0,
             "ticks": ""
            },
            "colorscale": [
             [
              0,
              "#0d0887"
             ],
             [
              0.1111111111111111,
              "#46039f"
             ],
             [
              0.2222222222222222,
              "#7201a8"
             ],
             [
              0.3333333333333333,
              "#9c179e"
             ],
             [
              0.4444444444444444,
              "#bd3786"
             ],
             [
              0.5555555555555556,
              "#d8576b"
             ],
             [
              0.6666666666666666,
              "#ed7953"
             ],
             [
              0.7777777777777778,
              "#fb9f3a"
             ],
             [
              0.8888888888888888,
              "#fdca26"
             ],
             [
              1,
              "#f0f921"
             ]
            ],
            "type": "histogram2d"
           }
          ],
          "histogram2dcontour": [
           {
            "colorbar": {
             "outlinewidth": 0,
             "ticks": ""
            },
            "colorscale": [
             [
              0,
              "#0d0887"
             ],
             [
              0.1111111111111111,
              "#46039f"
             ],
             [
              0.2222222222222222,
              "#7201a8"
             ],
             [
              0.3333333333333333,
              "#9c179e"
             ],
             [
              0.4444444444444444,
              "#bd3786"
             ],
             [
              0.5555555555555556,
              "#d8576b"
             ],
             [
              0.6666666666666666,
              "#ed7953"
             ],
             [
              0.7777777777777778,
              "#fb9f3a"
             ],
             [
              0.8888888888888888,
              "#fdca26"
             ],
             [
              1,
              "#f0f921"
             ]
            ],
            "type": "histogram2dcontour"
           }
          ],
          "mesh3d": [
           {
            "colorbar": {
             "outlinewidth": 0,
             "ticks": ""
            },
            "type": "mesh3d"
           }
          ],
          "parcoords": [
           {
            "line": {
             "colorbar": {
              "outlinewidth": 0,
              "ticks": ""
             }
            },
            "type": "parcoords"
           }
          ],
          "pie": [
           {
            "automargin": true,
            "type": "pie"
           }
          ],
          "scatter": [
           {
            "fillpattern": {
             "fillmode": "overlay",
             "size": 10,
             "solidity": 0.2
            },
            "type": "scatter"
           }
          ],
          "scatter3d": [
           {
            "line": {
             "colorbar": {
              "outlinewidth": 0,
              "ticks": ""
             }
            },
            "marker": {
             "colorbar": {
              "outlinewidth": 0,
              "ticks": ""
             }
            },
            "type": "scatter3d"
           }
          ],
          "scattercarpet": [
           {
            "marker": {
             "colorbar": {
              "outlinewidth": 0,
              "ticks": ""
             }
            },
            "type": "scattercarpet"
           }
          ],
          "scattergeo": [
           {
            "marker": {
             "colorbar": {
              "outlinewidth": 0,
              "ticks": ""
             }
            },
            "type": "scattergeo"
           }
          ],
          "scattergl": [
           {
            "marker": {
             "colorbar": {
              "outlinewidth": 0,
              "ticks": ""
             }
            },
            "type": "scattergl"
           }
          ],
          "scattermapbox": [
           {
            "marker": {
             "colorbar": {
              "outlinewidth": 0,
              "ticks": ""
             }
            },
            "type": "scattermapbox"
           }
          ],
          "scatterpolar": [
           {
            "marker": {
             "colorbar": {
              "outlinewidth": 0,
              "ticks": ""
             }
            },
            "type": "scatterpolar"
           }
          ],
          "scatterpolargl": [
           {
            "marker": {
             "colorbar": {
              "outlinewidth": 0,
              "ticks": ""
             }
            },
            "type": "scatterpolargl"
           }
          ],
          "scatterternary": [
           {
            "marker": {
             "colorbar": {
              "outlinewidth": 0,
              "ticks": ""
             }
            },
            "type": "scatterternary"
           }
          ],
          "surface": [
           {
            "colorbar": {
             "outlinewidth": 0,
             "ticks": ""
            },
            "colorscale": [
             [
              0,
              "#0d0887"
             ],
             [
              0.1111111111111111,
              "#46039f"
             ],
             [
              0.2222222222222222,
              "#7201a8"
             ],
             [
              0.3333333333333333,
              "#9c179e"
             ],
             [
              0.4444444444444444,
              "#bd3786"
             ],
             [
              0.5555555555555556,
              "#d8576b"
             ],
             [
              0.6666666666666666,
              "#ed7953"
             ],
             [
              0.7777777777777778,
              "#fb9f3a"
             ],
             [
              0.8888888888888888,
              "#fdca26"
             ],
             [
              1,
              "#f0f921"
             ]
            ],
            "type": "surface"
           }
          ],
          "table": [
           {
            "cells": {
             "fill": {
              "color": "#EBF0F8"
             },
             "line": {
              "color": "white"
             }
            },
            "header": {
             "fill": {
              "color": "#C8D4E3"
             },
             "line": {
              "color": "white"
             }
            },
            "type": "table"
           }
          ]
         },
         "layout": {
          "annotationdefaults": {
           "arrowcolor": "#2a3f5f",
           "arrowhead": 0,
           "arrowwidth": 1
          },
          "autotypenumbers": "strict",
          "coloraxis": {
           "colorbar": {
            "outlinewidth": 0,
            "ticks": ""
           }
          },
          "colorscale": {
           "diverging": [
            [
             0,
             "#8e0152"
            ],
            [
             0.1,
             "#c51b7d"
            ],
            [
             0.2,
             "#de77ae"
            ],
            [
             0.3,
             "#f1b6da"
            ],
            [
             0.4,
             "#fde0ef"
            ],
            [
             0.5,
             "#f7f7f7"
            ],
            [
             0.6,
             "#e6f5d0"
            ],
            [
             0.7,
             "#b8e186"
            ],
            [
             0.8,
             "#7fbc41"
            ],
            [
             0.9,
             "#4d9221"
            ],
            [
             1,
             "#276419"
            ]
           ],
           "sequential": [
            [
             0,
             "#0d0887"
            ],
            [
             0.1111111111111111,
             "#46039f"
            ],
            [
             0.2222222222222222,
             "#7201a8"
            ],
            [
             0.3333333333333333,
             "#9c179e"
            ],
            [
             0.4444444444444444,
             "#bd3786"
            ],
            [
             0.5555555555555556,
             "#d8576b"
            ],
            [
             0.6666666666666666,
             "#ed7953"
            ],
            [
             0.7777777777777778,
             "#fb9f3a"
            ],
            [
             0.8888888888888888,
             "#fdca26"
            ],
            [
             1,
             "#f0f921"
            ]
           ],
           "sequentialminus": [
            [
             0,
             "#0d0887"
            ],
            [
             0.1111111111111111,
             "#46039f"
            ],
            [
             0.2222222222222222,
             "#7201a8"
            ],
            [
             0.3333333333333333,
             "#9c179e"
            ],
            [
             0.4444444444444444,
             "#bd3786"
            ],
            [
             0.5555555555555556,
             "#d8576b"
            ],
            [
             0.6666666666666666,
             "#ed7953"
            ],
            [
             0.7777777777777778,
             "#fb9f3a"
            ],
            [
             0.8888888888888888,
             "#fdca26"
            ],
            [
             1,
             "#f0f921"
            ]
           ]
          },
          "colorway": [
           "#636efa",
           "#EF553B",
           "#00cc96",
           "#ab63fa",
           "#FFA15A",
           "#19d3f3",
           "#FF6692",
           "#B6E880",
           "#FF97FF",
           "#FECB52"
          ],
          "font": {
           "color": "#2a3f5f"
          },
          "geo": {
           "bgcolor": "white",
           "lakecolor": "white",
           "landcolor": "#E5ECF6",
           "showlakes": true,
           "showland": true,
           "subunitcolor": "white"
          },
          "hoverlabel": {
           "align": "left"
          },
          "hovermode": "closest",
          "mapbox": {
           "style": "light"
          },
          "paper_bgcolor": "white",
          "plot_bgcolor": "#E5ECF6",
          "polar": {
           "angularaxis": {
            "gridcolor": "white",
            "linecolor": "white",
            "ticks": ""
           },
           "bgcolor": "#E5ECF6",
           "radialaxis": {
            "gridcolor": "white",
            "linecolor": "white",
            "ticks": ""
           }
          },
          "scene": {
           "xaxis": {
            "backgroundcolor": "#E5ECF6",
            "gridcolor": "white",
            "gridwidth": 2,
            "linecolor": "white",
            "showbackground": true,
            "ticks": "",
            "zerolinecolor": "white"
           },
           "yaxis": {
            "backgroundcolor": "#E5ECF6",
            "gridcolor": "white",
            "gridwidth": 2,
            "linecolor": "white",
            "showbackground": true,
            "ticks": "",
            "zerolinecolor": "white"
           },
           "zaxis": {
            "backgroundcolor": "#E5ECF6",
            "gridcolor": "white",
            "gridwidth": 2,
            "linecolor": "white",
            "showbackground": true,
            "ticks": "",
            "zerolinecolor": "white"
           }
          },
          "shapedefaults": {
           "line": {
            "color": "#2a3f5f"
           }
          },
          "ternary": {
           "aaxis": {
            "gridcolor": "white",
            "linecolor": "white",
            "ticks": ""
           },
           "baxis": {
            "gridcolor": "white",
            "linecolor": "white",
            "ticks": ""
           },
           "bgcolor": "#E5ECF6",
           "caxis": {
            "gridcolor": "white",
            "linecolor": "white",
            "ticks": ""
           }
          },
          "title": {
           "x": 0.05
          },
          "xaxis": {
           "automargin": true,
           "gridcolor": "white",
           "linecolor": "white",
           "ticks": "",
           "title": {
            "standoff": 15
           },
           "zerolinecolor": "white",
           "zerolinewidth": 2
          },
          "yaxis": {
           "automargin": true,
           "gridcolor": "white",
           "linecolor": "white",
           "ticks": "",
           "title": {
            "standoff": 15
           },
           "zerolinecolor": "white",
           "zerolinewidth": 2
          }
         }
        },
        "title": {
         "text": "Scores de Précision, Rappel et F1 pour POStag Term Extraction"
        },
        "width": 1000,
        "xaxis": {
         "anchor": "y",
         "domain": [
          0,
          1
         ],
         "title": {
          "text": "Composants"
         }
        },
        "yaxis": {
         "anchor": "x",
         "domain": [
          0,
          1
         ],
         "title": {
          "text": "Scores"
         }
        }
       }
      }
     },
     "metadata": {},
     "output_type": "display_data"
    },
    {
     "data": {
      "application/vnd.plotly.v1+json": {
       "config": {
        "plotlyServerURL": "https://plot.ly"
       },
       "data": [
        {
         "alignmentgroup": "True",
         "hovertemplate": "Métrique=Precision<br>Composant=%{x}<br>Score=%{y}<extra></extra>",
         "legendgroup": "Precision",
         "marker": {
          "color": "#636efa",
          "pattern": {
           "shape": ""
          }
         },
         "name": "Precision",
         "offsetgroup": "Precision",
         "orientation": "v",
         "showlegend": true,
         "textposition": "auto",
         "type": "bar",
         "x": [
          "CandidatToConcept",
          "SynonymToConcept",
          "AgglomerativeClustering"
         ],
         "xaxis": "x",
         "y": [
          1,
          1,
          1
         ],
         "yaxis": "y"
        },
        {
         "alignmentgroup": "True",
         "hovertemplate": "Métrique=Rappel<br>Composant=%{x}<br>Score=%{y}<extra></extra>",
         "legendgroup": "Rappel",
         "marker": {
          "color": "#EF553B",
          "pattern": {
           "shape": ""
          }
         },
         "name": "Rappel",
         "offsetgroup": "Rappel",
         "orientation": "v",
         "showlegend": true,
         "textposition": "auto",
         "type": "bar",
         "x": [
          "CandidatToConcept",
          "SynonymToConcept",
          "AgglomerativeClustering"
         ],
         "xaxis": "x",
         "y": [
          0.07662835249042145,
          0.07692307692307693,
          0.11173184357541899
         ],
         "yaxis": "y"
        },
        {
         "alignmentgroup": "True",
         "hovertemplate": "Métrique=F1<br>Composant=%{x}<br>Score=%{y}<extra></extra>",
         "legendgroup": "F1",
         "marker": {
          "color": "#00cc96",
          "pattern": {
           "shape": ""
          }
         },
         "name": "F1",
         "offsetgroup": "F1",
         "orientation": "v",
         "showlegend": true,
         "textposition": "auto",
         "type": "bar",
         "x": [
          "CandidatToConcept",
          "SynonymToConcept",
          "AgglomerativeClustering"
         ],
         "xaxis": "x",
         "y": [
          0.14234875444839856,
          0.14285714285714288,
          0.20100502512562812
         ],
         "yaxis": "y"
        }
       ],
       "layout": {
        "barmode": "group",
        "height": 600,
        "legend": {
         "title": {
          "text": "Métrique"
         },
         "tracegroupgap": 0
        },
        "template": {
         "data": {
          "bar": [
           {
            "error_x": {
             "color": "#2a3f5f"
            },
            "error_y": {
             "color": "#2a3f5f"
            },
            "marker": {
             "line": {
              "color": "#E5ECF6",
              "width": 0.5
             },
             "pattern": {
              "fillmode": "overlay",
              "size": 10,
              "solidity": 0.2
             }
            },
            "type": "bar"
           }
          ],
          "barpolar": [
           {
            "marker": {
             "line": {
              "color": "#E5ECF6",
              "width": 0.5
             },
             "pattern": {
              "fillmode": "overlay",
              "size": 10,
              "solidity": 0.2
             }
            },
            "type": "barpolar"
           }
          ],
          "carpet": [
           {
            "aaxis": {
             "endlinecolor": "#2a3f5f",
             "gridcolor": "white",
             "linecolor": "white",
             "minorgridcolor": "white",
             "startlinecolor": "#2a3f5f"
            },
            "baxis": {
             "endlinecolor": "#2a3f5f",
             "gridcolor": "white",
             "linecolor": "white",
             "minorgridcolor": "white",
             "startlinecolor": "#2a3f5f"
            },
            "type": "carpet"
           }
          ],
          "choropleth": [
           {
            "colorbar": {
             "outlinewidth": 0,
             "ticks": ""
            },
            "type": "choropleth"
           }
          ],
          "contour": [
           {
            "colorbar": {
             "outlinewidth": 0,
             "ticks": ""
            },
            "colorscale": [
             [
              0,
              "#0d0887"
             ],
             [
              0.1111111111111111,
              "#46039f"
             ],
             [
              0.2222222222222222,
              "#7201a8"
             ],
             [
              0.3333333333333333,
              "#9c179e"
             ],
             [
              0.4444444444444444,
              "#bd3786"
             ],
             [
              0.5555555555555556,
              "#d8576b"
             ],
             [
              0.6666666666666666,
              "#ed7953"
             ],
             [
              0.7777777777777778,
              "#fb9f3a"
             ],
             [
              0.8888888888888888,
              "#fdca26"
             ],
             [
              1,
              "#f0f921"
             ]
            ],
            "type": "contour"
           }
          ],
          "contourcarpet": [
           {
            "colorbar": {
             "outlinewidth": 0,
             "ticks": ""
            },
            "type": "contourcarpet"
           }
          ],
          "heatmap": [
           {
            "colorbar": {
             "outlinewidth": 0,
             "ticks": ""
            },
            "colorscale": [
             [
              0,
              "#0d0887"
             ],
             [
              0.1111111111111111,
              "#46039f"
             ],
             [
              0.2222222222222222,
              "#7201a8"
             ],
             [
              0.3333333333333333,
              "#9c179e"
             ],
             [
              0.4444444444444444,
              "#bd3786"
             ],
             [
              0.5555555555555556,
              "#d8576b"
             ],
             [
              0.6666666666666666,
              "#ed7953"
             ],
             [
              0.7777777777777778,
              "#fb9f3a"
             ],
             [
              0.8888888888888888,
              "#fdca26"
             ],
             [
              1,
              "#f0f921"
             ]
            ],
            "type": "heatmap"
           }
          ],
          "heatmapgl": [
           {
            "colorbar": {
             "outlinewidth": 0,
             "ticks": ""
            },
            "colorscale": [
             [
              0,
              "#0d0887"
             ],
             [
              0.1111111111111111,
              "#46039f"
             ],
             [
              0.2222222222222222,
              "#7201a8"
             ],
             [
              0.3333333333333333,
              "#9c179e"
             ],
             [
              0.4444444444444444,
              "#bd3786"
             ],
             [
              0.5555555555555556,
              "#d8576b"
             ],
             [
              0.6666666666666666,
              "#ed7953"
             ],
             [
              0.7777777777777778,
              "#fb9f3a"
             ],
             [
              0.8888888888888888,
              "#fdca26"
             ],
             [
              1,
              "#f0f921"
             ]
            ],
            "type": "heatmapgl"
           }
          ],
          "histogram": [
           {
            "marker": {
             "pattern": {
              "fillmode": "overlay",
              "size": 10,
              "solidity": 0.2
             }
            },
            "type": "histogram"
           }
          ],
          "histogram2d": [
           {
            "colorbar": {
             "outlinewidth": 0,
             "ticks": ""
            },
            "colorscale": [
             [
              0,
              "#0d0887"
             ],
             [
              0.1111111111111111,
              "#46039f"
             ],
             [
              0.2222222222222222,
              "#7201a8"
             ],
             [
              0.3333333333333333,
              "#9c179e"
             ],
             [
              0.4444444444444444,
              "#bd3786"
             ],
             [
              0.5555555555555556,
              "#d8576b"
             ],
             [
              0.6666666666666666,
              "#ed7953"
             ],
             [
              0.7777777777777778,
              "#fb9f3a"
             ],
             [
              0.8888888888888888,
              "#fdca26"
             ],
             [
              1,
              "#f0f921"
             ]
            ],
            "type": "histogram2d"
           }
          ],
          "histogram2dcontour": [
           {
            "colorbar": {
             "outlinewidth": 0,
             "ticks": ""
            },
            "colorscale": [
             [
              0,
              "#0d0887"
             ],
             [
              0.1111111111111111,
              "#46039f"
             ],
             [
              0.2222222222222222,
              "#7201a8"
             ],
             [
              0.3333333333333333,
              "#9c179e"
             ],
             [
              0.4444444444444444,
              "#bd3786"
             ],
             [
              0.5555555555555556,
              "#d8576b"
             ],
             [
              0.6666666666666666,
              "#ed7953"
             ],
             [
              0.7777777777777778,
              "#fb9f3a"
             ],
             [
              0.8888888888888888,
              "#fdca26"
             ],
             [
              1,
              "#f0f921"
             ]
            ],
            "type": "histogram2dcontour"
           }
          ],
          "mesh3d": [
           {
            "colorbar": {
             "outlinewidth": 0,
             "ticks": ""
            },
            "type": "mesh3d"
           }
          ],
          "parcoords": [
           {
            "line": {
             "colorbar": {
              "outlinewidth": 0,
              "ticks": ""
             }
            },
            "type": "parcoords"
           }
          ],
          "pie": [
           {
            "automargin": true,
            "type": "pie"
           }
          ],
          "scatter": [
           {
            "fillpattern": {
             "fillmode": "overlay",
             "size": 10,
             "solidity": 0.2
            },
            "type": "scatter"
           }
          ],
          "scatter3d": [
           {
            "line": {
             "colorbar": {
              "outlinewidth": 0,
              "ticks": ""
             }
            },
            "marker": {
             "colorbar": {
              "outlinewidth": 0,
              "ticks": ""
             }
            },
            "type": "scatter3d"
           }
          ],
          "scattercarpet": [
           {
            "marker": {
             "colorbar": {
              "outlinewidth": 0,
              "ticks": ""
             }
            },
            "type": "scattercarpet"
           }
          ],
          "scattergeo": [
           {
            "marker": {
             "colorbar": {
              "outlinewidth": 0,
              "ticks": ""
             }
            },
            "type": "scattergeo"
           }
          ],
          "scattergl": [
           {
            "marker": {
             "colorbar": {
              "outlinewidth": 0,
              "ticks": ""
             }
            },
            "type": "scattergl"
           }
          ],
          "scattermapbox": [
           {
            "marker": {
             "colorbar": {
              "outlinewidth": 0,
              "ticks": ""
             }
            },
            "type": "scattermapbox"
           }
          ],
          "scatterpolar": [
           {
            "marker": {
             "colorbar": {
              "outlinewidth": 0,
              "ticks": ""
             }
            },
            "type": "scatterpolar"
           }
          ],
          "scatterpolargl": [
           {
            "marker": {
             "colorbar": {
              "outlinewidth": 0,
              "ticks": ""
             }
            },
            "type": "scatterpolargl"
           }
          ],
          "scatterternary": [
           {
            "marker": {
             "colorbar": {
              "outlinewidth": 0,
              "ticks": ""
             }
            },
            "type": "scatterternary"
           }
          ],
          "surface": [
           {
            "colorbar": {
             "outlinewidth": 0,
             "ticks": ""
            },
            "colorscale": [
             [
              0,
              "#0d0887"
             ],
             [
              0.1111111111111111,
              "#46039f"
             ],
             [
              0.2222222222222222,
              "#7201a8"
             ],
             [
              0.3333333333333333,
              "#9c179e"
             ],
             [
              0.4444444444444444,
              "#bd3786"
             ],
             [
              0.5555555555555556,
              "#d8576b"
             ],
             [
              0.6666666666666666,
              "#ed7953"
             ],
             [
              0.7777777777777778,
              "#fb9f3a"
             ],
             [
              0.8888888888888888,
              "#fdca26"
             ],
             [
              1,
              "#f0f921"
             ]
            ],
            "type": "surface"
           }
          ],
          "table": [
           {
            "cells": {
             "fill": {
              "color": "#EBF0F8"
             },
             "line": {
              "color": "white"
             }
            },
            "header": {
             "fill": {
              "color": "#C8D4E3"
             },
             "line": {
              "color": "white"
             }
            },
            "type": "table"
           }
          ]
         },
         "layout": {
          "annotationdefaults": {
           "arrowcolor": "#2a3f5f",
           "arrowhead": 0,
           "arrowwidth": 1
          },
          "autotypenumbers": "strict",
          "coloraxis": {
           "colorbar": {
            "outlinewidth": 0,
            "ticks": ""
           }
          },
          "colorscale": {
           "diverging": [
            [
             0,
             "#8e0152"
            ],
            [
             0.1,
             "#c51b7d"
            ],
            [
             0.2,
             "#de77ae"
            ],
            [
             0.3,
             "#f1b6da"
            ],
            [
             0.4,
             "#fde0ef"
            ],
            [
             0.5,
             "#f7f7f7"
            ],
            [
             0.6,
             "#e6f5d0"
            ],
            [
             0.7,
             "#b8e186"
            ],
            [
             0.8,
             "#7fbc41"
            ],
            [
             0.9,
             "#4d9221"
            ],
            [
             1,
             "#276419"
            ]
           ],
           "sequential": [
            [
             0,
             "#0d0887"
            ],
            [
             0.1111111111111111,
             "#46039f"
            ],
            [
             0.2222222222222222,
             "#7201a8"
            ],
            [
             0.3333333333333333,
             "#9c179e"
            ],
            [
             0.4444444444444444,
             "#bd3786"
            ],
            [
             0.5555555555555556,
             "#d8576b"
            ],
            [
             0.6666666666666666,
             "#ed7953"
            ],
            [
             0.7777777777777778,
             "#fb9f3a"
            ],
            [
             0.8888888888888888,
             "#fdca26"
            ],
            [
             1,
             "#f0f921"
            ]
           ],
           "sequentialminus": [
            [
             0,
             "#0d0887"
            ],
            [
             0.1111111111111111,
             "#46039f"
            ],
            [
             0.2222222222222222,
             "#7201a8"
            ],
            [
             0.3333333333333333,
             "#9c179e"
            ],
            [
             0.4444444444444444,
             "#bd3786"
            ],
            [
             0.5555555555555556,
             "#d8576b"
            ],
            [
             0.6666666666666666,
             "#ed7953"
            ],
            [
             0.7777777777777778,
             "#fb9f3a"
            ],
            [
             0.8888888888888888,
             "#fdca26"
            ],
            [
             1,
             "#f0f921"
            ]
           ]
          },
          "colorway": [
           "#636efa",
           "#EF553B",
           "#00cc96",
           "#ab63fa",
           "#FFA15A",
           "#19d3f3",
           "#FF6692",
           "#B6E880",
           "#FF97FF",
           "#FECB52"
          ],
          "font": {
           "color": "#2a3f5f"
          },
          "geo": {
           "bgcolor": "white",
           "lakecolor": "white",
           "landcolor": "#E5ECF6",
           "showlakes": true,
           "showland": true,
           "subunitcolor": "white"
          },
          "hoverlabel": {
           "align": "left"
          },
          "hovermode": "closest",
          "mapbox": {
           "style": "light"
          },
          "paper_bgcolor": "white",
          "plot_bgcolor": "#E5ECF6",
          "polar": {
           "angularaxis": {
            "gridcolor": "white",
            "linecolor": "white",
            "ticks": ""
           },
           "bgcolor": "#E5ECF6",
           "radialaxis": {
            "gridcolor": "white",
            "linecolor": "white",
            "ticks": ""
           }
          },
          "scene": {
           "xaxis": {
            "backgroundcolor": "#E5ECF6",
            "gridcolor": "white",
            "gridwidth": 2,
            "linecolor": "white",
            "showbackground": true,
            "ticks": "",
            "zerolinecolor": "white"
           },
           "yaxis": {
            "backgroundcolor": "#E5ECF6",
            "gridcolor": "white",
            "gridwidth": 2,
            "linecolor": "white",
            "showbackground": true,
            "ticks": "",
            "zerolinecolor": "white"
           },
           "zaxis": {
            "backgroundcolor": "#E5ECF6",
            "gridcolor": "white",
            "gridwidth": 2,
            "linecolor": "white",
            "showbackground": true,
            "ticks": "",
            "zerolinecolor": "white"
           }
          },
          "shapedefaults": {
           "line": {
            "color": "#2a3f5f"
           }
          },
          "ternary": {
           "aaxis": {
            "gridcolor": "white",
            "linecolor": "white",
            "ticks": ""
           },
           "baxis": {
            "gridcolor": "white",
            "linecolor": "white",
            "ticks": ""
           },
           "bgcolor": "#E5ECF6",
           "caxis": {
            "gridcolor": "white",
            "linecolor": "white",
            "ticks": ""
           }
          },
          "title": {
           "x": 0.05
          },
          "xaxis": {
           "automargin": true,
           "gridcolor": "white",
           "linecolor": "white",
           "ticks": "",
           "title": {
            "standoff": 15
           },
           "zerolinecolor": "white",
           "zerolinewidth": 2
          },
          "yaxis": {
           "automargin": true,
           "gridcolor": "white",
           "linecolor": "white",
           "ticks": "",
           "title": {
            "standoff": 15
           },
           "zerolinecolor": "white",
           "zerolinewidth": 2
          }
         }
        },
        "title": {
         "text": "Scores de Précision, Rappel et F1 pour TFIDF Term Extraction"
        },
        "width": 1000,
        "xaxis": {
         "anchor": "y",
         "domain": [
          0,
          1
         ],
         "title": {
          "text": "Composants"
         }
        },
        "yaxis": {
         "anchor": "x",
         "domain": [
          0,
          1
         ],
         "title": {
          "text": "Scores"
         }
        }
       }
      }
     },
     "metadata": {},
     "output_type": "display_data"
    }
   ],
   "source": [
    "def create_bar_chart(index_name, data):\n",
    "    precision = data.loc[index_name].xs('Precision', level=1)\n",
    "    rappel = data.loc[index_name].xs('Rappel', level=1)\n",
    "    f1 = data.loc[index_name].xs('F1', level=1)\n",
    "\n",
    "    fig = go.Figure(data=[\n",
    "        go.Bar(name='Précision', x=data.columns.levels[0], y=precision),\n",
    "        go.Bar(name='Rappel', x=data.columns.levels[0], y=rappel),\n",
    "        go.Bar(name='F1', x=data.columns.levels[0], y=f1)\n",
    "    ])\n",
    "    \n",
    "    # Modifier la disposition du graphique\n",
    "    fig.update_layout(\n",
    "        title=f'Scores de Précision, Rappel et F1 pour {index_name}',\n",
    "        xaxis_title='Composants',\n",
    "        yaxis_title='Scores',\n",
    "        barmode='group'\n",
    "    )\n",
    "    \n",
    "    fig.show()\n",
    "\n",
    "data_long = pipelines_scores.reset_index().melt(id_vars='index', var_name=['Composant', 'Métrique'], value_name='Score')\n",
    "data_long.rename(columns={'index': 'Extraction'}, inplace=True)\n",
    "\n",
    "def create_bar_chart(index_name, data):\n",
    "    df = data[data['Extraction'] == index_name]\n",
    "    fig = px.bar(df, x='Composant', y='Score', color='Métrique', barmode='group',\n",
    "                 title=f'Scores de Précision, Rappel et F1 pour {index_name}')\n",
    "    \n",
    "    fig.update_layout(\n",
    "        xaxis_title='Composants',\n",
    "        yaxis_title='Scores'\n",
    "    )\n",
    "    fig.update_layout(width=1000, height=600)\n",
    "    fig.show()\n",
    "\n",
    "# Créer un diagramme en barres pour chaque index\n",
    "for idx in term_extraction_components:\n",
    "    create_bar_chart(idx, data_long)"
   ]
  },
  {
   "cell_type": "code",
   "execution_count": 46,
   "metadata": {},
   "outputs": [
    {
     "name": "stdout",
     "output_type": "stream",
     "text": [
      "\n",
      "DataFrame avec les composants ayant la plus grande F1:\n",
      "                       Precision    Rappel        F1\n",
      "LLM Term Extraction         0.85  0.566667      0.68\n",
      "POStag Term Extraction       0.6  0.190476  0.289157\n",
      "TFIDF Term Extraction        1.0  0.111732  0.201005\n"
     ]
    }
   ],
   "source": [
    "# Construire un nouveau DataFrame avec les composants ayant la plus grande F1\n",
    "new_data = pd.DataFrame(index=term_extraction_components, columns=['Precision', 'Rappel', 'F1'])\n",
    "\n",
    "for idx in term_extraction_components:\n",
    "    f1_scores = pipelines_scores.loc[idx].xs('F1', level=1)\n",
    "    max_f1_component = f1_scores.idxmax()\n",
    "    new_data.loc[idx] = pipelines_scores.loc[idx][max_f1_component]\n",
    "\n",
    "# Afficher le nouveau DataFrame\n",
    "print(\"\\nDataFrame avec les composants ayant la plus grande F1:\")\n",
    "print(new_data)"
   ]
  },
  {
   "cell_type": "code",
   "execution_count": 47,
   "metadata": {},
   "outputs": [
    {
     "name": "stdout",
     "output_type": "stream",
     "text": [
      "LLM Term Extraction: 0.9 & 0.514 & 0.655 & 0.9 & 0.514 & 0.655 & 0.85 & 0.567 & 0.68\n",
      "POStag Term Extraction: 0.6 & 0.164 & 0.258 & 0.6 & 0.164 & 0.258 & 0.6 & 0.19 & 0.289\n",
      "TFIDF Term Extraction: 1.0 & 0.077 & 0.142 & 1.0 & 0.077 & 0.143 & 1.0 & 0.112 & 0.201\n"
     ]
    }
   ],
   "source": [
    "for idx, row in pipelines_scores.iterrows():\n",
    "    rounded_values = [round(val, 3) for val in row]  # Arrondir les valeurs à 3 chiffres après la virgule\n",
    "    values_str = ' & '.join(map(str, rounded_values))\n",
    "    print(f\"{idx}: {values_str}\")"
   ]
  },
  {
   "cell_type": "code",
   "execution_count": 56,
   "metadata": {},
   "outputs": [
    {
     "data": {
      "text/plain": [
       "2"
      ]
     },
     "execution_count": 56,
     "metadata": {},
     "output_type": "execute_result"
    }
   ],
   "source": [
    "l = [(45, 54, 27), (14, 78, 45), (4, 36, 78)]\n",
    "arr = np.array(l)\n",
    "np.argmin(arr[:, 1])\n",
    "# arr[:, 1]"
   ]
  }
 ],
 "metadata": {
  "kernelspec": {
   "display_name": "env",
   "language": "python",
   "name": "python3"
  },
  "language_info": {
   "codemirror_mode": {
    "name": "ipython",
    "version": 3
   },
   "file_extension": ".py",
   "mimetype": "text/x-python",
   "name": "python",
   "nbconvert_exporter": "python",
   "pygments_lexer": "ipython3",
   "version": "3.10.12"
  }
 },
 "nbformat": 4,
 "nbformat_minor": 2
}
